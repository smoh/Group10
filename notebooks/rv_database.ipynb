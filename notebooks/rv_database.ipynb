{
 "cells": [
  {
   "cell_type": "code",
   "execution_count": 1,
   "metadata": {
    "collapsed": false
   },
   "outputs": [],
   "source": [
    "%matplotlib inline\n",
    "import matplotlib.pyplot as plt\n",
    "import pandas as pd\n",
    "import numpy as np\n",
    "\n",
    "from astropy.table import Table"
   ]
  },
  {
   "cell_type": "code",
   "execution_count": 2,
   "metadata": {
    "collapsed": false
   },
   "outputs": [],
   "source": [
    "plt.style.use(\"fivethirtyeight\")"
   ]
  },
  {
   "cell_type": "markdown",
   "metadata": {},
   "source": [
    "All RV measurements for all stars are compiled from Simbad using TAP Service using the following query:\n",
    "\n",
    "```\n",
    "SELECT t.name, bibcode, nbmes, obsdate, qual, quality,\n",
    "    velType, velValue, velValue_prec, remark, remarks, ident.oidref\n",
    "FROM TAP_UPLOAD.mytable as t JOIN ident ON t.name = ident.id\n",
    "JOIN mesVelocities ON mesVelocities.oidref = ident.oidref\n",
    "```\n",
    "where I upload a table of one column of hipparcos or tycho2 id strings."
   ]
  },
  {
   "cell_type": "code",
   "execution_count": 3,
   "metadata": {
    "collapsed": true
   },
   "outputs": [],
   "source": [
    "dfrv = pd.read_csv(\"../data/star_rv.csv\")"
   ]
  },
  {
   "cell_type": "code",
   "execution_count": 4,
   "metadata": {
    "collapsed": false
   },
   "outputs": [
    {
     "data": {
      "text/html": [
       "<div>\n",
       "<table border=\"1\" class=\"dataframe\">\n",
       "  <thead>\n",
       "    <tr style=\"text-align: right;\">\n",
       "      <th></th>\n",
       "      <th>name</th>\n",
       "      <th>bibcode</th>\n",
       "      <th>nbmes</th>\n",
       "      <th>obsdate</th>\n",
       "      <th>qual</th>\n",
       "      <th>quality</th>\n",
       "      <th>velType</th>\n",
       "      <th>velValue</th>\n",
       "      <th>velValue_prec</th>\n",
       "      <th>remark</th>\n",
       "      <th>remarks</th>\n",
       "      <th>oidref</th>\n",
       "    </tr>\n",
       "  </thead>\n",
       "  <tbody>\n",
       "    <tr>\n",
       "      <th>0</th>\n",
       "      <td>TYC 8082-63-1</td>\n",
       "      <td>17AJ....153...7521K</td>\n",
       "      <td>1.0</td>\n",
       "      <td>55519.627</td>\n",
       "      <td>B</td>\n",
       "      <td>B</td>\n",
       "      <td>v</td>\n",
       "      <td>12.01</td>\n",
       "      <td>2.0</td>\n",
       "      <td>NaN</td>\n",
       "      <td>NaN</td>\n",
       "      <td>3012043.0</td>\n",
       "    </tr>\n",
       "    <tr>\n",
       "      <th>1</th>\n",
       "      <td>TYC 6754-1347-1</td>\n",
       "      <td>17AJ....153...7521K</td>\n",
       "      <td>1.0</td>\n",
       "      <td>54673.365</td>\n",
       "      <td>B</td>\n",
       "      <td>B</td>\n",
       "      <td>v</td>\n",
       "      <td>-49.15</td>\n",
       "      <td>2.0</td>\n",
       "      <td>NaN</td>\n",
       "      <td>NaN</td>\n",
       "      <td>2298060.0</td>\n",
       "    </tr>\n",
       "    <tr>\n",
       "      <th>2</th>\n",
       "      <td>HIP 101787</td>\n",
       "      <td>2004A&amp;A...418..989N</td>\n",
       "      <td>1.0</td>\n",
       "      <td>NaN</td>\n",
       "      <td>NaN</td>\n",
       "      <td>C</td>\n",
       "      <td>v</td>\n",
       "      <td>-12.20</td>\n",
       "      <td>1.0</td>\n",
       "      <td>NaN</td>\n",
       "      <td>NaN</td>\n",
       "      <td>3515023.0</td>\n",
       "    </tr>\n",
       "    <tr>\n",
       "      <th>3</th>\n",
       "      <td>HIP 101787</td>\n",
       "      <td>2006AstL...32..759G</td>\n",
       "      <td>NaN</td>\n",
       "      <td>NaN</td>\n",
       "      <td>NaN</td>\n",
       "      <td>C</td>\n",
       "      <td>V</td>\n",
       "      <td>-12.40</td>\n",
       "      <td>2.0</td>\n",
       "      <td>NaN</td>\n",
       "      <td>NaN</td>\n",
       "      <td>3515023.0</td>\n",
       "    </tr>\n",
       "    <tr>\n",
       "      <th>4</th>\n",
       "      <td>TYC 5899-26-1</td>\n",
       "      <td>2012ApJ...758...56S</td>\n",
       "      <td>NaN</td>\n",
       "      <td>NaN</td>\n",
       "      <td>NaN</td>\n",
       "      <td>NaN</td>\n",
       "      <td>v</td>\n",
       "      <td>27.90</td>\n",
       "      <td>1.0</td>\n",
       "      <td>NaN</td>\n",
       "      <td>NaN</td>\n",
       "      <td>738151.0</td>\n",
       "    </tr>\n",
       "  </tbody>\n",
       "</table>\n",
       "</div>"
      ],
      "text/plain": [
       "              name              bibcode  nbmes    obsdate qual quality  \\\n",
       "0    TYC 8082-63-1  17AJ....153...7521K    1.0  55519.627    B       B   \n",
       "1  TYC 6754-1347-1  17AJ....153...7521K    1.0  54673.365    B       B   \n",
       "2       HIP 101787  2004A&A...418..989N    1.0        NaN  NaN       C   \n",
       "3       HIP 101787  2006AstL...32..759G    NaN        NaN  NaN       C   \n",
       "4    TYC 5899-26-1  2012ApJ...758...56S    NaN        NaN  NaN     NaN   \n",
       "\n",
       "  velType  velValue  velValue_prec  remark remarks     oidref  \n",
       "0     v       12.01            2.0     NaN     NaN  3012043.0  \n",
       "1     v      -49.15            2.0     NaN     NaN  2298060.0  \n",
       "2     v      -12.20            1.0     NaN     NaN  3515023.0  \n",
       "3     V      -12.40            2.0     NaN     NaN  3515023.0  \n",
       "4     v       27.90            1.0     NaN     NaN   738151.0  "
      ]
     },
     "execution_count": 4,
     "metadata": {},
     "output_type": "execute_result"
    }
   ],
   "source": [
    "dfrv.head()"
   ]
  },
  {
   "cell_type": "code",
   "execution_count": 5,
   "metadata": {
    "collapsed": false
   },
   "outputs": [
    {
     "data": {
      "text/plain": [
       "quality        \n",
       "A        count                 508\n",
       "         unique                360\n",
       "         top            HIP 107362\n",
       "         freq                    6\n",
       "B        count                 864\n",
       "         unique                709\n",
       "         top       TYC 6166-1405-1\n",
       "         freq                    4\n",
       "C        count                 382\n",
       "         unique                313\n",
       "         top         TYC 7281-20-1\n",
       "         freq                    3\n",
       "D        count                  89\n",
       "         unique                 84\n",
       "         top       TYC 8966-1241-1\n",
       "         freq                    3\n",
       "E        count                  31\n",
       "         unique                 30\n",
       "         top            HIP 109388\n",
       "         freq                    2\n",
       "Name: name, dtype: object"
      ]
     },
     "execution_count": 5,
     "metadata": {},
     "output_type": "execute_result"
    }
   ],
   "source": [
    "dfrv.groupby(\"quality\")['name'].describe()"
   ]
  },
  {
   "cell_type": "code",
   "execution_count": 6,
   "metadata": {
    "collapsed": false
   },
   "outputs": [],
   "source": [
    "rvA = dfrv.loc[dfrv.quality == 'A'].groupby(\"name\")"
   ]
  },
  {
   "cell_type": "code",
   "execution_count": 7,
   "metadata": {
    "collapsed": false
   },
   "outputs": [],
   "source": [
    "# see if multiple quality A measurements agree with each other\n",
    "rvAmulti = rvA.filter(lambda x:x.bibcode.unique().size>1)"
   ]
  },
  {
   "cell_type": "code",
   "execution_count": 8,
   "metadata": {
    "collapsed": false
   },
   "outputs": [
    {
     "data": {
      "text/plain": [
       "<matplotlib.axes._subplots.AxesSubplot at 0x10e722240>"
      ]
     },
     "execution_count": 8,
     "metadata": {},
     "output_type": "execute_result"
    },
    {
     "data": {
      "image/png": "[encoded data removed]",
      "text/plain": [
       "<matplotlib.figure.Figure at 0x10d6d14e0>"
      ]
     },
     "metadata": {},
     "output_type": "display_data"
    }
   ],
   "source": [
    "rvAmulti.groupby(\"name\").velValue.agg(lambda x: np.abs((x.max()-x.min())/x.mean())).hist(bins=np.linspace(0,1,50))"
   ]
  },
  {
   "cell_type": "code",
   "execution_count": 9,
   "metadata": {
    "collapsed": false
   },
   "outputs": [
    {
     "name": "stderr",
     "output_type": "stream",
     "text": [
      "/Users/semyeong/anaconda2/envs/gwb/lib/python3.5/site-packages/ipykernel/__main__.py:1: RuntimeWarning: invalid value encountered in double_scalars\n",
      "  if __name__ == '__main__':\n"
     ]
    },
    {
     "data": {
      "text/plain": [
       "(0.1, 10000.0)"
      ]
     },
     "execution_count": 9,
     "metadata": {},
     "output_type": "execute_result"
    },
    {
     "data": {
      "image/png": "[encoded data removed]",
      "text/plain": [
       "<matplotlib.figure.Figure at 0x10ea216a0>"
      ]
     },
     "metadata": {},
     "output_type": "display_data"
    }
   ],
   "source": [
    "dfrv.groupby(\"name\").velValue.agg(lambda x: np.abs((x.max()-x.min())/x.mean())).hist(bins=50, log=True)\n",
    "plt.ylim(0.1)"
   ]
  },
  {
   "cell_type": "code",
   "execution_count": 10,
   "metadata": {
    "collapsed": false
   },
   "outputs": [
    {
     "data": {
      "text/html": [
       "<div>\n",
       "<table border=\"1\" class=\"dataframe\">\n",
       "  <thead>\n",
       "    <tr style=\"text-align: right;\">\n",
       "      <th></th>\n",
       "      <th>name</th>\n",
       "      <th>bibcode</th>\n",
       "      <th>nbmes</th>\n",
       "      <th>obsdate</th>\n",
       "      <th>qual</th>\n",
       "      <th>quality</th>\n",
       "      <th>velType</th>\n",
       "      <th>velValue</th>\n",
       "      <th>velValue_prec</th>\n",
       "      <th>remark</th>\n",
       "      <th>remarks</th>\n",
       "      <th>oidref</th>\n",
       "    </tr>\n",
       "  </thead>\n",
       "  <tbody>\n",
       "    <tr>\n",
       "      <th>322</th>\n",
       "      <td>HIP 107362</td>\n",
       "      <td>17AJ....153...7521K</td>\n",
       "      <td>1.0</td>\n",
       "      <td>53610.564</td>\n",
       "      <td>A</td>\n",
       "      <td>A</td>\n",
       "      <td>v</td>\n",
       "      <td>16.640000</td>\n",
       "      <td>2.0</td>\n",
       "      <td>NaN</td>\n",
       "      <td>NaN</td>\n",
       "      <td>3470803.0</td>\n",
       "    </tr>\n",
       "    <tr>\n",
       "      <th>323</th>\n",
       "      <td>HIP 107362</td>\n",
       "      <td>2013A&amp;A...552A..64S</td>\n",
       "      <td>NaN</td>\n",
       "      <td>NaN</td>\n",
       "      <td>NaN</td>\n",
       "      <td>A</td>\n",
       "      <td>z</td>\n",
       "      <td>19.374000</td>\n",
       "      <td>3.0</td>\n",
       "      <td>NaN</td>\n",
       "      <td>NaN</td>\n",
       "      <td>3470803.0</td>\n",
       "    </tr>\n",
       "    <tr>\n",
       "      <th>324</th>\n",
       "      <td>HIP 107362</td>\n",
       "      <td>2011AJ....141..187S</td>\n",
       "      <td>1.0</td>\n",
       "      <td>53609.000</td>\n",
       "      <td>A</td>\n",
       "      <td>A</td>\n",
       "      <td>v</td>\n",
       "      <td>18.619000</td>\n",
       "      <td>3.0</td>\n",
       "      <td>NaN</td>\n",
       "      <td>NaN</td>\n",
       "      <td>3470803.0</td>\n",
       "    </tr>\n",
       "    <tr>\n",
       "      <th>325</th>\n",
       "      <td>HIP 107362</td>\n",
       "      <td>2011AJ....141..187S</td>\n",
       "      <td>1.0</td>\n",
       "      <td>53609.000</td>\n",
       "      <td>A</td>\n",
       "      <td>A</td>\n",
       "      <td>v</td>\n",
       "      <td>16.644000</td>\n",
       "      <td>3.0</td>\n",
       "      <td>NaN</td>\n",
       "      <td>NaN</td>\n",
       "      <td>3470803.0</td>\n",
       "    </tr>\n",
       "    <tr>\n",
       "      <th>326</th>\n",
       "      <td>HIP 107362</td>\n",
       "      <td>2006AstL...32..759G</td>\n",
       "      <td>NaN</td>\n",
       "      <td>NaN</td>\n",
       "      <td>NaN</td>\n",
       "      <td>A</td>\n",
       "      <td>V</td>\n",
       "      <td>18.000000</td>\n",
       "      <td>2.0</td>\n",
       "      <td>NaN</td>\n",
       "      <td>NaN</td>\n",
       "      <td>3470803.0</td>\n",
       "    </tr>\n",
       "    <tr>\n",
       "      <th>327</th>\n",
       "      <td>HIP 107362</td>\n",
       "      <td>2004A&amp;A...418..989N</td>\n",
       "      <td>5.0</td>\n",
       "      <td>NaN</td>\n",
       "      <td>NaN</td>\n",
       "      <td>A</td>\n",
       "      <td>v</td>\n",
       "      <td>19.299999</td>\n",
       "      <td>1.0</td>\n",
       "      <td>NaN</td>\n",
       "      <td>NaN</td>\n",
       "      <td>3470803.0</td>\n",
       "    </tr>\n",
       "    <tr>\n",
       "      <th>518</th>\n",
       "      <td>TYC 7464-1208-1</td>\n",
       "      <td>17AJ....153...7521K</td>\n",
       "      <td>1.0</td>\n",
       "      <td>53133.762</td>\n",
       "      <td>A</td>\n",
       "      <td>A</td>\n",
       "      <td>v</td>\n",
       "      <td>5.720000</td>\n",
       "      <td>2.0</td>\n",
       "      <td>NaN</td>\n",
       "      <td>NaN</td>\n",
       "      <td>2340062.0</td>\n",
       "    </tr>\n",
       "    <tr>\n",
       "      <th>519</th>\n",
       "      <td>TYC 7464-1208-1</td>\n",
       "      <td>2011AJ....141..187S</td>\n",
       "      <td>1.0</td>\n",
       "      <td>53132.000</td>\n",
       "      <td>A</td>\n",
       "      <td>A</td>\n",
       "      <td>v</td>\n",
       "      <td>5.722000</td>\n",
       "      <td>3.0</td>\n",
       "      <td>NaN</td>\n",
       "      <td>NaN</td>\n",
       "      <td>2340062.0</td>\n",
       "    </tr>\n",
       "    <tr>\n",
       "      <th>520</th>\n",
       "      <td>TYC 7464-1208-1</td>\n",
       "      <td>2008AJ....136..421Z</td>\n",
       "      <td>1.0</td>\n",
       "      <td>NaN</td>\n",
       "      <td>NaN</td>\n",
       "      <td>A</td>\n",
       "      <td>v</td>\n",
       "      <td>7.100000</td>\n",
       "      <td>1.0</td>\n",
       "      <td>NaN</td>\n",
       "      <td>NaN</td>\n",
       "      <td>2340062.0</td>\n",
       "    </tr>\n",
       "    <tr>\n",
       "      <th>865</th>\n",
       "      <td>HIP 103480</td>\n",
       "      <td>2004A&amp;A...418..989N</td>\n",
       "      <td>2.0</td>\n",
       "      <td>NaN</td>\n",
       "      <td>NaN</td>\n",
       "      <td>A</td>\n",
       "      <td>v</td>\n",
       "      <td>3.300000</td>\n",
       "      <td>1.0</td>\n",
       "      <td>NaN</td>\n",
       "      <td>NaN</td>\n",
       "      <td>2507798.0</td>\n",
       "    </tr>\n",
       "    <tr>\n",
       "      <th>866</th>\n",
       "      <td>HIP 103480</td>\n",
       "      <td>2006AstL...32..759G</td>\n",
       "      <td>NaN</td>\n",
       "      <td>NaN</td>\n",
       "      <td>NaN</td>\n",
       "      <td>A</td>\n",
       "      <td>V</td>\n",
       "      <td>3.700000</td>\n",
       "      <td>2.0</td>\n",
       "      <td>NaN</td>\n",
       "      <td>NaN</td>\n",
       "      <td>2507798.0</td>\n",
       "    </tr>\n",
       "    <tr>\n",
       "      <th>1458</th>\n",
       "      <td>HIP 100321</td>\n",
       "      <td>2004A&amp;A...418..989N</td>\n",
       "      <td>50.0</td>\n",
       "      <td>NaN</td>\n",
       "      <td>NaN</td>\n",
       "      <td>A</td>\n",
       "      <td>v</td>\n",
       "      <td>1.200000</td>\n",
       "      <td>1.0</td>\n",
       "      <td>NaN</td>\n",
       "      <td>NaN</td>\n",
       "      <td>301834.0</td>\n",
       "    </tr>\n",
       "    <tr>\n",
       "      <th>1459</th>\n",
       "      <td>HIP 100321</td>\n",
       "      <td>2004A&amp;A...424..727P</td>\n",
       "      <td>NaN</td>\n",
       "      <td>NaN</td>\n",
       "      <td>NaN</td>\n",
       "      <td>A</td>\n",
       "      <td>V</td>\n",
       "      <td>0.750000</td>\n",
       "      <td>2.0</td>\n",
       "      <td>NaN</td>\n",
       "      <td>NaN</td>\n",
       "      <td>301834.0</td>\n",
       "    </tr>\n",
       "    <tr>\n",
       "      <th>2406</th>\n",
       "      <td>HIP 116748</td>\n",
       "      <td>2004A&amp;A...418..989N</td>\n",
       "      <td>5.0</td>\n",
       "      <td>NaN</td>\n",
       "      <td>NaN</td>\n",
       "      <td>A</td>\n",
       "      <td>v</td>\n",
       "      <td>7.400000</td>\n",
       "      <td>1.0</td>\n",
       "      <td>NaN</td>\n",
       "      <td>NaN</td>\n",
       "      <td>3292659.0</td>\n",
       "    </tr>\n",
       "    <tr>\n",
       "      <th>2407</th>\n",
       "      <td>HIP 116748</td>\n",
       "      <td>2006AstL...32..759G</td>\n",
       "      <td>NaN</td>\n",
       "      <td>NaN</td>\n",
       "      <td>NaN</td>\n",
       "      <td>A</td>\n",
       "      <td>V</td>\n",
       "      <td>8.300000</td>\n",
       "      <td>2.0</td>\n",
       "      <td>NaN</td>\n",
       "      <td>NaN</td>\n",
       "      <td>3292659.0</td>\n",
       "    </tr>\n",
       "  </tbody>\n",
       "</table>\n",
       "</div>"
      ],
      "text/plain": [
       "                 name              bibcode  nbmes    obsdate qual quality  \\\n",
       "322        HIP 107362  17AJ....153...7521K    1.0  53610.564    A       A   \n",
       "323        HIP 107362  2013A&A...552A..64S    NaN        NaN  NaN       A   \n",
       "324        HIP 107362  2011AJ....141..187S    1.0  53609.000    A       A   \n",
       "325        HIP 107362  2011AJ....141..187S    1.0  53609.000    A       A   \n",
       "326        HIP 107362  2006AstL...32..759G    NaN        NaN  NaN       A   \n",
       "327        HIP 107362  2004A&A...418..989N    5.0        NaN  NaN       A   \n",
       "518   TYC 7464-1208-1  17AJ....153...7521K    1.0  53133.762    A       A   \n",
       "519   TYC 7464-1208-1  2011AJ....141..187S    1.0  53132.000    A       A   \n",
       "520   TYC 7464-1208-1  2008AJ....136..421Z    1.0        NaN  NaN       A   \n",
       "865        HIP 103480  2004A&A...418..989N    2.0        NaN  NaN       A   \n",
       "866        HIP 103480  2006AstL...32..759G    NaN        NaN  NaN       A   \n",
       "1458       HIP 100321  2004A&A...418..989N   50.0        NaN  NaN       A   \n",
       "1459       HIP 100321  2004A&A...424..727P    NaN        NaN  NaN       A   \n",
       "2406       HIP 116748  2004A&A...418..989N    5.0        NaN  NaN       A   \n",
       "2407       HIP 116748  2006AstL...32..759G    NaN        NaN  NaN       A   \n",
       "\n",
       "     velType   velValue  velValue_prec  remark remarks     oidref  \n",
       "322      v    16.640000            2.0     NaN     NaN  3470803.0  \n",
       "323      z    19.374000            3.0     NaN     NaN  3470803.0  \n",
       "324      v    18.619000            3.0     NaN     NaN  3470803.0  \n",
       "325      v    16.644000            3.0     NaN     NaN  3470803.0  \n",
       "326      V    18.000000            2.0     NaN     NaN  3470803.0  \n",
       "327      v    19.299999            1.0     NaN     NaN  3470803.0  \n",
       "518      v     5.720000            2.0     NaN     NaN  2340062.0  \n",
       "519      v     5.722000            3.0     NaN     NaN  2340062.0  \n",
       "520      v     7.100000            1.0     NaN     NaN  2340062.0  \n",
       "865      v     3.300000            1.0     NaN     NaN  2507798.0  \n",
       "866      V     3.700000            2.0     NaN     NaN  2507798.0  \n",
       "1458     v     1.200000            1.0     NaN     NaN   301834.0  \n",
       "1459     V     0.750000            2.0     NaN     NaN   301834.0  \n",
       "2406     v     7.400000            1.0     NaN     NaN  3292659.0  \n",
       "2407     V     8.300000            2.0     NaN     NaN  3292659.0  "
      ]
     },
     "execution_count": 10,
     "metadata": {},
     "output_type": "execute_result"
    }
   ],
   "source": [
    "# those that differ more than 10%\n",
    "rvAmulti.groupby(\"name\").filter(lambda x: np.abs(x.velValue.max()-x.velValue.min())/x.velValue.mean() > 0.1)"
   ]
  },
  {
   "cell_type": "code",
   "execution_count": 206,
   "metadata": {
    "collapsed": false
   },
   "outputs": [
    {
     "data": {
      "text/plain": [
       "    2618\n",
       "Name: remark, dtype: int64"
      ]
     },
     "execution_count": 206,
     "metadata": {},
     "output_type": "execute_result"
    }
   ],
   "source": [
    "dfrv.remark.value_counts()"
   ]
  },
  {
   "cell_type": "code",
   "execution_count": 207,
   "metadata": {
    "collapsed": false
   },
   "outputs": [
    {
     "data": {
      "text/plain": [
       "      2449\n",
       "##     122\n",
       "V       43\n",
       "O        3\n",
       "D        1\n",
       "Name: remarks, dtype: int64"
      ]
     },
     "execution_count": 207,
     "metadata": {},
     "output_type": "execute_result"
    }
   ],
   "source": [
    "dfrv.remarks.value_counts()"
   ]
  },
  {
   "cell_type": "code",
   "execution_count": 11,
   "metadata": {
    "collapsed": false
   },
   "outputs": [
    {
     "data": {
      "text/plain": [
       "17AJ....153...7521K    163\n",
       "2004A&A...418..989N    100\n",
       "2006AstL...32..759G     52\n",
       "2007AJ....133.2524W     32\n",
       "2011AJ....141..187S     28\n",
       "2008AJ....136..421Z     21\n",
       "2006A&A...460..695T     17\n",
       "2013A&A...552A..64S     14\n",
       "2005A&A...430..165F     10\n",
       "2015A&A...573A.126D      9\n",
       "2002AJ....124.1144L      8\n",
       "2013MNRAS.435.1376M      8\n",
       "2011AAS...21743412C      6\n",
       "1997JApA...18..161Y      5\n",
       "2006PASP..118.1656S      5\n",
       "2002ApJS..141..503N      5\n",
       "2007A&A...475..519H      3\n",
       "1992A&A...256..121T      3\n",
       "2013AJ....146..143M      2\n",
       "2004A&A...424..727P      2\n",
       "2008AJ....135..209M      2\n",
       "2012ApJ...745...56D      2\n",
       "2005ApJS..159..141V      2\n",
       "2012MNRAS.422...14H      1\n",
       "1953GCRV..C......0W      1\n",
       "2007A&A...465..271R      1\n",
       "2008A&A...480...91S      1\n",
       "1992A&AS...95..541F      1\n",
       "2014ApJ...788...81M      1\n",
       "2011yCat.3265....0S      1\n",
       "2013A&A...554A..84M      1\n",
       "2004MNRAS.349.1069K      1\n",
       "Name: bibcode, dtype: int64"
      ]
     },
     "execution_count": 11,
     "metadata": {},
     "output_type": "execute_result"
    }
   ],
   "source": [
    "# see sources of quality A measurments\n",
    "dfrv.loc[dfrv.quality=='A', 'bibcode'].value_counts()"
   ]
  },
  {
   "cell_type": "markdown",
   "metadata": {
    "collapsed": true
   },
   "source": [
    "`17AJ....153...7521K` is Kunder et al. 2017 RAVE DR5."
   ]
  },
  {
   "cell_type": "code",
   "execution_count": null,
   "metadata": {
    "collapsed": true
   },
   "outputs": [],
   "source": []
  }
 ],
 "metadata": {
  "anaconda-cloud": {},
  "kernelspec": {
   "display_name": "Python [conda env:gwb]",
   "language": "python",
   "name": "conda-env-gwb-py"
  },
  "language_info": {
   "codemirror_mode": {
    "name": "ipython",
    "version": 3
   },
   "file_extension": ".py",
   "mimetype": "text/x-python",
   "name": "python",
   "nbconvert_exporter": "python",
   "pygments_lexer": "ipython3",
   "version": "3.5.2"
  }
 },
 "nbformat": 4,
 "nbformat_minor": 2
}
