{
 "cells": [
  {
   "cell_type": "code",
   "execution_count": 3,
   "metadata": {
    "collapsed": true
   },
   "outputs": [],
   "source": [
    "%matplotlib inline\n",
    "import matplotlib.pyplot as plt\n",
    "import pandas as pd\n",
    "\n",
    "from astropy import units as u\n",
    "from astropy import coordinates as coords\n",
    "from astroquery.simbad import Simbad\n",
    "import astroquery\n",
    "plt.style.use(\"fivethirtyeight\")"
   ]
  },
  {
   "cell_type": "code",
   "execution_count": 5,
   "metadata": {
    "collapsed": true
   },
   "outputs": [],
   "source": [
    "import gwb"
   ]
  },
  {
   "cell_type": "code",
   "execution_count": 6,
   "metadata": {
    "collapsed": true
   },
   "outputs": [],
   "source": [
    "tgas = gwb.TGASData(\"/Users/semyeong/data/gaia/tgas_source/stacked_tgas.fits\")"
   ]
  },
  {
   "cell_type": "code",
   "execution_count": 7,
   "metadata": {
    "collapsed": false
   },
   "outputs": [
    {
     "name": "stdout",
     "output_type": "stream",
     "text": [
      "45\n"
     ]
    }
   ],
   "source": [
    "df = pd.read_csv(\"../data/targets.csv\")\n",
    "print(len(df))"
   ]
  },
  {
   "cell_type": "code",
   "execution_count": 8,
   "metadata": {
    "collapsed": false
   },
   "outputs": [
    {
     "data": {
      "text/html": [
       "<div>\n",
       "<table border=\"1\" class=\"dataframe\">\n",
       "  <thead>\n",
       "    <tr style=\"text-align: right;\">\n",
       "      <th></th>\n",
       "      <th>tgas_row</th>\n",
       "      <th>tgas_ra</th>\n",
       "      <th>tgas_dec</th>\n",
       "      <th>tgas_distance</th>\n",
       "      <th>gx</th>\n",
       "      <th>gy</th>\n",
       "      <th>gz</th>\n",
       "      <th>tgas_glon</th>\n",
       "      <th>tgas_glat</th>\n",
       "      <th>tgas_gmag</th>\n",
       "      <th>hip</th>\n",
       "      <th>tyc</th>\n",
       "      <th>hip_tyc_id</th>\n",
       "      <th>source_id</th>\n",
       "      <th>tmass_j</th>\n",
       "    </tr>\n",
       "  </thead>\n",
       "  <tbody>\n",
       "    <tr>\n",
       "      <th>0</th>\n",
       "      <td>382720</td>\n",
       "      <td>204.863461</td>\n",
       "      <td>61.061727</td>\n",
       "      <td>102.407820</td>\n",
       "      <td>-22.697253</td>\n",
       "      <td>53.998667</td>\n",
       "      <td>84.002025</td>\n",
       "      <td>112.798467</td>\n",
       "      <td>55.111792</td>\n",
       "      <td>11.724152</td>\n",
       "      <td>NaN</td>\n",
       "      <td>b'4164-274-1'</td>\n",
       "      <td>TYC 4164-274-1</td>\n",
       "      <td>1662855584317183744</td>\n",
       "      <td>10.187</td>\n",
       "    </tr>\n",
       "    <tr>\n",
       "      <th>1</th>\n",
       "      <td>357377</td>\n",
       "      <td>210.589752</td>\n",
       "      <td>52.417741</td>\n",
       "      <td>94.271430</td>\n",
       "      <td>-7.874400</td>\n",
       "      <td>44.365174</td>\n",
       "      <td>82.805964</td>\n",
       "      <td>100.064644</td>\n",
       "      <td>61.447334</td>\n",
       "      <td>10.153631</td>\n",
       "      <td>NaN</td>\n",
       "      <td>b'3471-333-1'</td>\n",
       "      <td>TYC 3471-333-1</td>\n",
       "      <td>1512773174838690176</td>\n",
       "      <td>9.033</td>\n",
       "    </tr>\n",
       "    <tr>\n",
       "      <th>2</th>\n",
       "      <td>368772</td>\n",
       "      <td>223.270036</td>\n",
       "      <td>51.261152</td>\n",
       "      <td>102.577721</td>\n",
       "      <td>2.282405</td>\n",
       "      <td>56.244648</td>\n",
       "      <td>85.752662</td>\n",
       "      <td>87.676213</td>\n",
       "      <td>56.717754</td>\n",
       "      <td>9.766224</td>\n",
       "      <td>NaN</td>\n",
       "      <td>b'3480-1209-1'</td>\n",
       "      <td>TYC 3480-1209-1</td>\n",
       "      <td>1593570580647402880</td>\n",
       "      <td>8.797</td>\n",
       "    </tr>\n",
       "  </tbody>\n",
       "</table>\n",
       "</div>"
      ],
      "text/plain": [
       "   tgas_row     tgas_ra   tgas_dec  tgas_distance         gx         gy  \\\n",
       "0    382720  204.863461  61.061727     102.407820 -22.697253  53.998667   \n",
       "1    357377  210.589752  52.417741      94.271430  -7.874400  44.365174   \n",
       "2    368772  223.270036  51.261152     102.577721   2.282405  56.244648   \n",
       "\n",
       "          gz   tgas_glon  tgas_glat  tgas_gmag  hip             tyc  \\\n",
       "0  84.002025  112.798467  55.111792  11.724152  NaN   b'4164-274-1'   \n",
       "1  82.805964  100.064644  61.447334  10.153631  NaN   b'3471-333-1'   \n",
       "2  85.752662   87.676213  56.717754   9.766224  NaN  b'3480-1209-1'   \n",
       "\n",
       "        hip_tyc_id            source_id  tmass_j  \n",
       "0   TYC 4164-274-1  1662855584317183744   10.187  \n",
       "1   TYC 3471-333-1  1512773174838690176    9.033  \n",
       "2  TYC 3480-1209-1  1593570580647402880    8.797  "
      ]
     },
     "execution_count": 8,
     "metadata": {},
     "output_type": "execute_result"
    }
   ],
   "source": [
    "df.head(3)"
   ]
  },
  {
   "cell_type": "code",
   "execution_count": 9,
   "metadata": {
    "collapsed": false
   },
   "outputs": [
    {
     "data": {
      "image/png": "[encoded data removed]",
      "text/plain": [
       "<matplotlib.figure.Figure at 0x1110b28d0>"
      ]
     },
     "metadata": {},
     "output_type": "display_data"
    }
   ],
   "source": [
    "plt.plot(df.tgas_ra, df.tgas_dec, 'o');\n",
    "plt.xlabel(\"RA [deg]\");\n",
    "plt.ylabel(\"DEC [deg]\");"
   ]
  },
  {
   "cell_type": "code",
   "execution_count": 10,
   "metadata": {
    "collapsed": false
   },
   "outputs": [
    {
     "data": {
      "image/png": "[encoded data removed]",
      "text/plain": [
       "<matplotlib.figure.Figure at 0x112177cc0>"
      ]
     },
     "metadata": {},
     "output_type": "display_data"
    }
   ],
   "source": [
    "plt.plot(df.gx, df.gy, 'o');\n",
    "# plt.xlabel(\"GLON [deg]\");\n",
    "# plt.ylabel(\"GLAT [deg]\");\n",
    "plt.xlim(-100,100);\n",
    "plt.ylim(-100,100);"
   ]
  },
  {
   "cell_type": "code",
   "execution_count": 11,
   "metadata": {
    "collapsed": false
   },
   "outputs": [
    {
     "data": {
      "text/plain": [
       "<matplotlib.text.Text at 0x11291f1d0>"
      ]
     },
     "execution_count": 11,
     "metadata": {},
     "output_type": "execute_result"
    },
    {
     "data": {
      "image/png": "[encoded data removed]",
      "text/plain": [
       "<matplotlib.figure.Figure at 0x1128c6e80>"
      ]
     },
     "metadata": {},
     "output_type": "display_data"
    }
   ],
   "source": [
    "plt.hist(df.tgas_distance, 16);\n",
    "plt.xlabel(\"distance [pc]\");\n",
    "plt.ylabel(\"count\")"
   ]
  },
  {
   "cell_type": "code",
   "execution_count": 12,
   "metadata": {
    "collapsed": false
   },
   "outputs": [],
   "source": [
    "customSimbad = Simbad()\n",
    "customSimbad.add_votable_fields('sptype')\n",
    "customSimbad.add_votable_fields('orv')\n",
    "customSimbad.add_votable_fields('bibcodelist(1850-2017)')"
   ]
  },
  {
   "cell_type": "code",
   "execution_count": 13,
   "metadata": {
    "collapsed": false
   },
   "outputs": [
    {
     "name": "stdout",
     "output_type": "stream",
     "text": [
      "Radial velocity value. Eventually translated from a redshift\n",
      "Radial velocities of galaxies\n",
      "General Catalogue of Radial Velocities\n",
      "oRV stellar radial velocities (will shortly replace \n",
      "              the GCRV measurements.\n"
     ]
    }
   ],
   "source": [
    "for field in ['rv_value', 'rvel', 'gcrv', 'orv']:\n",
    "    customSimbad.get_field_description(field)"
   ]
  },
  {
   "cell_type": "code",
   "execution_count": 14,
   "metadata": {
    "collapsed": true
   },
   "outputs": [],
   "source": [
    "result = customSimbad.query_objects(df.hip_tyc_id)"
   ]
  },
  {
   "cell_type": "code",
   "execution_count": 15,
   "metadata": {
    "collapsed": false
   },
   "outputs": [
    {
     "data": {
      "text/html": [
       "&lt;Table masked=True length=45&gt;\n",
       "<table id=\"table4610541832\" class=\"table-striped table-bordered table-condensed\">\n",
       "<thead><tr><th>MAIN_ID</th><th>oRV_RVel</th><th>oRV_Q</th><th>oRV_Nmes</th><th>oRV_Rem</th><th>oRV_Orig</th><th>oRV_Dis</th><th>oRV_bibcode</th></tr></thead>\n",
       "<thead><tr><th></th><th>km / s</th><th></th><th></th><th></th><th></th><th>a / mm</th><th></th></tr></thead>\n",
       "<thead><tr><th>object</th><th>float32</th><th>str1</th><th>int32</th><th>object</th><th>str2</th><th>int32</th><th>str19</th></tr></thead>\n",
       "<tr><td>TYC 4164-274-1</td><td>--</td><td></td><td>0</td><td></td><td></td><td>0</td><td></td></tr>\n",
       "<tr><td>TYC 3471-333-1</td><td>--</td><td></td><td>0</td><td></td><td></td><td>0</td><td></td></tr>\n",
       "<tr><td>BD+51  1966</td><td>--</td><td></td><td>0</td><td></td><td></td><td>0</td><td></td></tr>\n",
       "<tr><td>HR  5345</td><td>-15.0</td><td>C</td><td>4</td><td></td><td>##</td><td>0</td><td>1953GCRV..C......0W</td></tr>\n",
       "<tr><td>TYC 3489-1148-1</td><td>--</td><td></td><td>0</td><td></td><td></td><td>0</td><td></td></tr>\n",
       "<tr><td>TYC 3470-485-1</td><td>--</td><td></td><td>0</td><td></td><td></td><td>0</td><td></td></tr>\n",
       "<tr><td>HD 234061</td><td>--</td><td></td><td>0</td><td></td><td></td><td>0</td><td></td></tr>\n",
       "<tr><td>TYC 3868-177-1</td><td>--</td><td></td><td>0</td><td></td><td></td><td>0</td><td></td></tr>\n",
       "<tr><td>HD 238423</td><td>--</td><td></td><td>0</td><td></td><td></td><td>0</td><td></td></tr>\n",
       "<tr><td>...</td><td>...</td><td>...</td><td>...</td><td>...</td><td>...</td><td>...</td><td>...</td></tr>\n",
       "<tr><td>HD 125557</td><td>--</td><td></td><td>0</td><td></td><td></td><td>0</td><td></td></tr>\n",
       "<tr><td>HD 145145</td><td>--</td><td></td><td>0</td><td></td><td></td><td>0</td><td></td></tr>\n",
       "<tr><td>TYC 3869-656-1</td><td>--</td><td></td><td>0</td><td></td><td></td><td>0</td><td></td></tr>\n",
       "<tr><td>HR  5372</td><td>-3.2</td><td>B</td><td>4</td><td></td><td>##</td><td>0</td><td>1953GCRV..C......0W</td></tr>\n",
       "<tr><td>BD+49  2434</td><td>--</td><td></td><td>0</td><td></td><td></td><td>0</td><td></td></tr>\n",
       "<tr><td>TYC 3496-1082-1</td><td>--</td><td></td><td>0</td><td></td><td></td><td>0</td><td></td></tr>\n",
       "<tr><td>TYC 3497-1053-1</td><td>--</td><td></td><td>0</td><td></td><td></td><td>0</td><td></td></tr>\n",
       "<tr><td>TYC 3867-2-1</td><td>--</td><td></td><td>0</td><td></td><td></td><td>0</td><td></td></tr>\n",
       "<tr><td>HR  5169</td><td>-6.5</td><td>C</td><td>10</td><td></td><td>##</td><td>0</td><td>1979IAUS...30...57E</td></tr>\n",
       "<tr><td>HD 125259</td><td>--</td><td></td><td>0</td><td></td><td></td><td>0</td><td></td></tr>\n",
       "</table>"
      ],
      "text/plain": [
       "<Table masked=True length=45>\n",
       "    MAIN_ID     oRV_RVel oRV_Q oRV_Nmes ... oRV_Orig oRV_Dis     oRV_bibcode    \n",
       "                 km / s                 ...           a / mm                    \n",
       "     object     float32   str1  int32   ...   str2    int32         str19       \n",
       "--------------- -------- ----- -------- ... -------- ------- -------------------\n",
       " TYC 4164-274-1       --              0 ...                0                    \n",
       " TYC 3471-333-1       --              0 ...                0                    \n",
       "    BD+51  1966       --              0 ...                0                    \n",
       "       HR  5345    -15.0     C        4 ...       ##       0 1953GCRV..C......0W\n",
       "TYC 3489-1148-1       --              0 ...                0                    \n",
       " TYC 3470-485-1       --              0 ...                0                    \n",
       "      HD 234061       --              0 ...                0                    \n",
       " TYC 3868-177-1       --              0 ...                0                    \n",
       "      HD 238423       --              0 ...                0                    \n",
       "            ...      ...   ...      ... ...      ...     ...                 ...\n",
       "      HD 125557       --              0 ...                0                    \n",
       "      HD 145145       --              0 ...                0                    \n",
       " TYC 3869-656-1       --              0 ...                0                    \n",
       "       HR  5372     -3.2     B        4 ...       ##       0 1953GCRV..C......0W\n",
       "    BD+49  2434       --              0 ...                0                    \n",
       "TYC 3496-1082-1       --              0 ...                0                    \n",
       "TYC 3497-1053-1       --              0 ...                0                    \n",
       "   TYC 3867-2-1       --              0 ...                0                    \n",
       "       HR  5169     -6.5     C       10 ...       ##       0 1979IAUS...30...57E\n",
       "      HD 125259       --              0 ...                0                    "
      ]
     },
     "execution_count": 15,
     "metadata": {},
     "output_type": "execute_result"
    }
   ],
   "source": [
    "result['MAIN_ID', 'oRV_RVel',\n",
    " 'oRV_Q',\n",
    " 'oRV_Nmes',\n",
    " 'oRV_Rem',\n",
    " 'oRV_Orig',\n",
    " 'oRV_Dis',\n",
    " 'oRV_bibcode',]"
   ]
  },
  {
   "cell_type": "code",
   "execution_count": 16,
   "metadata": {
    "collapsed": false,
    "scrolled": false
   },
   "outputs": [
    {
     "name": "stderr",
     "output_type": "stream",
     "text": [
      "/Users/semyeong/anaconda2/envs/gwb/lib/python3.5/site-packages/astropy/table/column.py:1096: MaskedArrayFutureWarning: setting an item on a masked array which has a shared mask will not copy the mask and also change the original mask array in the future.\n",
      "Check the NumPy 1.11 release notes for more information.\n",
      "  ma.MaskedArray.__setitem__(self, index, value)\n"
     ]
    },
    {
     "data": {
      "text/html": [
       "&lt;Table masked=True length=45&gt;\n",
       "<table id=\"table4607941824\" class=\"table-striped table-bordered table-condensed\">\n",
       "<thead><tr><th>MAIN_ID</th><th>SP_TYPE</th><th>BIBLIST_1850_2017</th></tr></thead>\n",
       "<thead><tr><th>object</th><th>object</th><th>int32</th></tr></thead>\n",
       "<tr><td>TYC 4164-274-1</td><td></td><td>0</td></tr>\n",
       "<tr><td>TYC 3851-600-1</td><td></td><td>0</td></tr>\n",
       "<tr><td>TYC 3867-1373-1</td><td></td><td>0</td></tr>\n",
       "<tr><td>TYC 3861-1374-1</td><td></td><td>0</td></tr>\n",
       "<tr><td>TYC 4173-609-1</td><td></td><td>0</td></tr>\n",
       "<tr><td>TYC 4174-1117-1</td><td></td><td>0</td></tr>\n",
       "<tr><td>HD 238351</td><td>G0</td><td>0</td></tr>\n",
       "<tr><td>TYC 3877-725-1</td><td></td><td>0</td></tr>\n",
       "<tr><td>TYC 3860-1483-1</td><td></td><td>0</td></tr>\n",
       "<tr><td>TYC 3486-1405-1</td><td></td><td>0</td></tr>\n",
       "<tr><td>...</td><td>...</td><td>...</td></tr>\n",
       "<tr><td>HD 133909</td><td>A2</td><td>7</td></tr>\n",
       "<tr><td>HD 125557</td><td>A2</td><td>8</td></tr>\n",
       "<tr><td>HD 124370</td><td>F2IV</td><td>11</td></tr>\n",
       "<tr><td>HD 129865</td><td>F0</td><td>16</td></tr>\n",
       "<tr><td>HR  5345</td><td>A4V</td><td>20</td></tr>\n",
       "<tr><td>HR  5280</td><td>A2V</td><td>26</td></tr>\n",
       "<tr><td>HR  5372</td><td>A5Vn</td><td>30</td></tr>\n",
       "<tr><td>HR  5169</td><td>A1V</td><td>45</td></tr>\n",
       "<tr><td>*  81 UMa</td><td>A0V</td><td>59</td></tr>\n",
       "<tr><td>*  84 UMa</td><td>A0VpSrCrEu</td><td>125</td></tr>\n",
       "</table>"
      ],
      "text/plain": [
       "<Table masked=True length=45>\n",
       "    MAIN_ID      SP_TYPE   BIBLIST_1850_2017\n",
       "     object       object         int32      \n",
       "--------------- ---------- -----------------\n",
       " TYC 4164-274-1                            0\n",
       " TYC 3851-600-1                            0\n",
       "TYC 3867-1373-1                            0\n",
       "TYC 3861-1374-1                            0\n",
       " TYC 4173-609-1                            0\n",
       "TYC 4174-1117-1                            0\n",
       "      HD 238351         G0                 0\n",
       " TYC 3877-725-1                            0\n",
       "TYC 3860-1483-1                            0\n",
       "TYC 3486-1405-1                            0\n",
       "            ...        ...               ...\n",
       "      HD 133909         A2                 7\n",
       "      HD 125557         A2                 8\n",
       "      HD 124370       F2IV                11\n",
       "      HD 129865         F0                16\n",
       "       HR  5345        A4V                20\n",
       "       HR  5280        A2V                26\n",
       "       HR  5372       A5Vn                30\n",
       "       HR  5169        A1V                45\n",
       "      *  81 UMa        A0V                59\n",
       "      *  84 UMa A0VpSrCrEu               125"
      ]
     },
     "execution_count": 16,
     "metadata": {},
     "output_type": "execute_result"
    }
   ],
   "source": [
    "result.sort('BIBLIST_1850_2017')\n",
    "result['MAIN_ID', 'SP_TYPE', 'BIBLIST_1850_2017']"
   ]
  },
  {
   "cell_type": "code",
   "execution_count": 17,
   "metadata": {
    "collapsed": false
   },
   "outputs": [],
   "source": [
    "import sys\n",
    "sys.path.append('../../gaia-wide-binaries/notebooks/')\n",
    "import tap\n",
    "\n",
    "class SimbadTAP(tap.TAP_Service):\n",
    "    def __init__(self, *args, **kwargs):\n",
    "        host = \"simbad.u-strasbg.fr\"\n",
    "        port = 80\n",
    "        path = \"/simbad/sim-tap\"\n",
    "        tap.TAP_Service.__init__(self, host, path, port, *args, **kwargs)"
   ]
  },
  {
   "cell_type": "code",
   "execution_count": 18,
   "metadata": {
    "collapsed": true
   },
   "outputs": [],
   "source": [
    "query_template = \"\"\"\n",
    "SELECT BIBCode,\n",
    "       Journal,\n",
    "       Title,\n",
    "       Year,\n",
    "       Volume,\n",
    "       DOI\n",
    "FROM ref JOIN has_ref ON oidbibref = oidbib JOIN ident ON has_ref.oidref = ident.oidref\n",
    "WHERE id = '{}'\n",
    "ORDER BY Year DESC;\n",
    "\"\"\""
   ]
  },
  {
   "cell_type": "code",
   "execution_count": 19,
   "metadata": {
    "collapsed": false
   },
   "outputs": [],
   "source": [
    "mytap = SimbadTAP()"
   ]
  },
  {
   "cell_type": "code",
   "execution_count": 20,
   "metadata": {
    "collapsed": false
   },
   "outputs": [
    {
     "data": {
      "text/html": [
       "&lt;Table masked=True length=0&gt;\n",
       "<table id=\"table4606111192\" class=\"table-striped table-bordered table-condensed\">\n",
       "<thead><tr><th>oidbib</th><th>bibcode</th><th>year</th><th>journal</th><th>page</th><th>last_page</th><th>volume</th><th>title</th><th>doi</th><th>nbobject</th></tr></thead>\n",
       "<thead><tr><th>int64</th><th>object</th><th>int16</th><th>object</th><th>int32</th><th>int32</th><th>int32</th><th>object</th><th>object</th><th>int32</th></tr></thead>\n",
       "</table>"
      ],
      "text/plain": [
       "<Table masked=True length=0>\n",
       "oidbib bibcode  year journal  page last_page volume title   doi   nbobject\n",
       "int64   object int16  object int32   int32   int32  object object  int32  \n",
       "------ ------- ----- ------- ----- --------- ------ ------ ------ --------"
      ]
     },
     "execution_count": 20,
     "metadata": {},
     "output_type": "execute_result"
    }
   ],
   "source": [
    "mytap.get_table_info('ref')"
   ]
  },
  {
   "cell_type": "code",
   "execution_count": 21,
   "metadata": {
    "collapsed": true
   },
   "outputs": [],
   "source": [
    "import time"
   ]
  },
  {
   "cell_type": "code",
   "execution_count": 22,
   "metadata": {
    "collapsed": false
   },
   "outputs": [
    {
     "name": "stdout",
     "output_type": "stream",
     "text": [
      "searching for TYC 4164-274-1\n",
      "searching for TYC 3851-600-1\n",
      "searching for TYC 3867-1373-1\n",
      "searching for TYC 3861-1374-1\n",
      "searching for TYC 4173-609-1\n",
      "searching for TYC 4174-1117-1\n",
      "searching for HD 238351\n",
      "searching for TYC 3877-725-1\n",
      "searching for TYC 3860-1483-1\n",
      "searching for TYC 3486-1405-1\n",
      "searching for TYC 3471-233-1\n",
      "searching for TYC 4180-573-1\n",
      "searching for TYC 3869-656-1\n",
      "searching for HD 234065\n",
      "searching for TYC 3496-1082-1\n",
      "searching for HD 238423\n",
      "searching for TYC 3868-177-1\n",
      "searching for HD 234061\n",
      "searching for TYC 3470-485-1\n",
      "searching for TYC 3489-1148-1\n",
      "searching for TYC 3497-1053-1\n",
      "searching for BD+51  1966\n",
      "searching for TYC 3471-333-1\n",
      "searching for TYC 3490-1083-1\n",
      "searching for TYC 3875-762-1\n",
      "searching for BD+60  1587\n",
      "searching for BD+49  2434\n",
      "searching for HD 113491\n",
      "searching for BD+56  1762\n",
      "searching for HD 125259\n",
      "searching for HD 137589\n",
      "searching for TYC 3867-2-1\n",
      "searching for HD 135501\n",
      "searching for NAME Stella Ludoviciana\n",
      "searching for HD 145145\n",
      "searching for HD 133909\n",
      "searching for HD 125557\n",
      "searching for HD 124370\n",
      "searching for HD 129865\n",
      "searching for HR  5345\n",
      "searching for HR  5280\n",
      "searching for HR  5372\n",
      "searching for HR  5169\n",
      "searching for *  81 UMa\n",
      "searching for *  84 UMa\n"
     ]
    }
   ],
   "source": [
    "biblist = []\n",
    "for iden in result['MAIN_ID']:\n",
    "    print('searching for {}'.format(iden.decode()))\n",
    "    biblist.append(mytap.query(query_template.format(iden.decode())))\n",
    "    time.sleep(5)  ## seems that I'm violating some rate limit or something"
   ]
  },
  {
   "cell_type": "code",
   "execution_count": 23,
   "metadata": {
    "collapsed": false
   },
   "outputs": [],
   "source": [
    "# add which object's reference it is\n",
    "for i, t in enumerate(biblist):\n",
    "    t['hip_tyc_id'] = [df.hip_tyc_id[i] for j in range(len(t))]"
   ]
  },
  {
   "cell_type": "code",
   "execution_count": 32,
   "metadata": {
    "collapsed": false,
    "scrolled": false
   },
   "outputs": [],
   "source": [
    "from astropy import table"
   ]
  },
  {
   "cell_type": "code",
   "execution_count": 24,
   "metadata": {
    "collapsed": false
   },
   "outputs": [],
   "source": [
    "dfBib = pd.concat([t.to_pandas() for t in biblist])"
   ]
  },
  {
   "cell_type": "code",
   "execution_count": 25,
   "metadata": {
    "collapsed": false
   },
   "outputs": [
    {
     "name": "stdout",
     "output_type": "stream",
     "text": [
      "total number of refs = 389\n",
      "total number of unique refs = 230\n"
     ]
    }
   ],
   "source": [
    "print(\"total number of refs = {:d}\".format(len(dfBib)))\n",
    "print(\"total number of unique refs = {:d}\".format(dfBib.bibcode.unique().size))"
   ]
  },
  {
   "cell_type": "code",
   "execution_count": 30,
   "metadata": {
    "collapsed": false,
    "scrolled": true
   },
   "outputs": [],
   "source": [
    "dfBib.index = range(len(dfBib))  # re-index"
   ]
  },
  {
   "cell_type": "code",
   "execution_count": 32,
   "metadata": {
    "collapsed": true
   },
   "outputs": [],
   "source": [
    "dfBib.to_csv(\"../data/target_bib.csv\", index=False)"
   ]
  },
  {
   "cell_type": "code",
   "execution_count": 45,
   "metadata": {
    "collapsed": false
   },
   "outputs": [
    {
     "data": {
      "text/plain": [
       "Index(['tgas_row', 'tgas_ra', 'tgas_dec', 'tgas_distance', 'gx', 'gy', 'gz',\n",
       "       'tgas_glon', 'tgas_glat', 'tgas_gmag', 'hip', 'tyc', 'hip_tyc_id',\n",
       "       'source_id', 'tmass_j'],\n",
       "      dtype='object')"
      ]
     },
     "execution_count": 45,
     "metadata": {},
     "output_type": "execute_result"
    }
   ],
   "source": [
    "df.columns"
   ]
  },
  {
   "cell_type": "code",
   "execution_count": 36,
   "metadata": {
    "collapsed": false
   },
   "outputs": [],
   "source": [
    "from astropy import table\n",
    "table.Table({\"title\":dfBib[['hip_tyc_id', 'title']]}).show_in_browser()"
   ]
  },
  {
   "cell_type": "code",
   "execution_count": null,
   "metadata": {
    "collapsed": true
   },
   "outputs": [],
   "source": []
  }
 ],
 "metadata": {
  "anaconda-cloud": {},
  "kernelspec": {
   "display_name": "Python [gwb]",
   "language": "python",
   "name": "Python [gwb]"
  },
  "language_info": {
   "codemirror_mode": {
    "name": "ipython",
    "version": 3
   },
   "file_extension": ".py",
   "mimetype": "text/x-python",
   "name": "python",
   "nbconvert_exporter": "python",
   "pygments_lexer": "ipython3",
   "version": "3.5.2"
  }
 },
 "nbformat": 4,
 "nbformat_minor": 2
}
