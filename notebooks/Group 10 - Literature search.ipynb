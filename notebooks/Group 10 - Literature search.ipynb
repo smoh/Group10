{
 "cells": [
  {
   "cell_type": "code",
   "execution_count": 1,
   "metadata": {
    "collapsed": true
   },
   "outputs": [],
   "source": [
    "%matplotlib inline\n",
    "import matplotlib.pyplot as plt\n",
    "import pandas as pd\n",
    "\n",
    "from astropy import units as u\n",
    "from astropy import coordinates as coords\n",
    "from astroquery.simbad import Simbad\n",
    "import astroquery\n",
    "plt.style.use(\"fivethirtyeight\")"
   ]
  },
  {
   "cell_type": "code",
   "execution_count": 2,
   "metadata": {
    "collapsed": true
   },
   "outputs": [],
   "source": [
    "import gwb"
   ]
  },
  {
   "cell_type": "code",
   "execution_count": 3,
   "metadata": {
    "collapsed": true
   },
   "outputs": [],
   "source": [
    "tgas = gwb.TGASData(\"/Users/semyeong/data/gaia/tgas_source/stacked_tgas.fits\")"
   ]
  },
  {
   "cell_type": "code",
   "execution_count": 4,
   "metadata": {
    "collapsed": false
   },
   "outputs": [
    {
     "name": "stdout",
     "output_type": "stream",
     "text": [
      "45\n"
     ]
    }
   ],
   "source": [
    "df = pd.read_csv(\"../data/targets.csv\")\n",
    "print(len(df))"
   ]
  },
  {
   "cell_type": "code",
   "execution_count": 218,
   "metadata": {
    "collapsed": true
   },
   "outputs": [],
   "source": [
    "c = coords.SkyCoord(df.tgas_ra, df.tgas_dec, unit='deg')"
   ]
  },
  {
   "cell_type": "code",
   "execution_count": 11,
   "metadata": {
    "collapsed": false
   },
   "outputs": [],
   "source": [
    "customSimbad = Simbad()\n",
    "customSimbad.add_votable_fields('sptype')\n",
    "customSimbad.add_votable_fields('orv')\n",
    "customSimbad.add_votable_fields('bibcodelist(1850-2017)')"
   ]
  },
  {
   "cell_type": "code",
   "execution_count": 12,
   "metadata": {
    "collapsed": false
   },
   "outputs": [
    {
     "name": "stdout",
     "output_type": "stream",
     "text": [
      "Radial velocity value. Eventually translated from a redshift\n",
      "Radial velocities of galaxies\n",
      "General Catalogue of Radial Velocities\n",
      "oRV stellar radial velocities (will shortly replace \n",
      "              the GCRV measurements.\n"
     ]
    }
   ],
   "source": [
    "for field in ['rv_value', 'rvel', 'gcrv', 'orv']:\n",
    "    customSimbad.get_field_description(field)"
   ]
  },
  {
   "cell_type": "code",
   "execution_count": 13,
   "metadata": {
    "collapsed": true
   },
   "outputs": [],
   "source": [
    "result = customSimbad.query_objects(df.hip_tyc_id)"
   ]
  },
  {
   "cell_type": "code",
   "execution_count": 14,
   "metadata": {
    "collapsed": false
   },
   "outputs": [
    {
     "data": {
      "text/html": [
       "&lt;Table masked=True length=45&gt;\n",
       "<table id=\"table4568675440\" class=\"table-striped table-bordered table-condensed\">\n",
       "<thead><tr><th>MAIN_ID</th><th>oRV_RVel</th><th>oRV_Q</th><th>oRV_Nmes</th><th>oRV_Rem</th><th>oRV_Orig</th><th>oRV_Dis</th><th>oRV_bibcode</th></tr></thead>\n",
       "<thead><tr><th></th><th>km / s</th><th></th><th></th><th></th><th></th><th>a / mm</th><th></th></tr></thead>\n",
       "<thead><tr><th>object</th><th>float32</th><th>str1</th><th>int32</th><th>object</th><th>str2</th><th>int32</th><th>str19</th></tr></thead>\n",
       "<tr><td>TYC 4164-274-1</td><td>--</td><td></td><td>0</td><td></td><td></td><td>0</td><td></td></tr>\n",
       "<tr><td>TYC 3471-333-1</td><td>--</td><td></td><td>0</td><td></td><td></td><td>0</td><td></td></tr>\n",
       "<tr><td>BD+51  1966</td><td>--</td><td></td><td>0</td><td></td><td></td><td>0</td><td></td></tr>\n",
       "<tr><td>HR  5345</td><td>-15.0</td><td>C</td><td>4</td><td></td><td>##</td><td>0</td><td>1953GCRV..C......0W</td></tr>\n",
       "<tr><td>TYC 3489-1148-1</td><td>--</td><td></td><td>0</td><td></td><td></td><td>0</td><td></td></tr>\n",
       "<tr><td>TYC 3470-485-1</td><td>--</td><td></td><td>0</td><td></td><td></td><td>0</td><td></td></tr>\n",
       "<tr><td>HD 234061</td><td>--</td><td></td><td>0</td><td></td><td></td><td>0</td><td></td></tr>\n",
       "<tr><td>TYC 3868-177-1</td><td>--</td><td></td><td>0</td><td></td><td></td><td>0</td><td></td></tr>\n",
       "<tr><td>HD 238423</td><td>--</td><td></td><td>0</td><td></td><td></td><td>0</td><td></td></tr>\n",
       "<tr><td>...</td><td>...</td><td>...</td><td>...</td><td>...</td><td>...</td><td>...</td><td>...</td></tr>\n",
       "<tr><td>HD 125557</td><td>--</td><td></td><td>0</td><td></td><td></td><td>0</td><td></td></tr>\n",
       "<tr><td>HD 145145</td><td>--</td><td></td><td>0</td><td></td><td></td><td>0</td><td></td></tr>\n",
       "<tr><td>TYC 3869-656-1</td><td>--</td><td></td><td>0</td><td></td><td></td><td>0</td><td></td></tr>\n",
       "<tr><td>HR  5372</td><td>-3.2</td><td>B</td><td>4</td><td></td><td>##</td><td>0</td><td>1953GCRV..C......0W</td></tr>\n",
       "<tr><td>BD+49  2434</td><td>--</td><td></td><td>0</td><td></td><td></td><td>0</td><td></td></tr>\n",
       "<tr><td>TYC 3496-1082-1</td><td>--</td><td></td><td>0</td><td></td><td></td><td>0</td><td></td></tr>\n",
       "<tr><td>TYC 3497-1053-1</td><td>--</td><td></td><td>0</td><td></td><td></td><td>0</td><td></td></tr>\n",
       "<tr><td>TYC 3867-2-1</td><td>--</td><td></td><td>0</td><td></td><td></td><td>0</td><td></td></tr>\n",
       "<tr><td>HR  5169</td><td>-6.5</td><td>C</td><td>10</td><td></td><td>##</td><td>0</td><td>1979IAUS...30...57E</td></tr>\n",
       "<tr><td>HD 125259</td><td>--</td><td></td><td>0</td><td></td><td></td><td>0</td><td></td></tr>\n",
       "</table>"
      ],
      "text/plain": [
       "<Table masked=True length=45>\n",
       "    MAIN_ID     oRV_RVel oRV_Q oRV_Nmes ... oRV_Orig oRV_Dis     oRV_bibcode    \n",
       "                 km / s                 ...           a / mm                    \n",
       "     object     float32   str1  int32   ...   str2    int32         str19       \n",
       "--------------- -------- ----- -------- ... -------- ------- -------------------\n",
       " TYC 4164-274-1       --              0 ...                0                    \n",
       " TYC 3471-333-1       --              0 ...                0                    \n",
       "    BD+51  1966       --              0 ...                0                    \n",
       "       HR  5345    -15.0     C        4 ...       ##       0 1953GCRV..C......0W\n",
       "TYC 3489-1148-1       --              0 ...                0                    \n",
       " TYC 3470-485-1       --              0 ...                0                    \n",
       "      HD 234061       --              0 ...                0                    \n",
       " TYC 3868-177-1       --              0 ...                0                    \n",
       "      HD 238423       --              0 ...                0                    \n",
       "            ...      ...   ...      ... ...      ...     ...                 ...\n",
       "      HD 125557       --              0 ...                0                    \n",
       "      HD 145145       --              0 ...                0                    \n",
       " TYC 3869-656-1       --              0 ...                0                    \n",
       "       HR  5372     -3.2     B        4 ...       ##       0 1953GCRV..C......0W\n",
       "    BD+49  2434       --              0 ...                0                    \n",
       "TYC 3496-1082-1       --              0 ...                0                    \n",
       "TYC 3497-1053-1       --              0 ...                0                    \n",
       "   TYC 3867-2-1       --              0 ...                0                    \n",
       "       HR  5169     -6.5     C       10 ...       ##       0 1979IAUS...30...57E\n",
       "      HD 125259       --              0 ...                0                    "
      ]
     },
     "execution_count": 14,
     "metadata": {},
     "output_type": "execute_result"
    }
   ],
   "source": [
    "result['MAIN_ID', 'oRV_RVel',\n",
    " 'oRV_Q',\n",
    " 'oRV_Nmes',\n",
    " 'oRV_Rem',\n",
    " 'oRV_Orig',\n",
    " 'oRV_Dis',\n",
    " 'oRV_bibcode',]"
   ]
  },
  {
   "cell_type": "code",
   "execution_count": 15,
   "metadata": {
    "collapsed": false
   },
   "outputs": [
    {
     "data": {
      "text/html": [
       "&lt;MaskedColumn name=&apos;MAIN_ID&apos; dtype=&apos;object&apos; description=&apos;Main identifier for an object&apos; length=45&gt;\n",
       "<table>\n",
       "<tr><td>TYC 4164-274-1</td></tr>\n",
       "<tr><td>TYC 3471-333-1</td></tr>\n",
       "<tr><td>BD+51  1966</td></tr>\n",
       "<tr><td>HR  5345</td></tr>\n",
       "<tr><td>TYC 3489-1148-1</td></tr>\n",
       "<tr><td>TYC 3470-485-1</td></tr>\n",
       "<tr><td>HD 234061</td></tr>\n",
       "<tr><td>TYC 3868-177-1</td></tr>\n",
       "<tr><td>HD 238423</td></tr>\n",
       "<tr><td>BD+56  1762</td></tr>\n",
       "<tr><td>HD 234065</td></tr>\n",
       "<tr><td>TYC 3490-1083-1</td></tr>\n",
       "<tr><td>...</td></tr>\n",
       "<tr><td>HD 238351</td></tr>\n",
       "<tr><td>*  84 UMa</td></tr>\n",
       "<tr><td>HD 125557</td></tr>\n",
       "<tr><td>HD 145145</td></tr>\n",
       "<tr><td>TYC 3869-656-1</td></tr>\n",
       "<tr><td>HR  5372</td></tr>\n",
       "<tr><td>BD+49  2434</td></tr>\n",
       "<tr><td>TYC 3496-1082-1</td></tr>\n",
       "<tr><td>TYC 3497-1053-1</td></tr>\n",
       "<tr><td>TYC 3867-2-1</td></tr>\n",
       "<tr><td>HR  5169</td></tr>\n",
       "<tr><td>HD 125259</td></tr>\n",
       "</table>"
      ],
      "text/plain": [
       "<MaskedColumn name='MAIN_ID' dtype='object' description='Main identifier for an object' length=45>\n",
       " TYC 4164-274-1\n",
       " TYC 3471-333-1\n",
       "    BD+51  1966\n",
       "       HR  5345\n",
       "TYC 3489-1148-1\n",
       " TYC 3470-485-1\n",
       "      HD 234061\n",
       " TYC 3868-177-1\n",
       "      HD 238423\n",
       "    BD+56  1762\n",
       "      HD 234065\n",
       "TYC 3490-1083-1\n",
       "            ...\n",
       "      HD 238351\n",
       "      *  84 UMa\n",
       "      HD 125557\n",
       "      HD 145145\n",
       " TYC 3869-656-1\n",
       "       HR  5372\n",
       "    BD+49  2434\n",
       "TYC 3496-1082-1\n",
       "TYC 3497-1053-1\n",
       "   TYC 3867-2-1\n",
       "       HR  5169\n",
       "      HD 125259"
      ]
     },
     "execution_count": 15,
     "metadata": {},
     "output_type": "execute_result"
    }
   ],
   "source": [
    "result['MAIN_ID']"
   ]
  },
  {
   "cell_type": "code",
   "execution_count": 16,
   "metadata": {
    "collapsed": false,
    "scrolled": false
   },
   "outputs": [
    {
     "name": "stderr",
     "output_type": "stream",
     "text": [
      "/Users/semyeong/anaconda2/envs/gwb/lib/python3.5/site-packages/astropy/table/column.py:1096: MaskedArrayFutureWarning: setting an item on a masked array which has a shared mask will not copy the mask and also change the original mask array in the future.\n",
      "Check the NumPy 1.11 release notes for more information.\n",
      "  ma.MaskedArray.__setitem__(self, index, value)\n"
     ]
    },
    {
     "data": {
      "text/html": [
       "&lt;Table masked=True length=45&gt;\n",
       "<table id=\"table4607941824\" class=\"table-striped table-bordered table-condensed\">\n",
       "<thead><tr><th>MAIN_ID</th><th>SP_TYPE</th><th>BIBLIST_1850_2017</th></tr></thead>\n",
       "<thead><tr><th>object</th><th>object</th><th>int32</th></tr></thead>\n",
       "<tr><td>TYC 4164-274-1</td><td></td><td>0</td></tr>\n",
       "<tr><td>TYC 3851-600-1</td><td></td><td>0</td></tr>\n",
       "<tr><td>TYC 3867-1373-1</td><td></td><td>0</td></tr>\n",
       "<tr><td>TYC 3861-1374-1</td><td></td><td>0</td></tr>\n",
       "<tr><td>TYC 4173-609-1</td><td></td><td>0</td></tr>\n",
       "<tr><td>TYC 4174-1117-1</td><td></td><td>0</td></tr>\n",
       "<tr><td>HD 238351</td><td>G0</td><td>0</td></tr>\n",
       "<tr><td>TYC 3877-725-1</td><td></td><td>0</td></tr>\n",
       "<tr><td>TYC 3860-1483-1</td><td></td><td>0</td></tr>\n",
       "<tr><td>TYC 3486-1405-1</td><td></td><td>0</td></tr>\n",
       "<tr><td>...</td><td>...</td><td>...</td></tr>\n",
       "<tr><td>HD 133909</td><td>A2</td><td>7</td></tr>\n",
       "<tr><td>HD 125557</td><td>A2</td><td>8</td></tr>\n",
       "<tr><td>HD 124370</td><td>F2IV</td><td>11</td></tr>\n",
       "<tr><td>HD 129865</td><td>F0</td><td>16</td></tr>\n",
       "<tr><td>HR  5345</td><td>A4V</td><td>20</td></tr>\n",
       "<tr><td>HR  5280</td><td>A2V</td><td>26</td></tr>\n",
       "<tr><td>HR  5372</td><td>A5Vn</td><td>30</td></tr>\n",
       "<tr><td>HR  5169</td><td>A1V</td><td>45</td></tr>\n",
       "<tr><td>*  81 UMa</td><td>A0V</td><td>59</td></tr>\n",
       "<tr><td>*  84 UMa</td><td>A0VpSrCrEu</td><td>125</td></tr>\n",
       "</table>"
      ],
      "text/plain": [
       "<Table masked=True length=45>\n",
       "    MAIN_ID      SP_TYPE   BIBLIST_1850_2017\n",
       "     object       object         int32      \n",
       "--------------- ---------- -----------------\n",
       " TYC 4164-274-1                            0\n",
       " TYC 3851-600-1                            0\n",
       "TYC 3867-1373-1                            0\n",
       "TYC 3861-1374-1                            0\n",
       " TYC 4173-609-1                            0\n",
       "TYC 4174-1117-1                            0\n",
       "      HD 238351         G0                 0\n",
       " TYC 3877-725-1                            0\n",
       "TYC 3860-1483-1                            0\n",
       "TYC 3486-1405-1                            0\n",
       "            ...        ...               ...\n",
       "      HD 133909         A2                 7\n",
       "      HD 125557         A2                 8\n",
       "      HD 124370       F2IV                11\n",
       "      HD 129865         F0                16\n",
       "       HR  5345        A4V                20\n",
       "       HR  5280        A2V                26\n",
       "       HR  5372       A5Vn                30\n",
       "       HR  5169        A1V                45\n",
       "      *  81 UMa        A0V                59\n",
       "      *  84 UMa A0VpSrCrEu               125"
      ]
     },
     "execution_count": 16,
     "metadata": {},
     "output_type": "execute_result"
    }
   ],
   "source": [
    "result.sort('BIBLIST_1850_2017')\n",
    "result['MAIN_ID', 'SP_TYPE', 'BIBLIST_1850_2017']"
   ]
  },
  {
   "cell_type": "code",
   "execution_count": 6,
   "metadata": {
    "collapsed": false
   },
   "outputs": [],
   "source": [
    "import sys\n",
    "sys.path.append('../../gaia-wide-binaries/notebooks/')\n",
    "import tap\n",
    "\n",
    "class SimbadTAP(tap.TAP_Service):\n",
    "    def __init__(self, *args, **kwargs):\n",
    "        host = \"simbad.u-strasbg.fr\"\n",
    "        port = 80\n",
    "        path = \"/simbad/sim-tap\"\n",
    "        tap.TAP_Service.__init__(self, host, path, port, *args, **kwargs)"
   ]
  },
  {
   "cell_type": "code",
   "execution_count": 7,
   "metadata": {
    "collapsed": true
   },
   "outputs": [],
   "source": [
    "query_template = \"\"\"\n",
    "SELECT BIBCode,\n",
    "       Journal,\n",
    "       Title,\n",
    "       Year,\n",
    "       Volume,\n",
    "       DOI\n",
    "FROM ref JOIN has_ref ON oidbibref = oidbib JOIN ident ON has_ref.oidref = ident.oidref\n",
    "WHERE id = '{}'\n",
    "ORDER BY Year DESC;\n",
    "\"\"\""
   ]
  },
  {
   "cell_type": "code",
   "execution_count": 8,
   "metadata": {
    "collapsed": false
   },
   "outputs": [],
   "source": [
    "mytap = SimbadTAP()"
   ]
  },
  {
   "cell_type": "code",
   "execution_count": 20,
   "metadata": {
    "collapsed": false
   },
   "outputs": [
    {
     "data": {
      "text/html": [
       "&lt;Table masked=True length=0&gt;\n",
       "<table id=\"table4606111192\" class=\"table-striped table-bordered table-condensed\">\n",
       "<thead><tr><th>oidbib</th><th>bibcode</th><th>year</th><th>journal</th><th>page</th><th>last_page</th><th>volume</th><th>title</th><th>doi</th><th>nbobject</th></tr></thead>\n",
       "<thead><tr><th>int64</th><th>object</th><th>int16</th><th>object</th><th>int32</th><th>int32</th><th>int32</th><th>object</th><th>object</th><th>int32</th></tr></thead>\n",
       "</table>"
      ],
      "text/plain": [
       "<Table masked=True length=0>\n",
       "oidbib bibcode  year journal  page last_page volume title   doi   nbobject\n",
       "int64   object int16  object int32   int32   int32  object object  int32  \n",
       "------ ------- ----- ------- ----- --------- ------ ------ ------ --------"
      ]
     },
     "execution_count": 20,
     "metadata": {},
     "output_type": "execute_result"
    }
   ],
   "source": [
    "mytap.get_table_info('ref')"
   ]
  },
  {
   "cell_type": "code",
   "execution_count": 9,
   "metadata": {
    "collapsed": true
   },
   "outputs": [],
   "source": [
    "import time"
   ]
  },
  {
   "cell_type": "code",
   "execution_count": 16,
   "metadata": {
    "collapsed": false
   },
   "outputs": [
    {
     "name": "stdout",
     "output_type": "stream",
     "text": [
      "searching for TYC 4164-274-1\n",
      "searching for TYC 3471-333-1\n",
      "searching for BD+51  1966\n",
      "searching for HR  5345\n",
      "searching for TYC 3489-1148-1\n",
      "searching for TYC 3470-485-1\n",
      "searching for HD 234061\n",
      "searching for TYC 3868-177-1\n",
      "searching for HD 238423\n",
      "searching for BD+56  1762\n",
      "searching for HD 234065\n",
      "searching for TYC 3490-1083-1\n",
      "searching for HD 133909\n",
      "searching for TYC 3471-233-1\n",
      "searching for TYC 3486-1405-1\n",
      "searching for TYC 3860-1483-1\n",
      "searching for TYC 3877-725-1\n",
      "searching for HD 129865\n",
      "searching for TYC 4174-1117-1\n",
      "searching for TYC 4173-609-1\n",
      "searching for HD 135501\n",
      "searching for TYC 3867-1373-1\n",
      "searching for BD+60  1587\n",
      "searching for HR  5280\n",
      "searching for TYC 3875-762-1\n",
      "searching for NAME Stella Ludoviciana\n",
      "searching for HD 113491\n",
      "searching for TYC 4180-573-1\n",
      "searching for *  81 UMa\n",
      "searching for HD 124370\n",
      "searching for HD 137589\n",
      "searching for TYC 3851-600-1\n",
      "searching for TYC 3861-1374-1\n",
      "searching for HD 238351\n",
      "searching for *  84 UMa\n",
      "searching for HD 125557\n",
      "searching for HD 145145\n",
      "searching for TYC 3869-656-1\n",
      "searching for HR  5372\n",
      "searching for BD+49  2434\n",
      "searching for TYC 3496-1082-1\n",
      "searching for TYC 3497-1053-1\n",
      "searching for TYC 3867-2-1\n",
      "searching for HR  5169\n",
      "searching for HD 125259\n"
     ]
    }
   ],
   "source": [
    "biblist = []\n",
    "for iden in result['MAIN_ID']:\n",
    "    print('searching for {}'.format(iden.decode()))\n",
    "    biblist.append(mytap.query(query_template.format(iden.decode())))\n",
    "    time.sleep(5)  ## seems that I'm violating some rate limit or something"
   ]
  },
  {
   "cell_type": "code",
   "execution_count": 38,
   "metadata": {
    "collapsed": false
   },
   "outputs": [
    {
     "data": {
      "text/plain": [
       "(45, 45, 45)"
      ]
     },
     "execution_count": 38,
     "metadata": {},
     "output_type": "execute_result"
    }
   ],
   "source": [
    "len(biblist), len(df), len(result)"
   ]
  },
  {
   "cell_type": "code",
   "execution_count": 39,
   "metadata": {
    "collapsed": false
   },
   "outputs": [],
   "source": [
    "# add which object's reference it is\n",
    "for i, t in enumerate(biblist):\n",
    "    t['hip_tyc_id'] = [df.hip_tyc_id[i] for j in range(len(t))]\n",
    "    t['simbad_main_id'] = [result['MAIN_ID'][i] for j in range(len(t))]"
   ]
  },
  {
   "cell_type": "code",
   "execution_count": 40,
   "metadata": {
    "collapsed": false,
    "scrolled": false
   },
   "outputs": [],
   "source": [
    "from astropy import table"
   ]
  },
  {
   "cell_type": "code",
   "execution_count": 41,
   "metadata": {
    "collapsed": false
   },
   "outputs": [],
   "source": [
    "dfBib = pd.concat([t.to_pandas() for t in biblist])"
   ]
  },
  {
   "cell_type": "code",
   "execution_count": 43,
   "metadata": {
    "collapsed": true
   },
   "outputs": [],
   "source": [
    "table.Table.from_pandas(dfBib).show_in_browser()"
   ]
  },
  {
   "cell_type": "code",
   "execution_count": 30,
   "metadata": {
    "collapsed": false
   },
   "outputs": [
    {
     "name": "stdout",
     "output_type": "stream",
     "text": [
      "total number of refs = 391\n",
      "total number of unique refs = 232\n",
      "number of stars with refs = 25 / 45\n"
     ]
    }
   ],
   "source": [
    "print(\"total number of refs = {:d}\".format(len(dfBib)))\n",
    "print(\"total number of unique refs = {:d}\".format(dfBib.bibcode.unique().size))\n",
    "print(\"number of stars with refs = {:d} / {:d}\".format(\n",
    "        df.hip_tyc_id.size - dfBib.hip_tyc_id.unique().size, df.hip_tyc_id.size))"
   ]
  },
  {
   "cell_type": "code",
   "execution_count": 30,
   "metadata": {
    "collapsed": false,
    "scrolled": true
   },
   "outputs": [],
   "source": [
    "dfBib.index = range(len(dfBib))  # re-index"
   ]
  },
  {
   "cell_type": "code",
   "execution_count": 48,
   "metadata": {
    "collapsed": false
   },
   "outputs": [],
   "source": [
    "dfBib['bibcode'] = dfBib.bibcode.str.decode('utf-8')"
   ]
  },
  {
   "cell_type": "code",
   "execution_count": 50,
   "metadata": {
    "collapsed": true
   },
   "outputs": [],
   "source": [
    "dfBib['bibcode'] = dfBib.bibcode.str.decode('utf-8')\n",
    "dfBib['journal'] = dfBib.journal.str.decode('utf-8')\n",
    "dfBib['title'] = dfBib.title.str.decode('utf-8')\n",
    "dfBib['doi'] = dfBib.doi.str.decode('utf-8')\n",
    "dfBib['simbad_main_id'] = dfBib.simbad_main_id.str.decode('utf-8')\n",
    "dfBib['year'] = dfBib.year.apply(int)\n",
    "dfBib['volume'] = dfBib.volume.apply(int)"
   ]
  },
  {
   "cell_type": "code",
   "execution_count": 52,
   "metadata": {
    "collapsed": false
   },
   "outputs": [],
   "source": [
    "dfBib.to_csv(\"../data/target_bib.csv\", index=False)"
   ]
  }
 ],
 "metadata": {
  "anaconda-cloud": {},
  "kernelspec": {
   "display_name": "Python [conda env:gwb]",
   "language": "python",
   "name": "conda-env-gwb-py"
  },
  "language_info": {
   "codemirror_mode": {
    "name": "ipython",
    "version": 3
   },
   "file_extension": ".py",
   "mimetype": "text/x-python",
   "name": "python",
   "nbconvert_exporter": "python",
   "pygments_lexer": "ipython3",
   "version": "3.5.2"
  }
 },
 "nbformat": 4,
 "nbformat_minor": 2
}
