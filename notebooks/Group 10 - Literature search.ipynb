{
 "cells": [
  {
   "cell_type": "code",
   "execution_count": 1,
   "metadata": {
    "collapsed": true
   },
   "outputs": [],
   "source": [
    "%matplotlib inline\n",
    "import matplotlib.pyplot as plt\n",
    "import pandas as pd\n",
    "\n",
    "from astropy import units as u\n",
    "from astropy import coordinates as coords\n",
    "from astroquery.simbad import Simbad\n",
    "import astroquery\n",
    "plt.style.use(\"fivethirtyeight\")"
   ]
  },
  {
   "cell_type": "code",
   "execution_count": 2,
   "metadata": {
    "collapsed": true
   },
   "outputs": [],
   "source": [
    "import gwb"
   ]
  },
  {
   "cell_type": "code",
   "execution_count": 3,
   "metadata": {
    "collapsed": true
   },
   "outputs": [],
   "source": [
    "tgas = gwb.TGASData(\"/Users/semyeong/data/gaia/tgas_source/stacked_tgas.fits\")"
   ]
  },
  {
   "cell_type": "code",
   "execution_count": 4,
   "metadata": {
    "collapsed": false
   },
   "outputs": [
    {
     "name": "stdout",
     "output_type": "stream",
     "text": [
      "45\n"
     ]
    }
   ],
   "source": [
    "df = pd.read_csv(\"../data/targets.csv\")\n",
    "print(len(df))"
   ]
  },
  {
   "cell_type": "code",
   "execution_count": 218,
   "metadata": {
    "collapsed": true
   },
   "outputs": [],
   "source": [
    "c = coords.SkyCoord(df.tgas_ra, df.tgas_dec, unit='deg')"
   ]
  },
  {
   "cell_type": "code",
   "execution_count": 11,
   "metadata": {
    "collapsed": false
   },
   "outputs": [],
   "source": [
    "customSimbad = Simbad()\n",
    "customSimbad.add_votable_fields('sptype')\n",
    "customSimbad.add_votable_fields('orv')\n",
    "customSimbad.add_votable_fields('bibcodelist(1850-2017)')"
   ]
  },
  {
   "cell_type": "code",
   "execution_count": 12,
   "metadata": {
    "collapsed": false
   },
   "outputs": [
    {
     "name": "stdout",
     "output_type": "stream",
     "text": [
      "Radial velocity value. Eventually translated from a redshift\n",
      "Radial velocities of galaxies\n",
      "General Catalogue of Radial Velocities\n",
      "oRV stellar radial velocities (will shortly replace \n",
      "              the GCRV measurements.\n"
     ]
    }
   ],
   "source": [
    "for field in ['rv_value', 'rvel', 'gcrv', 'orv']:\n",
    "    customSimbad.get_field_description(field)"
   ]
  },
  {
   "cell_type": "code",
   "execution_count": 13,
   "metadata": {
    "collapsed": true
   },
   "outputs": [],
   "source": [
    "result = customSimbad.query_objects(df.hip_tyc_id)"
   ]
  },
  {
   "cell_type": "code",
   "execution_count": null,
   "metadata": {
    "collapsed": false
   },
   "outputs": [],
   "source": [
    "result['MAIN_ID', 'oRV_RVel',\n",
    " 'oRV_Q',\n",
    " 'oRV_Nmes',\n",
    " 'oRV_Rem',\n",
    " 'oRV_Orig',\n",
    " 'oRV_Dis',\n",
    " 'oRV_bibcode',]"
   ]
  },
  {
   "cell_type": "code",
   "execution_count": 16,
   "metadata": {
    "collapsed": false,
    "scrolled": false
   },
   "outputs": [
    {
     "name": "stderr",
     "output_type": "stream",
     "text": [
      "/Users/semyeong/anaconda2/envs/gwb/lib/python3.5/site-packages/astropy/table/column.py:1096: MaskedArrayFutureWarning: setting an item on a masked array which has a shared mask will not copy the mask and also change the original mask array in the future.\n",
      "Check the NumPy 1.11 release notes for more information.\n",
      "  ma.MaskedArray.__setitem__(self, index, value)\n"
     ]
    },
    {
     "data": {
      "text/html": [
       "&lt;Table masked=True length=45&gt;\n",
       "<table id=\"table4607941824\" class=\"table-striped table-bordered table-condensed\">\n",
       "<thead><tr><th>MAIN_ID</th><th>SP_TYPE</th><th>BIBLIST_1850_2017</th></tr></thead>\n",
       "<thead><tr><th>object</th><th>object</th><th>int32</th></tr></thead>\n",
       "<tr><td>TYC 4164-274-1</td><td></td><td>0</td></tr>\n",
       "<tr><td>TYC 3851-600-1</td><td></td><td>0</td></tr>\n",
       "<tr><td>TYC 3867-1373-1</td><td></td><td>0</td></tr>\n",
       "<tr><td>TYC 3861-1374-1</td><td></td><td>0</td></tr>\n",
       "<tr><td>TYC 4173-609-1</td><td></td><td>0</td></tr>\n",
       "<tr><td>TYC 4174-1117-1</td><td></td><td>0</td></tr>\n",
       "<tr><td>HD 238351</td><td>G0</td><td>0</td></tr>\n",
       "<tr><td>TYC 3877-725-1</td><td></td><td>0</td></tr>\n",
       "<tr><td>TYC 3860-1483-1</td><td></td><td>0</td></tr>\n",
       "<tr><td>TYC 3486-1405-1</td><td></td><td>0</td></tr>\n",
       "<tr><td>...</td><td>...</td><td>...</td></tr>\n",
       "<tr><td>HD 133909</td><td>A2</td><td>7</td></tr>\n",
       "<tr><td>HD 125557</td><td>A2</td><td>8</td></tr>\n",
       "<tr><td>HD 124370</td><td>F2IV</td><td>11</td></tr>\n",
       "<tr><td>HD 129865</td><td>F0</td><td>16</td></tr>\n",
       "<tr><td>HR  5345</td><td>A4V</td><td>20</td></tr>\n",
       "<tr><td>HR  5280</td><td>A2V</td><td>26</td></tr>\n",
       "<tr><td>HR  5372</td><td>A5Vn</td><td>30</td></tr>\n",
       "<tr><td>HR  5169</td><td>A1V</td><td>45</td></tr>\n",
       "<tr><td>*  81 UMa</td><td>A0V</td><td>59</td></tr>\n",
       "<tr><td>*  84 UMa</td><td>A0VpSrCrEu</td><td>125</td></tr>\n",
       "</table>"
      ],
      "text/plain": [
       "<Table masked=True length=45>\n",
       "    MAIN_ID      SP_TYPE   BIBLIST_1850_2017\n",
       "     object       object         int32      \n",
       "--------------- ---------- -----------------\n",
       " TYC 4164-274-1                            0\n",
       " TYC 3851-600-1                            0\n",
       "TYC 3867-1373-1                            0\n",
       "TYC 3861-1374-1                            0\n",
       " TYC 4173-609-1                            0\n",
       "TYC 4174-1117-1                            0\n",
       "      HD 238351         G0                 0\n",
       " TYC 3877-725-1                            0\n",
       "TYC 3860-1483-1                            0\n",
       "TYC 3486-1405-1                            0\n",
       "            ...        ...               ...\n",
       "      HD 133909         A2                 7\n",
       "      HD 125557         A2                 8\n",
       "      HD 124370       F2IV                11\n",
       "      HD 129865         F0                16\n",
       "       HR  5345        A4V                20\n",
       "       HR  5280        A2V                26\n",
       "       HR  5372       A5Vn                30\n",
       "       HR  5169        A1V                45\n",
       "      *  81 UMa        A0V                59\n",
       "      *  84 UMa A0VpSrCrEu               125"
      ]
     },
     "execution_count": 16,
     "metadata": {},
     "output_type": "execute_result"
    }
   ],
   "source": [
    "result.sort('BIBLIST_1850_2017')\n",
    "result['MAIN_ID', 'SP_TYPE', 'BIBLIST_1850_2017']"
   ]
  },
  {
   "cell_type": "code",
   "execution_count": 6,
   "metadata": {
    "collapsed": false
   },
   "outputs": [],
   "source": [
    "import sys\n",
    "sys.path.append('../../gaia-wide-binaries/notebooks/')\n",
    "import tap\n",
    "\n",
    "class SimbadTAP(tap.TAP_Service):\n",
    "    def __init__(self, *args, **kwargs):\n",
    "        host = \"simbad.u-strasbg.fr\"\n",
    "        port = 80\n",
    "        path = \"/simbad/sim-tap\"\n",
    "        tap.TAP_Service.__init__(self, host, path, port, *args, **kwargs)"
   ]
  },
  {
   "cell_type": "code",
   "execution_count": 7,
   "metadata": {
    "collapsed": true
   },
   "outputs": [],
   "source": [
    "query_template = \"\"\"\n",
    "SELECT BIBCode,\n",
    "       Journal,\n",
    "       Title,\n",
    "       Year,\n",
    "       Volume,\n",
    "       DOI\n",
    "FROM ref JOIN has_ref ON oidbibref = oidbib JOIN ident ON has_ref.oidref = ident.oidref\n",
    "WHERE id = '{}'\n",
    "ORDER BY Year DESC;\n",
    "\"\"\""
   ]
  },
  {
   "cell_type": "code",
   "execution_count": 8,
   "metadata": {
    "collapsed": false
   },
   "outputs": [],
   "source": [
    "mytap = SimbadTAP()"
   ]
  },
  {
   "cell_type": "code",
   "execution_count": 20,
   "metadata": {
    "collapsed": false
   },
   "outputs": [
    {
     "data": {
      "text/html": [
       "&lt;Table masked=True length=0&gt;\n",
       "<table id=\"table4606111192\" class=\"table-striped table-bordered table-condensed\">\n",
       "<thead><tr><th>oidbib</th><th>bibcode</th><th>year</th><th>journal</th><th>page</th><th>last_page</th><th>volume</th><th>title</th><th>doi</th><th>nbobject</th></tr></thead>\n",
       "<thead><tr><th>int64</th><th>object</th><th>int16</th><th>object</th><th>int32</th><th>int32</th><th>int32</th><th>object</th><th>object</th><th>int32</th></tr></thead>\n",
       "</table>"
      ],
      "text/plain": [
       "<Table masked=True length=0>\n",
       "oidbib bibcode  year journal  page last_page volume title   doi   nbobject\n",
       "int64   object int16  object int32   int32   int32  object object  int32  \n",
       "------ ------- ----- ------- ----- --------- ------ ------ ------ --------"
      ]
     },
     "execution_count": 20,
     "metadata": {},
     "output_type": "execute_result"
    }
   ],
   "source": [
    "mytap.get_table_info('ref')"
   ]
  },
  {
   "cell_type": "code",
   "execution_count": 9,
   "metadata": {
    "collapsed": true
   },
   "outputs": [],
   "source": [
    "import time"
   ]
  },
  {
   "cell_type": "code",
   "execution_count": 16,
   "metadata": {
    "collapsed": false
   },
   "outputs": [
    {
     "name": "stdout",
     "output_type": "stream",
     "text": [
      "searching for TYC 4164-274-1\n",
      "searching for TYC 3471-333-1\n",
      "searching for BD+51  1966\n",
      "searching for HR  5345\n",
      "searching for TYC 3489-1148-1\n",
      "searching for TYC 3470-485-1\n",
      "searching for HD 234061\n",
      "searching for TYC 3868-177-1\n",
      "searching for HD 238423\n",
      "searching for BD+56  1762\n",
      "searching for HD 234065\n",
      "searching for TYC 3490-1083-1\n",
      "searching for HD 133909\n",
      "searching for TYC 3471-233-1\n",
      "searching for TYC 3486-1405-1\n",
      "searching for TYC 3860-1483-1\n",
      "searching for TYC 3877-725-1\n",
      "searching for HD 129865\n",
      "searching for TYC 4174-1117-1\n",
      "searching for TYC 4173-609-1\n",
      "searching for HD 135501\n",
      "searching for TYC 3867-1373-1\n",
      "searching for BD+60  1587\n",
      "searching for HR  5280\n",
      "searching for TYC 3875-762-1\n",
      "searching for NAME Stella Ludoviciana\n",
      "searching for HD 113491\n",
      "searching for TYC 4180-573-1\n",
      "searching for *  81 UMa\n",
      "searching for HD 124370\n",
      "searching for HD 137589\n",
      "searching for TYC 3851-600-1\n",
      "searching for TYC 3861-1374-1\n",
      "searching for HD 238351\n",
      "searching for *  84 UMa\n",
      "searching for HD 125557\n",
      "searching for HD 145145\n",
      "searching for TYC 3869-656-1\n",
      "searching for HR  5372\n",
      "searching for BD+49  2434\n",
      "searching for TYC 3496-1082-1\n",
      "searching for TYC 3497-1053-1\n",
      "searching for TYC 3867-2-1\n",
      "searching for HR  5169\n",
      "searching for HD 125259\n"
     ]
    }
   ],
   "source": [
    "biblist = []\n",
    "for iden in result['MAIN_ID']:\n",
    "    print('searching for {}'.format(iden.decode()))\n",
    "    biblist.append(mytap.query(query_template.format(iden.decode())))\n",
    "    time.sleep(5)  ## seems that I'm violating some rate limit or something"
   ]
  },
  {
   "cell_type": "code",
   "execution_count": 38,
   "metadata": {
    "collapsed": false
   },
   "outputs": [
    {
     "data": {
      "text/plain": [
       "(45, 45, 45)"
      ]
     },
     "execution_count": 38,
     "metadata": {},
     "output_type": "execute_result"
    }
   ],
   "source": [
    "len(biblist), len(df), len(result)"
   ]
  },
  {
   "cell_type": "code",
   "execution_count": 39,
   "metadata": {
    "collapsed": false
   },
   "outputs": [],
   "source": [
    "# add which object's reference it is\n",
    "for i, t in enumerate(biblist):\n",
    "    t['hip_tyc_id'] = [df.hip_tyc_id[i] for j in range(len(t))]\n",
    "    t['simbad_main_id'] = [result['MAIN_ID'][i] for j in range(len(t))]"
   ]
  },
  {
   "cell_type": "code",
   "execution_count": 40,
   "metadata": {
    "collapsed": false,
    "scrolled": false
   },
   "outputs": [],
   "source": [
    "from astropy import table"
   ]
  },
  {
   "cell_type": "code",
   "execution_count": 57,
   "metadata": {
    "collapsed": false
   },
   "outputs": [],
   "source": [
    "dfBib = pd.concat([t.to_pandas() for t in biblist])"
   ]
  },
  {
   "cell_type": "code",
   "execution_count": 43,
   "metadata": {
    "collapsed": true
   },
   "outputs": [],
   "source": [
    "# table.Table.from_pandas(dfBib).show_in_browser()"
   ]
  },
  {
   "cell_type": "code",
   "execution_count": 55,
   "metadata": {
    "collapsed": false
   },
   "outputs": [
    {
     "name": "stdout",
     "output_type": "stream",
     "text": [
      "total number of refs = 391\n",
      "total number of unique refs = 232\n",
      "number of stars with refs = 25 / 45\n"
     ]
    }
   ],
   "source": [
    "print(\"total number of refs = {:d}\".format(len(dfBib)))\n",
    "print(\"total number of unique refs = {:d}\".format(dfBib.bibcode.unique().size))\n",
    "print(\"number of stars with refs = {:d} / {:d}\".format(\n",
    "        df.hip_tyc_id.size - dfBib.hip_tyc_id.unique().size, df.hip_tyc_id.size))"
   ]
  },
  {
   "cell_type": "code",
   "execution_count": 58,
   "metadata": {
    "collapsed": false
   },
   "outputs": [],
   "source": [
    "dfBib['bibcode'] = dfBib.bibcode.str.decode('utf-8')\n",
    "dfBib['journal'] = dfBib.journal.str.decode('utf-8')\n",
    "dfBib['title'] = dfBib.title.str.decode('utf-8')\n",
    "dfBib['doi'] = dfBib.doi.str.decode('utf-8')\n",
    "dfBib['simbad_main_id'] = dfBib.simbad_main_id.str.decode('utf-8')\n",
    "dfBib['year'] = dfBib.year.apply(int)\n",
    "dfBib['volume'] = dfBib.volume.apply(int)"
   ]
  },
  {
   "cell_type": "code",
   "execution_count": 59,
   "metadata": {
    "collapsed": false
   },
   "outputs": [],
   "source": [
    "dfBib.to_csv(\"../data/target_bib.csv\", index=False)"
   ]
  },
  {
   "cell_type": "code",
   "execution_count": 79,
   "metadata": {
    "collapsed": false
   },
   "outputs": [
    {
     "name": "stdout",
     "output_type": "stream",
     "text": [
      "HIP 68637 Near infrared observations of soft X-ray selected AGN. 2002A&A...386..854G\n",
      "HIP 69275 X-ray-emitting stars identified from the ROSAT All-Sky Survey and the  Sloan Digital Sky Survey. 2009ApJS..181..444A\n",
      "HIP 69958 The X-ray emission of A-type stars. 1995PASP..107.1034S\n",
      "TYC 3867-2-1 X-ray-emitting stars identified from the ROSAT All-Sky Survey and the  Sloan Digital Sky Survey. 2009ApJS..181..444A\n",
      "TYC 3867-2-1 XID II: statistical cross-association of ROSAT bright source catalog  X-ray sources with 2MASS point source catalog near-infrared sources. 2009ApJS..184..138H\n",
      "TYC 3867-2-1 Spectral classification of optical counterparts to ROSAT all-sky survey X-ray sources. 2007AJ....133.2495D\n",
      "TYC 3867-2-1 The Hamburg/RASS Catalogue of optical identifications. Northern high-galactic latitude ROSAT Bright Source Catalogue X-ray  sources. 2003A&A...406..535Z\n",
      "TYC 3867-281-1 X-ray-emitting stars identified from the ROSAT All-Sky Survey and the  Sloan Digital Sky Survey. 2009ApJS..181..444A\n"
     ]
    }
   ],
   "source": [
    "irexcess = []\n",
    "for name, g in dfBib.groupby('hip_tyc_id'):\n",
    "    if '2012MNRAS.427..343M' in g.bibcode.values:\n",
    "        irexcess.append(name)\n",
    "    for title, bibcode in zip(g.title, g.bibcode):\n",
    "        if 'x-ray' in title.lower():\n",
    "            print(name, title, bibcode)\n",
    "        "
   ]
  },
  {
   "cell_type": "code",
   "execution_count": null,
   "metadata": {
    "collapsed": true
   },
   "outputs": [],
   "source": [
    "xray = ['HIP 69275']"
   ]
  },
  {
   "cell_type": "code",
   "execution_count": 81,
   "metadata": {
    "collapsed": false
   },
   "outputs": [
    {
     "name": "stdout",
     "output_type": "stream",
     "text": [
      "HIP 63702\n",
      "HIP 66198\n",
      "HIP 67005\n",
      "HIP 67231\n",
      "HIP 68637\n",
      "HIP 69275\n",
      "HIP 69650\n",
      "HIP 69721\n",
      "HIP 69917\n",
      "HIP 69958\n",
      "HIP 71911\n",
      "HIP 72389\n",
      "HIP 73730\n",
      "HIP 74458\n",
      "HIP 75449\n",
      "HIP 77903\n",
      "HIP 78958\n"
     ]
    }
   ],
   "source": [
    "print('\\n'.join(irexcess))"
   ]
  },
  {
   "cell_type": "code",
   "execution_count": null,
   "metadata": {
    "collapsed": true
   },
   "outputs": [],
   "source": [
    "for name"
   ]
  }
 ],
 "metadata": {
  "anaconda-cloud": {},
  "kernelspec": {
   "display_name": "Python [conda env:gwb]",
   "language": "python",
   "name": "conda-env-gwb-py"
  },
  "language_info": {
   "codemirror_mode": {
    "name": "ipython",
    "version": 3
   },
   "file_extension": ".py",
   "mimetype": "text/x-python",
   "name": "python",
   "nbconvert_exporter": "python",
   "pygments_lexer": "ipython3",
   "version": "3.5.2"
  }
 },
 "nbformat": 4,
 "nbformat_minor": 2
}
