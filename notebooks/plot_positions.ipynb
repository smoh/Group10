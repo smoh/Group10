{
 "cells": [
  {
   "cell_type": "code",
   "execution_count": null,
   "metadata": {
    "collapsed": true
   },
   "outputs": [],
   "source": [
    "%matplotlib inline\n",
    "import matplotlib.pyplot as plt\n",
    "import palettable\n",
    "import pandas as pd\n",
    "import numpy as np\n",
    "\n",
    "from astropy import units as u\n",
    "from astropy import coordinates as coords\n",
    "\n",
    "plt.style.use(\"notebook.mplstyle\")\n",
    "from astropy.table import Table"
   ]
  },
  {
   "cell_type": "code",
   "execution_count": null,
   "metadata": {
    "collapsed": true
   },
   "outputs": [],
   "source": [
    "import gwb, groupten\n",
    "import networkx as nx"
   ]
  },
  {
   "cell_type": "code",
   "execution_count": null,
   "metadata": {
    "collapsed": false
   },
   "outputs": [],
   "source": [
    "df = groupten.load_targets()"
   ]
  },
  {
   "cell_type": "code",
   "execution_count": null,
   "metadata": {
    "collapsed": true
   },
   "outputs": [],
   "source": [
    "tgas = gwb.TGASData(\"../../gaia-wide-binaries/data/stacked_tgas.fits\")"
   ]
  },
  {
   "cell_type": "code",
   "execution_count": null,
   "metadata": {
    "collapsed": true
   },
   "outputs": [],
   "source": [
    "pmra, pmdec = tgas.pmra.value, tgas.pmdec.value\n",
    "ra, dec = tgas.ra.value, tgas.dec.value"
   ]
  },
  {
   "cell_type": "code",
   "execution_count": null,
   "metadata": {
    "collapsed": false
   },
   "outputs": [],
   "source": [
    "vra,vdec = tgas.get_vtan().value.T"
   ]
  },
  {
   "cell_type": "code",
   "execution_count": null,
   "metadata": {
    "collapsed": false
   },
   "outputs": [],
   "source": [
    "dist = tgas.get_distance().value"
   ]
  },
  {
   "cell_type": "code",
   "execution_count": null,
   "metadata": {
    "collapsed": false
   },
   "outputs": [],
   "source": [
    "graph = nx.read_gpickle(\"../data/gllr2.pkl\")"
   ]
  },
  {
   "cell_type": "code",
   "execution_count": null,
   "metadata": {
    "collapsed": false
   },
   "outputs": [],
   "source": [
    "norm = plt.matplotlib.colors.Normalize(vmin=2, vmax=8)\n",
    "cmap = plt.cm.colors.ListedColormap(palettable.colorbrewer.sequential.PuBu_6.mpl_colors)\n",
    "mappable = plt.cm.ScalarMappable(norm=norm, cmap=cmap)"
   ]
  },
  {
   "cell_type": "code",
   "execution_count": null,
   "metadata": {
    "collapsed": false
   },
   "outputs": [],
   "source": [
    "pos = {node: (ra[int(node)], dec[int(node)]) for node in graph.nodes()}\n",
    "edge_color = [mappable.to_rgba(x[2]['weight']) for x in graph.edges(data=True)]\n",
    "nx.draw_networkx_edges(\n",
    "    graph, pos=pos,\n",
    "    edge_color=edge_color, width=2.)\n",
    "\n",
    "nodes = np.array(graph.nodes()).astype(int)\n",
    "plt.scatter(ra[nodes], dec[nodes], edgecolors='w', c='k');\n",
    "q = plt.quiver(ra[nodes], dec[nodes], pmra[nodes], pmdec[nodes],\n",
    "               width=0.005, scale=50, scale_units='inches');\n",
    "qk = plt.quiverkey(q, 0.6, 0.92, 20, r'$20\\,\\mathrm{mas}\\,\\mathrm{yr}^{-1}$', labelpos='E',\n",
    "                   coordinates='axes', fontproperties=dict(size=20),)\n",
    "\n",
    "mappable.set_array(np.linspace(2,8,10))\n",
    "cb = plt.colorbar(mappable, ticks=[2,3,4,5,6,7,8],);\n",
    "cb.set_label('$\\ln\\mathcal{L}_1/\\mathcal{L}_2$', );\n",
    "plt.xlabel(\"RA [deg]\");\n",
    "plt.ylabel(\"Dec [deg]\");\n",
    "plt.tight_layout()\n",
    "plt.savefig(\"../paper/figures/ra_dec_pm.pdf\")"
   ]
  },
  {
   "cell_type": "code",
   "execution_count": null,
   "metadata": {
    "collapsed": false
   },
   "outputs": [],
   "source": [
    "pos = {node: (ra[int(node)], dec[int(node)]) for node in graph.nodes()}\n",
    "edge_color = [mappable.to_rgba(x[2]['weight']) for x in graph.edges(data=True)]\n",
    "nx.draw_networkx_edges(\n",
    "    graph, pos=pos,\n",
    "    edge_color=edge_color, width=2.)\n",
    "\n",
    "nodes = np.array(graph.nodes()).astype(int)\n",
    "plt.scatter(ra[nodes], dec[nodes], edgecolors='w', c='k');\n",
    "q = plt.quiver(ra[nodes], dec[nodes], vra[nodes], vdec[nodes],\n",
    "               width=0.005, scale=30, scale_units='inches');\n",
    "qk = plt.quiverkey(q, 0.6, 0.92, 10, r'$10\\,\\mathrm{km}\\,\\mathrm{s}^{-1}$', labelpos='E',\n",
    "                   coordinates='axes', fontproperties=dict(size=20),)\n",
    "\n",
    "mappable.set_array(np.linspace(2,8,10))\n",
    "cb = plt.colorbar(mappable, ticks=[2,3,4,5,6,7,8],);\n",
    "cb.set_label('$\\ln\\mathcal{L}_1/\\mathcal{L}_2$', );\n",
    "plt.xlabel(\"RA [deg]\");\n",
    "plt.ylabel(\"Dec [deg]\");\n",
    "plt.tight_layout()\n",
    "plt.savefig(\"../paper/figures/ra_dec_vel.pdf\")"
   ]
  },
  {
   "cell_type": "code",
   "execution_count": null,
   "metadata": {
    "collapsed": false
   },
   "outputs": [],
   "source": [
    "fig, (ax1,ax2) = plt.subplots(2, 1, figsize=(4,6), sharex=True)\n",
    "fig.subplots_adjust(hspace=0.08);\n",
    "ax2.tick_params()\n",
    "\n",
    "ax1.scatter(df.gx, df.gz, c='k', edgecolors='w', s=50);\n",
    "ax2.scatter(df.gx, df.gy, c='k', edgecolors='w', s=50);\n",
    "\n",
    "ax2.set_xlabel('$x$ [pc]');\n",
    "ax2.set_ylabel('$y$ [pc]');\n",
    "ax1.set_ylabel('$z$ [pc]');\n",
    "fig.tight_layout()\n",
    "fig.savefig(\"../paper/figures/xyz.pdf\")"
   ]
  },
  {
   "cell_type": "code",
   "execution_count": null,
   "metadata": {
    "collapsed": true
   },
   "outputs": [],
   "source": []
  }
 ],
 "metadata": {
  "anaconda-cloud": {},
  "kernelspec": {
   "display_name": "Python [conda env:gwb]",
   "language": "python",
   "name": "conda-env-gwb-py"
  },
  "language_info": {
   "codemirror_mode": {
    "name": "ipython",
    "version": 3
   },
   "file_extension": ".py",
   "mimetype": "text/x-python",
   "name": "python",
   "nbconvert_exporter": "python",
   "pygments_lexer": "ipython3",
   "version": "3.5.2"
  }
 },
 "nbformat": 4,
 "nbformat_minor": 2
}
