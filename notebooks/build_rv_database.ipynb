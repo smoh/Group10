{
 "cells": [
  {
   "cell_type": "code",
   "execution_count": 221,
   "metadata": {
    "collapsed": false
   },
   "outputs": [],
   "source": [
    "%matplotlib inline\n",
    "import matplotlib.pyplot as plt\n",
    "import pandas as pd\n",
    "import numpy as np\n",
    "\n",
    "from astropy.table import Table"
   ]
  },
  {
   "cell_type": "code",
   "execution_count": 222,
   "metadata": {
    "collapsed": false
   },
   "outputs": [],
   "source": [
    "plt.style.use(\"seaborn-talk\")"
   ]
  },
  {
   "cell_type": "code",
   "execution_count": 31,
   "metadata": {
    "collapsed": true
   },
   "outputs": [],
   "source": [
    "simbadtap = vo.dal.TAPService(\"http://simbad.u-strasbg.fr/simbad/sim-tap\")"
   ]
  },
  {
   "cell_type": "code",
   "execution_count": 173,
   "metadata": {
    "collapsed": false
   },
   "outputs": [],
   "source": [
    "# get all tables\n",
    "# tables method parses the response of /tables,\n",
    "# but it will result in exception due to a possible bug in astropy.io.votable\n",
    "# You can also just query the database for this info\n",
    "result = simbadtap.run_sync(\n",
    "    \"select * from TAP_SCHEMA.tables where schema_name not like 'tap_schema'\")"
   ]
  },
  {
   "cell_type": "code",
   "execution_count": 35,
   "metadata": {
    "collapsed": true
   },
   "outputs": [
    {
     "data": {
      "text/html": [
       "&lt;Table masked=True length=47&gt;\n",
       "<table id=\"table4628126296\" class=\"table-striped table-bordered table-condensed\">\n",
       "<thead><tr><th>description</th><th>schema_name</th><th>table_name</th><th>table_type</th><th>utype</th></tr></thead>\n",
       "<thead><tr><th>object</th><th>object</th><th>object</th><th>object</th><th>object</th></tr></thead>\n",
       "<tr><td>General data about an astronomical object</td><td>public</td><td>basic</td><td>table</td><td></td></tr>\n",
       "<tr><td>List of all object types associated with an object</td><td>public</td><td>otypes</td><td>table</td><td></td></tr>\n",
       "<tr><td>all names concatenated with pipe</td><td>public</td><td>ids</td><td>view</td><td></td></tr>\n",
       "<tr><td>all object types concatenated with pipe</td><td>public</td><td>alltypes</td><td>view</td><td></td></tr>\n",
       "<tr><td>all names and definitions for the object types</td><td>public</td><td>otypedef</td><td>table</td><td></td></tr>\n",
       "<tr><td>Identifiers of an astronomical object</td><td>public</td><td>ident</td><td>table</td><td></td></tr>\n",
       "<tr><td>Catalogues name</td><td>public</td><td>cat</td><td>table</td><td></td></tr>\n",
       "<tr><td>Magnitude/Flux information about an astronomical object</td><td>public</td><td>flux</td><td>table</td><td></td></tr>\n",
       "<tr><td>all flux/magnitudes U,B,V,I,J,H,K,u_,g_,r_,i_,z_</td><td>public</td><td>allfluxes</td><td>view</td><td></td></tr>\n",
       "<tr><td>Description of a flux filter</td><td>public</td><td>filter</td><td>table</td><td></td></tr>\n",
       "<tr><td>...</td><td>...</td><td>...</td><td>...</td><td>...</td></tr>\n",
       "<tr><td>UBV data in Johnson s UBV system compiled by J.-Cl. Mermilliod from Institut d Astronomie de Lausanne (Mermilliod,J.-C.,1987,A&amp;amp;A Sup. 71,413).</td><td>public</td><td>mesUBV</td><td>table</td><td></td></tr>\n",
       "<tr><td>The Stromgren uvby photometric system</td><td>public</td><td>mesUVBY</td><td>table</td><td></td></tr>\n",
       "<tr><td>Parameters extracted mainly from the General Catalog of Variable Stars by Kukarkin et al. USSR Academy of Sciences (3rd edition in 1969,and continuations).</td><td>public</td><td>mesVar</td><td>table</td><td></td></tr>\n",
       "<tr><td>all velocities and redshift from other measures and new ones</td><td>public</td><td>mesVelocities</td><td>table</td><td></td></tr>\n",
       "<tr><td>XMM log</td><td>public</td><td>mesXmm</td><td>table</td><td></td></tr>\n",
       "<tr><td>List of schemas published in this TAP service.</td><td>TAP_SCHEMA</td><td>TAP_SCHEMA.schemas</td><td>table</td><td></td></tr>\n",
       "<tr><td>List of tables published in this TAP service.</td><td>TAP_SCHEMA</td><td>TAP_SCHEMA.tables</td><td>table</td><td></td></tr>\n",
       "<tr><td>List of columns of all tables listed in TAP_SCHEMA.TABLES and published in this TAP service.</td><td>TAP_SCHEMA</td><td>TAP_SCHEMA.columns</td><td>table</td><td></td></tr>\n",
       "<tr><td>List all foreign keys but provides just the tables linked by the foreign key. To know which columns of these tables are linked, see in TAP_SCHEMA.key_columns using the key_id.</td><td>TAP_SCHEMA</td><td>TAP_SCHEMA.keys</td><td>table</td><td></td></tr>\n",
       "<tr><td>List all foreign keys but provides just the columns linked by the foreign key. To know the table of these columns, see in TAP_SCHEMA.keys using the key_id.</td><td>TAP_SCHEMA</td><td>TAP_SCHEMA.key_columns</td><td>table</td><td></td></tr>\n",
       "</table>"
      ],
      "text/plain": [
       "<Table masked=True length=47>\n",
       "                                                                                  description                                                                                   ...\n",
       "                                                                                     object                                                                                     ...\n",
       "------------------------------------------------------------------------------------------------------------------------------------------------------------------------------- ...\n",
       "                                                                                                                                      General data about an astronomical object ...\n",
       "                                                                                                                             List of all object types associated with an object ...\n",
       "                                                                                                                                               all names concatenated with pipe ...\n",
       "                                                                                                                                        all object types concatenated with pipe ...\n",
       "                                                                                                                                 all names and definitions for the object types ...\n",
       "                                                                                                                                          Identifiers of an astronomical object ...\n",
       "                                                                                                                                                                Catalogues name ...\n",
       "                                                                                                                        Magnitude/Flux information about an astronomical object ...\n",
       "                                                                                                                               all flux/magnitudes U,B,V,I,J,H,K,u_,g_,r_,i_,z_ ...\n",
       "                                                                                                                                                   Description of a flux filter ...\n",
       "                                                                                                                                                                            ... ...\n",
       "                             UBV data in Johnson s UBV system compiled by J.-Cl. Mermilliod from Institut d Astronomie de Lausanne (Mermilliod,J.-C.,1987,A&amp;A Sup. 71,413). ...\n",
       "                                                                                                                                          The Stromgren uvby photometric system ...\n",
       "                    Parameters extracted mainly from the General Catalog of Variable Stars by Kukarkin et al. USSR Academy of Sciences (3rd edition in 1969,and continuations). ...\n",
       "                                                                                                                   all velocities and redshift from other measures and new ones ...\n",
       "                                                                                                                                                                        XMM log ...\n",
       "                                                                                                                                 List of schemas published in this TAP service. ...\n",
       "                                                                                                                                  List of tables published in this TAP service. ...\n",
       "                                                                                   List of columns of all tables listed in TAP_SCHEMA.TABLES and published in this TAP service. ...\n",
       "List all foreign keys but provides just the tables linked by the foreign key. To know which columns of these tables are linked, see in TAP_SCHEMA.key_columns using the key_id. ...\n",
       "                    List all foreign keys but provides just the columns linked by the foreign key. To know the table of these columns, see in TAP_SCHEMA.keys using the key_id. ..."
      ]
     },
     "execution_count": 35,
     "metadata": {},
     "output_type": "execute_result"
    }
   ],
   "source": [
    "result.table"
   ]
  },
  {
   "cell_type": "markdown",
   "metadata": {},
   "source": [
    "The relevant table for RV measurements is `mesVelocities`. We also need `ident` table which has\n",
    "two columns, `oidref` and `id` where `oidref` is unique internally, and `id` is all possible known\n",
    "names of sources. we use `oidref` to crossmatch tables."
   ]
  },
  {
   "cell_type": "code",
   "execution_count": 75,
   "metadata": {
    "collapsed": false
   },
   "outputs": [
    {
     "data": {
      "text/html": [
       "&lt;Table length=20&gt;\n",
       "<table id=\"table4666555696\" class=\"table-striped table-bordered table-condensed\">\n",
       "<thead><tr><th>colname</th><th>dtype</th><th>description</th></tr></thead>\n",
       "<thead><tr><th>str14</th><th>str3</th><th>str71</th></tr></thead>\n",
       "<tr><td>bibcode</td><td>|O</td><td>measurement bibcode</td></tr>\n",
       "<tr><td>d</td><td>|S1</td><td>&apos;D&apos; if the resolution is a conversion from the dispersion</td></tr>\n",
       "<tr><td>meanError</td><td>&lt;f4</td><td>sigma(Value)</td></tr>\n",
       "<tr><td>meanError_prec</td><td>&lt;i2</td><td>Precision (# of decimal positions) associated with the column meanError</td></tr>\n",
       "<tr><td>mespos</td><td>&lt;i2</td><td>Position of a measurement in a list of measurements</td></tr>\n",
       "<tr><td>nature</td><td>|O</td><td>nature of the measurement</td></tr>\n",
       "<tr><td>nbmes</td><td>&lt;i2</td><td>Number of measurements</td></tr>\n",
       "<tr><td>obsdate</td><td>&lt;f8</td><td>Observation date</td></tr>\n",
       "<tr><td>obsdate_prec</td><td>&lt;i2</td><td>Precision (# of decimal positions) associated with the column obsdate</td></tr>\n",
       "<tr><td>oidref</td><td>&lt;i8</td><td>Object internal identifier</td></tr>\n",
       "<tr><td>origin</td><td>|O</td><td>Origin of the radial velocity</td></tr>\n",
       "<tr><td>qual</td><td>|S1</td><td>Quality</td></tr>\n",
       "<tr><td>quality</td><td>|S1</td><td>Quality</td></tr>\n",
       "<tr><td>remark</td><td>|S1</td><td>colon is uncertain question mark is questionable</td></tr>\n",
       "<tr><td>remarks</td><td>|O</td><td>Remarks</td></tr>\n",
       "<tr><td>resolution</td><td>&lt;i4</td><td>Resolution</td></tr>\n",
       "<tr><td>velType</td><td>|O</td><td>velocity type (v, z or cz)</td></tr>\n",
       "<tr><td>velValue</td><td>&lt;f8</td><td>Velocity</td></tr>\n",
       "<tr><td>velValue_prec</td><td>&lt;i2</td><td>Precision (# of decimal positions) associated with the column velValue</td></tr>\n",
       "<tr><td>wdomain</td><td>|O</td><td>Wavelength domain (Rad,mm,IR,Opt,UV,XRay,Gam)</td></tr>\n",
       "</table>"
      ],
      "text/plain": [
       "<Table length=20>\n",
       "   colname     ...\n",
       "    str14      ...\n",
       "-------------- ...\n",
       "       bibcode ...\n",
       "             d ...\n",
       "     meanError ...\n",
       "meanError_prec ...\n",
       "        mespos ...\n",
       "        nature ...\n",
       "         nbmes ...\n",
       "       obsdate ...\n",
       "  obsdate_prec ...\n",
       "        oidref ...\n",
       "        origin ...\n",
       "          qual ...\n",
       "       quality ...\n",
       "        remark ...\n",
       "       remarks ...\n",
       "    resolution ...\n",
       "       velType ...\n",
       "      velValue ...\n",
       " velValue_prec ...\n",
       "       wdomain ..."
      ]
     },
     "execution_count": 75,
     "metadata": {},
     "output_type": "execute_result"
    }
   ],
   "source": [
    "rows = []\n",
    "for col in simbadtap.run_sync(\"select top 0 * from mesVelocities\").table.itercols():\n",
    "    rows.append([col.name, col.dtype.str, col.description])\n",
    "mesVelocitiesMeta = Table(rows=rows, names=['colname', 'dtype','description'])\n",
    "mesVelocitiesMeta"
   ]
  },
  {
   "cell_type": "markdown",
   "metadata": {},
   "source": [
    "We query by HIP or TYC identifiers."
   ]
  },
  {
   "cell_type": "code",
   "execution_count": 40,
   "metadata": {
    "collapsed": true
   },
   "outputs": [],
   "source": [
    "df = groupten.load_allstars()\n",
    "tgas = gwb.TGASData(\"/Users/semyeong/data/gaia/tgas_source/stacked_tgas.fits\")"
   ]
  },
  {
   "cell_type": "code",
   "execution_count": 51,
   "metadata": {
    "collapsed": false
   },
   "outputs": [],
   "source": [
    "hips = tgas.hip[df.tgas_row]\n",
    "tycs = np.array([s.decode() for s in tgas.tycho2_id[df.tgas_row]]).byteswap().newbyteorder()"
   ]
  },
  {
   "cell_type": "code",
   "execution_count": 54,
   "metadata": {
    "collapsed": false
   },
   "outputs": [],
   "source": [
    "idens = ['HIP {:d}'.format(h) if h!=999999 else 'TYC {:s}'.format(t) for h,t in zip(hips,tycs)]"
   ]
  },
  {
   "cell_type": "code",
   "execution_count": 94,
   "metadata": {
    "collapsed": false
   },
   "outputs": [],
   "source": [
    "identable = Table({'name':idens[:]})\n",
    "identable.write(\"test.xml\", format='votable', overwrite=True)"
   ]
  },
  {
   "cell_type": "code",
   "execution_count": 99,
   "metadata": {
    "collapsed": true
   },
   "outputs": [],
   "source": [
    "query = \"\"\"\n",
    "SELECT t.name, bibcode, nbmes, obsdate, qual, quality, velType, velValue, velValue_prec, remark, remarks, ident.oidref\n",
    "FROM TAP_UPLOAD.mytable as t JOIN ident ON t.name = ident.id\n",
    "JOIN mesVelocities ON mesVelocities.oidref = ident.oidref\n",
    "\"\"\""
   ]
  },
  {
   "cell_type": "code",
   "execution_count": 100,
   "metadata": {
    "collapsed": false
   },
   "outputs": [],
   "source": [
    "result = simbadtap.run_sync(query, uploads={\"mytable\":('inline', 'test.xml')})"
   ]
  },
  {
   "cell_type": "code",
   "execution_count": 101,
   "metadata": {
    "collapsed": false
   },
   "outputs": [
    {
     "data": {
      "text/plain": [
       "10606"
      ]
     },
     "execution_count": 101,
     "metadata": {},
     "output_type": "execute_result"
    }
   ],
   "source": [
    "len(identable)"
   ]
  },
  {
   "cell_type": "code",
   "execution_count": 108,
   "metadata": {
    "collapsed": false,
    "scrolled": true
   },
   "outputs": [],
   "source": [
    "dfrv = result.table.to_pandas()"
   ]
  },
  {
   "cell_type": "code",
   "execution_count": 133,
   "metadata": {
    "collapsed": false
   },
   "outputs": [],
   "source": [
    "# decode all bytestrings\n",
    "dfrv = dfrv.apply(lambda x: x.str.decode('utf-8') if x.dtype==object else x)"
   ]
  },
  {
   "cell_type": "code",
   "execution_count": 174,
   "metadata": {
    "collapsed": true
   },
   "outputs": [],
   "source": [
    "dfrv.to_csv(\"../data/star_rv.csv\", index=False)"
   ]
  },
  {
   "cell_type": "code",
   "execution_count": 136,
   "metadata": {
    "collapsed": false
   },
   "outputs": [
    {
     "data": {
      "text/plain": [
       "name             quality\n",
       "HIP 100035       A          2\n",
       "HIP 100072       A          3\n",
       "                 C          1\n",
       "HIP 100179       B          1\n",
       "HIP 100280       A          2\n",
       "HIP 100321       A          2\n",
       "                            1\n",
       "                 E          1\n",
       "HIP 100510       C          1\n",
       "HIP 100941       D          1\n",
       "                 E          1\n",
       "HIP 101082                  4\n",
       "                 A          2\n",
       "                 C          2\n",
       "HIP 101123       B          1\n",
       "HIP 101166                  3\n",
       "HIP 101460       B          1\n",
       "HIP 101472       C          2\n",
       "HIP 101673       A          1\n",
       "HIP 101717       B          1\n",
       "HIP 101719       D          1\n",
       "HIP 101787       C          2\n",
       "HIP 101889       B          2\n",
       "HIP 101972                  1\n",
       "                 D          1\n",
       "HIP 102016       A          2\n",
       "HIP 102018       A          3\n",
       "                            1\n",
       "                 C          1\n",
       "HIP 102394       B          3\n",
       "                           ..\n",
       "TYC 9458-1022-1  C          1\n",
       "TYC 9458-473-1   B          1\n",
       "TYC 9458-585-1   E          1\n",
       "TYC 9459-1826-1  A          1\n",
       "TYC 9459-2084-1  B          1\n",
       "TYC 9462-478-1   B          1\n",
       "TYC 9463-1129-1  A          3\n",
       "TYC 9467-339-1   E          1\n",
       "TYC 9472-141-1   C          1\n",
       "TYC 9472-166-1   B          1\n",
       "TYC 9472-383-1   B          1\n",
       "TYC 9473-697-1   B          1\n",
       "TYC 9474-346-1   B          1\n",
       "TYC 9474-644-1   B          2\n",
       "                 C          1\n",
       "TYC 9477-562-1   B          1\n",
       "TYC 9478-570-1   B          1\n",
       "TYC 9479-784-1   B          1\n",
       "TYC 9480-121-1   B          1\n",
       "TYC 9484-174-1   E          1\n",
       "TYC 9485-31-1    B          1\n",
       "TYC 9485-367-1   C          1\n",
       "TYC 9498-564-1   B          1\n",
       "TYC 9523-1015-1  B          1\n",
       "TYC 9523-2376-1  B          1\n",
       "TYC 9523-43-1    B          1\n",
       "TYC 9525-1295-1  B          1\n",
       "TYC 9527-908-1   B          2\n",
       "                 C          1\n",
       "TYC 9529-373-1   B          1\n",
       "Name: quality, dtype: int64"
      ]
     },
     "execution_count": 136,
     "metadata": {},
     "output_type": "execute_result"
    }
   ],
   "source": [
    "rvq = dfrv.groupby(\"name\").quality.value_counts()\n",
    "rvq  # has MultiIndex name and quality"
   ]
  },
  {
   "cell_type": "code",
   "execution_count": 148,
   "metadata": {
    "collapsed": false
   },
   "outputs": [
    {
     "data": {
      "text/plain": [
       "quality        \n",
       "         count                 744\n",
       "         unique                438\n",
       "         top        TYC 2342-544-1\n",
       "         freq                   14\n",
       "A        count                 508\n",
       "         unique                360\n",
       "         top            HIP 107362\n",
       "         freq                    6\n",
       "B        count                 864\n",
       "         unique                709\n",
       "         top       TYC 6166-1405-1\n",
       "         freq                    4\n",
       "C        count                 382\n",
       "         unique                313\n",
       "         top       TYC 7279-1345-1\n",
       "         freq                    3\n",
       "D        count                  89\n",
       "         unique                 84\n",
       "         top       TYC 8966-1241-1\n",
       "         freq                    3\n",
       "E        count                  31\n",
       "         unique                 30\n",
       "         top            HIP 109388\n",
       "         freq                    2\n",
       "Name: name, dtype: object"
      ]
     },
     "execution_count": 148,
     "metadata": {},
     "output_type": "execute_result"
    }
   ],
   "source": [
    "dfrv.groupby(\"quality\")['name'].describe()"
   ]
  },
  {
   "cell_type": "code",
   "execution_count": 156,
   "metadata": {
    "collapsed": false
   },
   "outputs": [],
   "source": [
    "rvA = dfrv.loc[dfrv.quality == 'A'].groupby(\"name\")"
   ]
  },
  {
   "cell_type": "code",
   "execution_count": 176,
   "metadata": {
    "collapsed": false
   },
   "outputs": [],
   "source": [
    "# see if multiple quality A measurements agree with each other\n",
    "rvAmulti = rvA.filter(lambda x:x.bibcode.unique().size>1)"
   ]
  },
  {
   "cell_type": "code",
   "execution_count": 192,
   "metadata": {
    "collapsed": false
   },
   "outputs": [
    {
     "data": {
      "text/plain": [
       "<matplotlib.axes._subplots.AxesSubplot at 0x11490be10>"
      ]
     },
     "execution_count": 192,
     "metadata": {},
     "output_type": "execute_result"
    },
    {
     "data": {
      "image/png": "[encoded data removed]",
      "text/plain": [
       "<matplotlib.figure.Figure at 0x114e7f358>"
      ]
     },
     "metadata": {},
     "output_type": "display_data"
    }
   ],
   "source": [
    "rvAmulti.groupby(\"name\").velValue.agg(lambda x: np.abs((x.max()-x.min())/x.mean())).hist(bins=np.linspace(0,1,50))"
   ]
  },
  {
   "cell_type": "code",
   "execution_count": 205,
   "metadata": {
    "collapsed": false
   },
   "outputs": [
    {
     "name": "stderr",
     "output_type": "stream",
     "text": [
      "/Users/semyeong/anaconda2/envs/gwb/lib/python3.5/site-packages/ipykernel/__main__.py:1: RuntimeWarning: invalid value encountered in double_scalars\n",
      "  if __name__ == '__main__':\n"
     ]
    },
    {
     "data": {
      "text/plain": [
       "(0.1, 10000.0)"
      ]
     },
     "execution_count": 205,
     "metadata": {},
     "output_type": "execute_result"
    },
    {
     "data": {
      "image/png": "[encoded data removed]",
      "text/plain": [
       "<matplotlib.figure.Figure at 0x11c52e978>"
      ]
     },
     "metadata": {},
     "output_type": "display_data"
    }
   ],
   "source": [
    "dfrv.groupby(\"name\").velValue.agg(lambda x: np.abs((x.max()-x.min())/x.mean())).hist(bins=50, log=True)\n",
    "plt.ylim(0.1)"
   ]
  },
  {
   "cell_type": "code",
   "execution_count": 193,
   "metadata": {
    "collapsed": false
   },
   "outputs": [
    {
     "data": {
      "text/html": [
       "<div>\n",
       "<table border=\"1\" class=\"dataframe\">\n",
       "  <thead>\n",
       "    <tr style=\"text-align: right;\">\n",
       "      <th></th>\n",
       "      <th>name</th>\n",
       "      <th>bibcode</th>\n",
       "      <th>nbmes</th>\n",
       "      <th>obsdate</th>\n",
       "      <th>qual</th>\n",
       "      <th>quality</th>\n",
       "      <th>velType</th>\n",
       "      <th>velValue</th>\n",
       "      <th>velValue_prec</th>\n",
       "      <th>remark</th>\n",
       "      <th>remarks</th>\n",
       "      <th>oidref</th>\n",
       "    </tr>\n",
       "  </thead>\n",
       "  <tbody>\n",
       "    <tr>\n",
       "      <th>322</th>\n",
       "      <td>HIP 107362</td>\n",
       "      <td>17AJ....153...7521K</td>\n",
       "      <td>1.0</td>\n",
       "      <td>53610.564</td>\n",
       "      <td>A</td>\n",
       "      <td>A</td>\n",
       "      <td>v</td>\n",
       "      <td>16.640000</td>\n",
       "      <td>2.0</td>\n",
       "      <td></td>\n",
       "      <td></td>\n",
       "      <td>3470803.0</td>\n",
       "    </tr>\n",
       "    <tr>\n",
       "      <th>323</th>\n",
       "      <td>HIP 107362</td>\n",
       "      <td>2013A&amp;A...552A..64S</td>\n",
       "      <td>NaN</td>\n",
       "      <td>NaN</td>\n",
       "      <td></td>\n",
       "      <td>A</td>\n",
       "      <td>z</td>\n",
       "      <td>19.374000</td>\n",
       "      <td>3.0</td>\n",
       "      <td></td>\n",
       "      <td></td>\n",
       "      <td>3470803.0</td>\n",
       "    </tr>\n",
       "    <tr>\n",
       "      <th>324</th>\n",
       "      <td>HIP 107362</td>\n",
       "      <td>2011AJ....141..187S</td>\n",
       "      <td>1.0</td>\n",
       "      <td>53609.000</td>\n",
       "      <td>A</td>\n",
       "      <td>A</td>\n",
       "      <td>v</td>\n",
       "      <td>18.619000</td>\n",
       "      <td>3.0</td>\n",
       "      <td></td>\n",
       "      <td></td>\n",
       "      <td>3470803.0</td>\n",
       "    </tr>\n",
       "    <tr>\n",
       "      <th>325</th>\n",
       "      <td>HIP 107362</td>\n",
       "      <td>2011AJ....141..187S</td>\n",
       "      <td>1.0</td>\n",
       "      <td>53609.000</td>\n",
       "      <td>A</td>\n",
       "      <td>A</td>\n",
       "      <td>v</td>\n",
       "      <td>16.644000</td>\n",
       "      <td>3.0</td>\n",
       "      <td></td>\n",
       "      <td></td>\n",
       "      <td>3470803.0</td>\n",
       "    </tr>\n",
       "    <tr>\n",
       "      <th>326</th>\n",
       "      <td>HIP 107362</td>\n",
       "      <td>2006AstL...32..759G</td>\n",
       "      <td>NaN</td>\n",
       "      <td>NaN</td>\n",
       "      <td></td>\n",
       "      <td>A</td>\n",
       "      <td>V</td>\n",
       "      <td>18.000000</td>\n",
       "      <td>2.0</td>\n",
       "      <td></td>\n",
       "      <td></td>\n",
       "      <td>3470803.0</td>\n",
       "    </tr>\n",
       "    <tr>\n",
       "      <th>327</th>\n",
       "      <td>HIP 107362</td>\n",
       "      <td>2004A&amp;A...418..989N</td>\n",
       "      <td>5.0</td>\n",
       "      <td>NaN</td>\n",
       "      <td></td>\n",
       "      <td>A</td>\n",
       "      <td>v</td>\n",
       "      <td>19.299999</td>\n",
       "      <td>1.0</td>\n",
       "      <td></td>\n",
       "      <td></td>\n",
       "      <td>3470803.0</td>\n",
       "    </tr>\n",
       "    <tr>\n",
       "      <th>518</th>\n",
       "      <td>TYC 7464-1208-1</td>\n",
       "      <td>17AJ....153...7521K</td>\n",
       "      <td>1.0</td>\n",
       "      <td>53133.762</td>\n",
       "      <td>A</td>\n",
       "      <td>A</td>\n",
       "      <td>v</td>\n",
       "      <td>5.720000</td>\n",
       "      <td>2.0</td>\n",
       "      <td></td>\n",
       "      <td></td>\n",
       "      <td>2340062.0</td>\n",
       "    </tr>\n",
       "    <tr>\n",
       "      <th>519</th>\n",
       "      <td>TYC 7464-1208-1</td>\n",
       "      <td>2011AJ....141..187S</td>\n",
       "      <td>1.0</td>\n",
       "      <td>53132.000</td>\n",
       "      <td>A</td>\n",
       "      <td>A</td>\n",
       "      <td>v</td>\n",
       "      <td>5.722000</td>\n",
       "      <td>3.0</td>\n",
       "      <td></td>\n",
       "      <td></td>\n",
       "      <td>2340062.0</td>\n",
       "    </tr>\n",
       "    <tr>\n",
       "      <th>520</th>\n",
       "      <td>TYC 7464-1208-1</td>\n",
       "      <td>2008AJ....136..421Z</td>\n",
       "      <td>1.0</td>\n",
       "      <td>NaN</td>\n",
       "      <td></td>\n",
       "      <td>A</td>\n",
       "      <td>v</td>\n",
       "      <td>7.100000</td>\n",
       "      <td>1.0</td>\n",
       "      <td></td>\n",
       "      <td></td>\n",
       "      <td>2340062.0</td>\n",
       "    </tr>\n",
       "    <tr>\n",
       "      <th>865</th>\n",
       "      <td>HIP 103480</td>\n",
       "      <td>2004A&amp;A...418..989N</td>\n",
       "      <td>2.0</td>\n",
       "      <td>NaN</td>\n",
       "      <td></td>\n",
       "      <td>A</td>\n",
       "      <td>v</td>\n",
       "      <td>3.300000</td>\n",
       "      <td>1.0</td>\n",
       "      <td></td>\n",
       "      <td></td>\n",
       "      <td>2507798.0</td>\n",
       "    </tr>\n",
       "    <tr>\n",
       "      <th>866</th>\n",
       "      <td>HIP 103480</td>\n",
       "      <td>2006AstL...32..759G</td>\n",
       "      <td>NaN</td>\n",
       "      <td>NaN</td>\n",
       "      <td></td>\n",
       "      <td>A</td>\n",
       "      <td>V</td>\n",
       "      <td>3.700000</td>\n",
       "      <td>2.0</td>\n",
       "      <td></td>\n",
       "      <td></td>\n",
       "      <td>2507798.0</td>\n",
       "    </tr>\n",
       "    <tr>\n",
       "      <th>1458</th>\n",
       "      <td>HIP 100321</td>\n",
       "      <td>2004A&amp;A...418..989N</td>\n",
       "      <td>50.0</td>\n",
       "      <td>NaN</td>\n",
       "      <td></td>\n",
       "      <td>A</td>\n",
       "      <td>v</td>\n",
       "      <td>1.200000</td>\n",
       "      <td>1.0</td>\n",
       "      <td></td>\n",
       "      <td></td>\n",
       "      <td>301834.0</td>\n",
       "    </tr>\n",
       "    <tr>\n",
       "      <th>1459</th>\n",
       "      <td>HIP 100321</td>\n",
       "      <td>2004A&amp;A...424..727P</td>\n",
       "      <td>NaN</td>\n",
       "      <td>NaN</td>\n",
       "      <td></td>\n",
       "      <td>A</td>\n",
       "      <td>V</td>\n",
       "      <td>0.750000</td>\n",
       "      <td>2.0</td>\n",
       "      <td></td>\n",
       "      <td></td>\n",
       "      <td>301834.0</td>\n",
       "    </tr>\n",
       "    <tr>\n",
       "      <th>2406</th>\n",
       "      <td>HIP 116748</td>\n",
       "      <td>2004A&amp;A...418..989N</td>\n",
       "      <td>5.0</td>\n",
       "      <td>NaN</td>\n",
       "      <td></td>\n",
       "      <td>A</td>\n",
       "      <td>v</td>\n",
       "      <td>7.400000</td>\n",
       "      <td>1.0</td>\n",
       "      <td></td>\n",
       "      <td></td>\n",
       "      <td>3292659.0</td>\n",
       "    </tr>\n",
       "    <tr>\n",
       "      <th>2407</th>\n",
       "      <td>HIP 116748</td>\n",
       "      <td>2006AstL...32..759G</td>\n",
       "      <td>NaN</td>\n",
       "      <td>NaN</td>\n",
       "      <td></td>\n",
       "      <td>A</td>\n",
       "      <td>V</td>\n",
       "      <td>8.300000</td>\n",
       "      <td>2.0</td>\n",
       "      <td></td>\n",
       "      <td></td>\n",
       "      <td>3292659.0</td>\n",
       "    </tr>\n",
       "  </tbody>\n",
       "</table>\n",
       "</div>"
      ],
      "text/plain": [
       "                 name              bibcode  nbmes    obsdate qual quality  \\\n",
       "322        HIP 107362  17AJ....153...7521K    1.0  53610.564    A       A   \n",
       "323        HIP 107362  2013A&A...552A..64S    NaN        NaN            A   \n",
       "324        HIP 107362  2011AJ....141..187S    1.0  53609.000    A       A   \n",
       "325        HIP 107362  2011AJ....141..187S    1.0  53609.000    A       A   \n",
       "326        HIP 107362  2006AstL...32..759G    NaN        NaN            A   \n",
       "327        HIP 107362  2004A&A...418..989N    5.0        NaN            A   \n",
       "518   TYC 7464-1208-1  17AJ....153...7521K    1.0  53133.762    A       A   \n",
       "519   TYC 7464-1208-1  2011AJ....141..187S    1.0  53132.000    A       A   \n",
       "520   TYC 7464-1208-1  2008AJ....136..421Z    1.0        NaN            A   \n",
       "865        HIP 103480  2004A&A...418..989N    2.0        NaN            A   \n",
       "866        HIP 103480  2006AstL...32..759G    NaN        NaN            A   \n",
       "1458       HIP 100321  2004A&A...418..989N   50.0        NaN            A   \n",
       "1459       HIP 100321  2004A&A...424..727P    NaN        NaN            A   \n",
       "2406       HIP 116748  2004A&A...418..989N    5.0        NaN            A   \n",
       "2407       HIP 116748  2006AstL...32..759G    NaN        NaN            A   \n",
       "\n",
       "     velType   velValue  velValue_prec remark remarks     oidref  \n",
       "322      v    16.640000            2.0                 3470803.0  \n",
       "323      z    19.374000            3.0                 3470803.0  \n",
       "324      v    18.619000            3.0                 3470803.0  \n",
       "325      v    16.644000            3.0                 3470803.0  \n",
       "326      V    18.000000            2.0                 3470803.0  \n",
       "327      v    19.299999            1.0                 3470803.0  \n",
       "518      v     5.720000            2.0                 2340062.0  \n",
       "519      v     5.722000            3.0                 2340062.0  \n",
       "520      v     7.100000            1.0                 2340062.0  \n",
       "865      v     3.300000            1.0                 2507798.0  \n",
       "866      V     3.700000            2.0                 2507798.0  \n",
       "1458     v     1.200000            1.0                  301834.0  \n",
       "1459     V     0.750000            2.0                  301834.0  \n",
       "2406     v     7.400000            1.0                 3292659.0  \n",
       "2407     V     8.300000            2.0                 3292659.0  "
      ]
     },
     "execution_count": 193,
     "metadata": {},
     "output_type": "execute_result"
    }
   ],
   "source": [
    "# those that differ more than 10%\n",
    "rvAmulti.groupby(\"name\").filter(lambda x: np.abs(x.velValue.max()-x.velValue.min())/x.velValue.mean() > 0.1)"
   ]
  },
  {
   "cell_type": "code",
   "execution_count": 206,
   "metadata": {
    "collapsed": false
   },
   "outputs": [
    {
     "data": {
      "text/plain": [
       "    2618\n",
       "Name: remark, dtype: int64"
      ]
     },
     "execution_count": 206,
     "metadata": {},
     "output_type": "execute_result"
    }
   ],
   "source": [
    "dfrv.remark.value_counts()"
   ]
  },
  {
   "cell_type": "code",
   "execution_count": 207,
   "metadata": {
    "collapsed": false
   },
   "outputs": [
    {
     "data": {
      "text/plain": [
       "      2449\n",
       "##     122\n",
       "V       43\n",
       "O        3\n",
       "D        1\n",
       "Name: remarks, dtype: int64"
      ]
     },
     "execution_count": 207,
     "metadata": {},
     "output_type": "execute_result"
    }
   ],
   "source": [
    "dfrv.remarks.value_counts()"
   ]
  },
  {
   "cell_type": "code",
   "execution_count": 220,
   "metadata": {
    "collapsed": false
   },
   "outputs": [
    {
     "data": {
      "text/plain": [
       "17AJ....153...7521K    163\n",
       "2004A&A...418..989N    100\n",
       "2006AstL...32..759G     52\n",
       "2007AJ....133.2524W     32\n",
       "2011AJ....141..187S     28\n",
       "2008AJ....136..421Z     21\n",
       "2006A&A...460..695T     17\n",
       "2013A&A...552A..64S     14\n",
       "2005A&A...430..165F     10\n",
       "2015A&A...573A.126D      9\n",
       "2013MNRAS.435.1376M      8\n",
       "2002AJ....124.1144L      8\n",
       "2011AAS...21743412C      6\n",
       "1997JApA...18..161Y      5\n",
       "2002ApJS..141..503N      5\n",
       "2006PASP..118.1656S      5\n",
       "2007A&A...475..519H      3\n",
       "1992A&A...256..121T      3\n",
       "2008AJ....135..209M      2\n",
       "2004A&A...424..727P      2\n",
       "2005ApJS..159..141V      2\n",
       "2012ApJ...745...56D      2\n",
       "2013AJ....146..143M      2\n",
       "2007A&A...465..271R      1\n",
       "2014ApJ...788...81M      1\n",
       "1992A&AS...95..541F      1\n",
       "2004MNRAS.349.1069K      1\n",
       "2012MNRAS.422...14H      1\n",
       "2011yCat.3265....0S      1\n",
       "2008A&A...480...91S      1\n",
       "2013A&A...554A..84M      1\n",
       "1953GCRV..C......0W      1\n",
       "Name: bibcode, dtype: int64"
      ]
     },
     "execution_count": 220,
     "metadata": {},
     "output_type": "execute_result"
    }
   ],
   "source": [
    "dfrv.loc[dfrv.quality=='A', 'bibcode'].value_counts()"
   ]
  },
  {
   "cell_type": "code",
   "execution_count": null,
   "metadata": {
    "collapsed": true
   },
   "outputs": [],
   "source": []
  }
 ],
 "metadata": {
  "anaconda-cloud": {},
  "kernelspec": {
   "display_name": "Python [conda env:gwb]",
   "language": "python",
   "name": "conda-env-gwb-py"
  },
  "language_info": {
   "codemirror_mode": {
    "name": "ipython",
    "version": 3
   },
   "file_extension": ".py",
   "mimetype": "text/x-python",
   "name": "python",
   "nbconvert_exporter": "python",
   "pygments_lexer": "ipython3",
   "version": "3.5.2"
  }
 },
 "nbformat": 4,
 "nbformat_minor": 2
}
