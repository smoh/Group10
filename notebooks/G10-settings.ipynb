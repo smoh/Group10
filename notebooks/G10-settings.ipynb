{
 "cells": [
  {
   "cell_type": "markdown",
   "metadata": {},
   "source": [
    "# Setup"
   ]
  },
  {
   "cell_type": "code",
   "execution_count": 4,
   "metadata": {},
   "outputs": [
    {
     "name": "stderr",
     "output_type": "stream",
     "text": [
      "WARNING:root:PyMultiNest not imported.  MultiNest fits will not work.\n"
     ]
    }
   ],
   "source": [
    "import warnings, os\n",
    "warnings.filterwarnings('ignore')\n",
    "\n",
    "%config InlineBackend.figure_format = 'retina'\n",
    "%matplotlib inline\n",
    "\n",
    "import matplotlib.pyplot as plt\n",
    "from matplotlib import colors\n",
    "import pandas as pd\n",
    "import numpy as np\n",
    "import palettable\n",
    "\n",
    "from astropy.table import Table\n",
    "import astropy.units as u\n",
    "import astropy.coordinates as coords\n",
    "from corner import corner\n",
    "from tap import GaiaArchive\n",
    "\n",
    "import neighbors\n",
    "from neighbors.visualization import plot_cov_ellipse\n",
    "from neighbors.tools import make_cov\n",
    "import hiso\n",
    "\n",
    "plt.rc(\"figure\", dpi=120)\n",
    "plt.style.use('paperfigure.mplstyle')"
   ]
  },
  {
   "cell_type": "code",
   "execution_count": 9,
   "metadata": {
    "collapsed": true
   },
   "outputs": [],
   "source": [
    "gaia = GaiaArchive()\n",
    "# gaia.login('soh')"
   ]
  },
  {
   "cell_type": "markdown",
   "metadata": {},
   "source": [
    "## Functions on df"
   ]
  },
  {
   "cell_type": "code",
   "execution_count": 2,
   "metadata": {
    "collapsed": true
   },
   "outputs": [],
   "source": [
    "def make_icrs(df, ignore_velocity=False, radial_velocity_fill=None):\n",
    "    \"\"\"Make astropy coordinates from gaia_source DataFrame\n",
    "    \n",
    "    ignore_velocity : bool, False\n",
    "        Use ra, dec, parallax only.\n",
    "    radial_velocity_fill : float, None\n",
    "        If not None, substitute this value for RV nulls.\n",
    "    \n",
    "    Returns astropy coordinates\n",
    "    \"\"\"\n",
    "    if ignore_velocity:\n",
    "        return coords.ICRS(\n",
    "            ra=df.ra.values*u.deg,        \n",
    "            dec=df.dec.values*u.deg,\n",
    "            distance=1000./df.parallax.values*u.pc)\n",
    "    if radial_velocity_fill is None:\n",
    "        rv = df.radial_velocity.values\n",
    "    else:\n",
    "        rv = df.radial_velocity.fillna(value=radial_velocity_fill).values\n",
    "    return coords.SkyCoord(\n",
    "            ra=df.ra.values*u.deg,        \n",
    "            dec=df.dec.values*u.deg,\n",
    "            distance=1000./df.parallax.values*u.pc,\n",
    "            pm_ra_cosdec=df.pmra.values*u.mas/u.year,\n",
    "            pm_dec=df.pmdec.values*u.mas/u.year,\n",
    "            radial_velocity=rv*u.km/u.s)"
   ]
  },
  {
   "cell_type": "code",
   "execution_count": 14,
   "metadata": {
    "collapsed": true
   },
   "outputs": [],
   "source": [
    "def add_xv(df, frame, unit=u.pc):\n",
    "    \"\"\"\n",
    "    Add cartesian coordinates x, y, z, vx, vy, vz for a given `frame`\n",
    "    \n",
    "    df : pd.DataFrame\n",
    "        Gaia DR2 data\n",
    "    frame : astropy coordinate frame\n",
    "        Frame to calculate coordinates in\n",
    "    \n",
    "    Returns df with x, y, z, vx, vy, vz columns added.\n",
    "    \"\"\"\n",
    "    df = df.copy()\n",
    "    c = make_icrs(df).transform_to(frame)\n",
    "    df['x'], df['y'], df['z'] = c.cartesian.xyz.to(u.pc).value\n",
    "    df['vx'], df['vy'], df['vz'] = c.velocity.d_xyz.value\n",
    "    return df"
   ]
  },
  {
   "cell_type": "code",
   "execution_count": 15,
   "metadata": {
    "collapsed": true
   },
   "outputs": [],
   "source": [
    "def extract_a_g_error(df):\n",
    "    \"\"\"\n",
    "    Extract lerr and uerr of a_g from percentiles.\n",
    "    Returns df with a_g_lerr, a_g_uerr columns added.\n",
    "    \"\"\"\n",
    "    df = df.copy()\n",
    "    lerr = df['a_g_val'] - df['a_g_percentile_lower']\n",
    "    uerr = df['a_g_percentile_upper'] - df['a_g_val']\n",
    "    df['a_g_lerr'], df['a_g_uerr'] = lerr, uerr\n",
    "    return df"
   ]
  },
  {
   "cell_type": "code",
   "execution_count": 16,
   "metadata": {
    "collapsed": true
   },
   "outputs": [],
   "source": [
    "def add_distmod(df):\n",
    "    df = df.copy()\n",
    "    df['distmod'] = 5*np.log10(df['parallax']) -10\n",
    "    \n",
    "def add_gMag(df):\n",
    "    df = df.copy()\n",
    "    df['gMag'] = df['phot_g_mean_mag'] + 5*np.log10(df['parallax']) - 10\n",
    "    return df"
   ]
  },
  {
   "cell_type": "code",
   "execution_count": 17,
   "metadata": {
    "collapsed": true
   },
   "outputs": [],
   "source": [
    "def flag_good_phot(df):\n",
    "    df = df.copy()\n",
    "    good_phot = ((df.phot_bp_rp_excess_factor > 1+0.015*df.bp_rp**2) & (df.phot_bp_rp_excess_factor < 1.3+0.06*df.bp_rp**2))\n",
    "    df['good_phot'] = good_phot\n",
    "    return df"
   ]
  },
  {
   "cell_type": "code",
   "execution_count": null,
   "metadata": {
    "collapsed": true
   },
   "outputs": [],
   "source": [
    "def flag_excess(df):\n",
    "    df = df.copy()\n",
    "    ee = np.zeros(len(df)).astype(bool)\n",
    "    ee[(df.bp_rp>1.8)\\\n",
    "       & ((df.bp_rp-1.8)*0.65<df.astrometric_excess_noise)\\\n",
    "       &(df.astrometric_excess_noise_sig>3)] = True\n",
    "    ee[(df.bp_rp<1.8) \\\n",
    "       & (df.astrometric_excess_noise>0)\\\n",
    "       & (df.astrometric_excess_noise_sig>3)] = True\n",
    "    df['excess_excess'] = ee\n",
    "    return df"
   ]
  },
  {
   "cell_type": "code",
   "execution_count": 20,
   "metadata": {
    "collapsed": true
   },
   "outputs": [],
   "source": [
    "def table_to_pandas(t):\n",
    "    \"\"\"Convert astropy table to pandas dataframe.\n",
    "    When source_id is converted to float, significant digits are lost, which\n",
    "    result in duplicated source_id which is actually unique. To prevent this,\n",
    "    when the column dtype is int and there is no missing values, keep dtype int\n",
    "    instead of converting to nan.\n",
    "    NOTE: This conversion is because np.nan is not supported for int types.\n",
    "    \"\"\"\n",
    "    from collections import OrderedDict\n",
    "    out = OrderedDict()\n",
    "    for name, column in t.columns.items():\n",
    "        if column.dtype.kind in ['i', 'u']:\n",
    "            if column.mask.sum() == 0:\n",
    "                out[name] = column.astype(int)\n",
    "            else:\n",
    "                out[name] = column.astype(float).filled(np.nan)\n",
    "        elif column.dtype.kind in ['f', 'c']:\n",
    "            out[name] = column.filled(np.nan)\n",
    "        else:\n",
    "            out[name] = column.astype(object).filled(np.nan)\n",
    "\n",
    "\n",
    "        if out[name].dtype.byteorder not in ('=', '|'):\n",
    "            out[name] = out[name].byteswap().newbyteorder()\n",
    "\n",
    "    return pd.DataFrame(out)"
   ]
  },
  {
   "cell_type": "code",
   "execution_count": 18,
   "metadata": {},
   "outputs": [
    {
     "name": "stdout",
     "output_type": "stream",
     "text": [
      "/Users/semyeong/projects/zeroday\n",
      "/Users/semyeong/projects/Group10/notebooks\n"
     ]
    }
   ],
   "source": [
    "# Load DR1 and DR2 data for Oh17 stars\n",
    "%cd ~/projects/spelunky\n",
    "\n",
    "dr1 = pd.read_csv(\"oh17star_dr1_tgas.csv\")\n",
    "dr2 = pd.read_csv(\"oh17star_dr2.csv\")\n",
    "\n",
    "%cd -"
   ]
  },
  {
   "cell_type": "code",
   "execution_count": 19,
   "metadata": {
    "collapsed": true
   },
   "outputs": [],
   "source": [
    "# Get group of interest\n",
    "g = dr1.groupby('group_id').get_group(10)\n",
    "g_dr2 = dr2.groupby('group_id').get_group(10)"
   ]
  },
  {
   "cell_type": "markdown",
   "metadata": {},
   "source": [
    "# Query box in astrometric parameters"
   ]
  },
  {
   "cell_type": "markdown",
   "metadata": {},
   "source": [
    "## Query position"
   ]
  },
  {
   "cell_type": "code",
   "execution_count": 18,
   "metadata": {},
   "outputs": [
    {
     "name": "stdout",
     "output_type": "stream",
     "text": [
      "Loaded g10_region from cache\n"
     ]
    }
   ],
   "source": [
    "cutparams = dict(\n",
    "    parallax_min=8.3, parallax_max=12.4,\n",
    "    ra_min=g.ra.mean()-20, ra_max=g.ra.mean()+20,\n",
    "    dec_min=g.dec.mean()-9, dec_max=g.dec.mean()+9\n",
    ")\n",
    "query_region = \"\"\"\n",
    "select *\n",
    "from gaiadr2.gaia_source\n",
    "where\n",
    "    ra between {ra_min} and {ra_max}\n",
    "    and dec between {dec_min} and {dec_max}\n",
    "    and parallax between {parallax_min} and {parallax_max}\n",
    "\"\"\".format(**cutparams)\n",
    "\n",
    "\n",
    "%store -r g10_region\n",
    "try:\n",
    "    g10_region\n",
    "    print(\"Loaded g10_region from cache\")\n",
    "except NameError:\n",
    "    print(\"Querying Gaia archive\")\n",
    "    print(query_region)\n",
    "    j = gaia.query(query_region)\n",
    "    g10_region = table_to_pandas(j)\n",
    "    %store g10_region"
   ]
  },
  {
   "cell_type": "markdown",
   "metadata": {},
   "source": [
    "## Get tmass and allwise photometry"
   ]
  },
  {
   "cell_type": "code",
   "execution_count": 13,
   "metadata": {},
   "outputs": [
    {
     "name": "stdout",
     "output_type": "stream",
     "text": [
      "Loaded g10_region_phot from cache 3413 rows\n"
     ]
    }
   ],
   "source": [
    "cutparams = dict(\n",
    "    parallax_min=8.3, parallax_max=12.4,\n",
    "    ra_min=g.ra.mean()-20, ra_max=g.ra.mean()+20,\n",
    "    dec_min=g.dec.mean()-9, dec_max=g.dec.mean()+9\n",
    ")\n",
    "query_region_phot = \"\"\"\n",
    "select gaiadr2.gaia_source.designation, gaiadr2.gaia_source.source_id, allwise.*, tmass.*\n",
    "from gaiadr2.gaia_source\n",
    "-- allwise\n",
    "left join gaiadr2.allwise_best_neighbour on gaiadr2.allwise_best_neighbour.source_id=gaiadr2.gaia_source.source_id\n",
    "left join gaiadr1.allwise_original_valid as allwise on allwise.allwise_oid = gaiadr2.allwise_best_neighbour.allwise_oid\n",
    "-- tmass\n",
    "left join gaiadr2.tmass_best_neighbour on gaiadr2.tmass_best_neighbour.source_id=gaiadr2.gaia_source.source_id\n",
    "left join gaiadr1.tmass_original_valid tmass on tmass.tmass_oid = gaiadr2.tmass_best_neighbour.tmass_oid\n",
    "where\n",
    "    gaiadr2.gaia_source.ra between {ra_min} and {ra_max}\n",
    "    and gaiadr2.gaia_source.dec between {dec_min} and {dec_max}\n",
    "    and gaiadr2.gaia_source.parallax between {parallax_min} and {parallax_max}\n",
    "\"\"\".format(**cutparams)\n",
    "\n",
    "\n",
    "%store -r g10_region_phot\n",
    "try:\n",
    "    g10_region_phot\n",
    "    print(\"Loaded g10_region_phot from cache {:d} rows\".format(len(g10_region_phot)))\n",
    "except NameError:\n",
    "    print(\"Querying Gaia archive\")\n",
    "    print(query_region_phot)\n",
    "    j = gaia.query(query_region_phot)\n",
    "    g10_region_phot = j.to_pandas()\n",
    "    %store g10_region_phot"
   ]
  },
  {
   "cell_type": "markdown",
   "metadata": {},
   "source": [
    "## Get panstarrs"
   ]
  },
  {
   "cell_type": "code",
   "execution_count": 14,
   "metadata": {},
   "outputs": [
    {
     "name": "stdout",
     "output_type": "stream",
     "text": [
      "Loaded g10_region_ps from cache 3413 rows\n"
     ]
    }
   ],
   "source": [
    "cutparams = dict(\n",
    "    parallax_min=8.3, parallax_max=12.4,\n",
    "    ra_min=g.ra.mean()-20, ra_max=g.ra.mean()+20,\n",
    "    dec_min=g.dec.mean()-9, dec_max=g.dec.mean()+9\n",
    ")\n",
    "query_region_ps = \"\"\"\n",
    "select gaiadr2.gaia_source.designation, gaiadr2.gaia_source.source_id,\n",
    "  ps.*\n",
    "from gaiadr2.gaia_source\n",
    "-- panstarrs\n",
    "left join gaiadr2.panstarrs1_best_neighbour\n",
    "  on gaiadr2.panstarrs1_best_neighbour.source_id=gaiadr2.gaia_source.source_id\n",
    "left join gaiadr2.panstarrs1_original_valid as ps\n",
    "  on ps.obj_id = gaiadr2.panstarrs1_best_neighbour.original_ext_source_id\n",
    "where\n",
    "    gaiadr2.gaia_source.ra between {ra_min} and {ra_max}\n",
    "    and gaiadr2.gaia_source.dec between {dec_min} and {dec_max}\n",
    "    and gaiadr2.gaia_source.parallax between {parallax_min} and {parallax_max}\n",
    "\"\"\".format(**cutparams)\n",
    "\n",
    "\n",
    "%store -r g10_region_ps\n",
    "try:\n",
    "    g10_region_ps\n",
    "    print(\"Loaded g10_region_ps from cache {:d} rows\".format(len(g10_region_ps)))\n",
    "except NameError:\n",
    "    print(\"Querying Gaia archive\")\n",
    "    print(query_region_ps)\n",
    "    j = gaia.query(query_region_ps)\n",
    "    g10_region_ps = j.to_pandas()\n",
    "    %store g10_region_ps"
   ]
  },
  {
   "cell_type": "code",
   "execution_count": 41,
   "metadata": {},
   "outputs": [
    {
     "name": "stdout",
     "output_type": "stream",
     "text": [
      "no stored variable g10_region_dr1\n",
      "Querying Gaia archive\n",
      "\n",
      "select gaiadr2.gaia_source.source_id, gaiadr2.dr1_neighbourhood.*\n",
      "from gaiadr2.gaia_source\n",
      "-- dr1\n",
      "left join gaiadr2.dr1_neighbourhood\n",
      "  on gaiadr2.dr1_neighbourhood.dr2_source_id=gaiadr2.gaia_source.source_id\n",
      "where\n",
      "    gaiadr2.gaia_source.ra between 195.32044234355484 and 235.32044234355484\n",
      "    and gaiadr2.gaia_source.dec between 47.13366454840455 and 65.13366454840455\n",
      "    and gaiadr2.gaia_source.parallax between 8.3 and 12.4\n",
      "\n",
      "Stored 'g10_region_dr1' (DataFrame)\n"
     ]
    }
   ],
   "source": [
    "cutparams = dict(\n",
    "    parallax_min=8.3, parallax_max=12.4,\n",
    "    ra_min=g.ra.mean()-20, ra_max=g.ra.mean()+20,\n",
    "    dec_min=g.dec.mean()-9, dec_max=g.dec.mean()+9\n",
    ")\n",
    "query_region_dr1 = \"\"\"\n",
    "select gaiadr2.gaia_source.source_id, gaiadr2.dr1_neighbourhood.*\n",
    "from gaiadr2.gaia_source\n",
    "-- dr1\n",
    "left join gaiadr2.dr1_neighbourhood\n",
    "  on gaiadr2.dr1_neighbourhood.dr2_source_id=gaiadr2.gaia_source.source_id\n",
    "where\n",
    "    gaiadr2.gaia_source.ra between {ra_min} and {ra_max}\n",
    "    and gaiadr2.gaia_source.dec between {dec_min} and {dec_max}\n",
    "    and gaiadr2.gaia_source.parallax between {parallax_min} and {parallax_max}\n",
    "\"\"\".format(**cutparams)\n",
    "\n",
    "\n",
    "%store -r g10_region_dr1\n",
    "try:\n",
    "    g10_region_dr1\n",
    "    print(\"Loaded g10_region_dr1 from cache {:d} rows\".format(len(g10_region_dr1)))\n",
    "except NameError:\n",
    "    print(\"Querying Gaia archive\")\n",
    "    print(query_region_dr1)\n",
    "    j = gaia.query(query_region_dr1)\n",
    "    g10_region_dr1 = table_to_pandas(j)\n",
    "    %store g10_region_dr1"
   ]
  },
  {
   "cell_type": "markdown",
   "metadata": {},
   "source": [
    "## Check RAVE DR5 matches"
   ]
  },
  {
   "cell_type": "code",
   "execution_count": 15,
   "metadata": {},
   "outputs": [
    {
     "name": "stdout",
     "output_type": "stream",
     "text": [
      "Loaded g10_region_ravedr5 from cache 3413 rows\n"
     ]
    }
   ],
   "source": [
    "cutparams = dict(\n",
    "    parallax_min=8.3, parallax_max=12.4,\n",
    "    ra_min=g.ra.mean()-20, ra_max=g.ra.mean()+20,\n",
    "    dec_min=g.dec.mean()-9, dec_max=g.dec.mean()+9\n",
    ")\n",
    "query_region_ravedr5 = \"\"\"\n",
    "select gaiadr2.gaia_source.designation, gaiadr2.gaia_source.source_id, gaiadr2.ravedr5_best_neighbour.*\n",
    "from gaiadr2.gaia_source\n",
    "-- ravedr5\n",
    "left join gaiadr2.ravedr5_best_neighbour on gaiadr2.ravedr5_best_neighbour.source_id = gaiadr2.gaia_source.source_id\n",
    "where\n",
    "    gaiadr2.gaia_source.ra between {ra_min} and {ra_max}\n",
    "    and gaiadr2.gaia_source.dec between {dec_min} and {dec_max}\n",
    "    and gaiadr2.gaia_source.parallax between {parallax_min} and {parallax_max}\n",
    "\"\"\".format(**cutparams)\n",
    "\n",
    "%store -r g10_region_ravedr5\n",
    "try:\n",
    "    g10_region_ravedr5\n",
    "    print(\"Loaded g10_region_ravedr5 from cache {:d} rows\".format(len(g10_region_ravedr5)))\n",
    "except NameError:\n",
    "    print(\"Querying Gaia archive\")\n",
    "    print(query_region_ravedr5)\n",
    "    j = gaia.query(query_region_ravedr5)\n",
    "    g10_region_ravedr5 = table_to_pandas(j)\n",
    "    %store g10_region_ravedr5"
   ]
  },
  {
   "cell_type": "code",
   "execution_count": 34,
   "metadata": {
    "collapsed": true
   },
   "outputs": [],
   "source": [
    "# join photometry\n",
    "allwise_columns_keep = [\n",
    "    'designation','source_id','allwise_oid',\n",
    "    'w1mpro', 'w1mpro_error', 'w2mpro', 'w2mpro_error', 'w3mpro', 'w3mpro_error', 'w4mpro', 'w4mpro_error',\n",
    "    'cc_flags','ext_flag','var_flag', 'ph_qual',\n",
    "]\n",
    "tmass_columns_keep = [\n",
    "    'tmass_oid', 'j_m', 'j_msigcom', 'h_m', 'h_msigcom', 'ks_m', 'ks_msigcom',\n",
    "]\n",
    "\n",
    "g10_region_allphot = g10_region_phot[allwise_columns_keep+tmass_columns_keep].merge(\n",
    "    g10_region_ps, on='designation', how='left')\\\n",
    "    .merge(g10_region[['designation','parallax','parallax_error']].reset_index(),\n",
    "           on='designation', how='right').set_index('index')\n",
    "\n",
    "\n",
    "g10_region_allphot = g10_region_allphot.rename(columns=dict(\n",
    "    w1mpro='wise_w1', w1mpro_error='wise_w1_error',\n",
    "    w2mpro='wise_w2', w2mpro_error='wise_w2_error',\n",
    "    w3mpro='wise_w3', w3mpro_error='wise_w3_error',\n",
    "    w4mpro='wise_w4', w4mpro_error='wise_w4_error',\n",
    "    j_m='tmass_j', j_msigcom='tmass_j_error',\n",
    "    h_m='tmass_h', h_msigcom='tmass_h_error',\n",
    "    ks_m='tmass_ks', ks_msigcom='tmass_ks_error',\n",
    "    g_mean_psf_mag='ps_g', g_mean_psf_mag_error='ps_g_error',\n",
    "    r_mean_psf_mag='ps_r', r_mean_psf_mag_error='ps_r_error',\n",
    "    i_mean_psf_mag='ps_i', i_mean_psf_mag_error='ps_i_error',\n",
    "    z_mean_psf_mag='ps_z', z_mean_psf_mag_error='ps_z_error',\n",
    "    y_mean_psf_mag='ps_y', y_mean_psf_mag_error='ps_y_error',\n",
    "))"
   ]
  },
  {
   "cell_type": "markdown",
   "metadata": {},
   "source": [
    "## Get other names"
   ]
  },
  {
   "cell_type": "code",
   "execution_count": 16,
   "metadata": {},
   "outputs": [
    {
     "name": "stdout",
     "output_type": "stream",
     "text": [
      "Loaded g10_region_tycho2 from cache 3414 rows\n"
     ]
    }
   ],
   "source": [
    "cutparams = dict(\n",
    "    parallax_min=8.3, parallax_max=12.4,\n",
    "    ra_min=g.ra.mean()-20, ra_max=g.ra.mean()+20,\n",
    "    dec_min=g.dec.mean()-9, dec_max=g.dec.mean()+9\n",
    ")\n",
    "query_region_tycho2 = \"\"\"\n",
    "select gaiadr2.gaia_source.designation, gaiadr2.gaia_source.source_id,\n",
    "    tyc.hip, tyc.tyc1, tyc.tyc2, tyc.tyc3, tyc.id_tycho, tyc.id\n",
    "from gaiadr2.gaia_source\n",
    "-- tycho2\n",
    "left join gaiadr2.tycho2_best_neighbour on gaiadr2.tycho2_best_neighbour.source_id = gaiadr2.gaia_source.source_id\n",
    "left join public.tycho2 tyc on gaiadr2.tycho2_best_neighbour.original_ext_source_id = tyc.id\n",
    "where\n",
    "    gaiadr2.gaia_source.ra between {ra_min} and {ra_max}\n",
    "    and gaiadr2.gaia_source.dec between {dec_min} and {dec_max}\n",
    "    and gaiadr2.gaia_source.parallax between {parallax_min} and {parallax_max}\n",
    "\"\"\".format(**cutparams)\n",
    "\n",
    "\n",
    "%store -r g10_region_tycho2\n",
    "try:\n",
    "    g10_region_tycho2\n",
    "    print(\"Loaded g10_region_tycho2 from cache {:d} rows\".format(len(g10_region_tycho2)))\n",
    "except NameError:\n",
    "    print(\"Querying Gaia archive\")\n",
    "    print(query_region_tycho2)\n",
    "    j = gaia.query(query_region_tycho2)\n",
    "    g10_region_tycho2 = table_to_pandas(j)\n",
    "    %store g10_region_tycho2"
   ]
  },
  {
   "cell_type": "code",
   "execution_count": 17,
   "metadata": {
    "scrolled": true
   },
   "outputs": [
    {
     "data": {
      "text/plain": [
       "designation    3414\n",
       "source_id      3414\n",
       "hip             136\n",
       "tyc1            478\n",
       "tyc2            478\n",
       "tyc3            478\n",
       "id_tycho        478\n",
       "id              478\n",
       "dtype: int64"
      ]
     },
     "execution_count": 17,
     "metadata": {},
     "output_type": "execute_result"
    }
   ],
   "source": [
    "g10_region_tycho2.count()"
   ]
  },
  {
   "cell_type": "markdown",
   "metadata": {},
   "source": [
    "## Check HIP2 only"
   ]
  },
  {
   "cell_type": "code",
   "execution_count": 19,
   "metadata": {
    "collapsed": true
   },
   "outputs": [],
   "source": [
    "# cutparams = dict(\n",
    "#     parallax_min=8.3, parallax_max=12.4,\n",
    "#     ra_min=g.ra.mean()-20, ra_max=g.ra.mean()+20,\n",
    "#     dec_min=g.dec.mean()-9, dec_max=g.dec.mean()+9\n",
    "# )\n",
    "# query_region_hipparcos2 = \"\"\"\n",
    "# select gaiadr2.gaia_source.source_id, hip2.*\n",
    "# from gaiadr2.gaia_source\n",
    "# -- hipparcos2\n",
    "# left join gaiadr2.hipparcos2_best_neighbour on gaiadr2.hipparcos2_best_neighbour.source_id = gaiadr2.gaia_source.source_id\n",
    "# left join public.hipparcos_newreduction hip2 on gaiadr2.hipparcos2_best_neighbour.original_ext_source_id = hip2.hip\n",
    "# where\n",
    "#     gaiadr2.gaia_source.ra between {ra_min} and {ra_max}\n",
    "#     and gaiadr2.gaia_source.dec between {dec_min} and {dec_max}\n",
    "#     and gaiadr2.gaia_source.parallax between {parallax_min} and {parallax_max}\n",
    "# \"\"\".format(**cutparams)\n",
    "# print(query_region_hipparcos2)\n",
    "\n",
    "\n",
    "# print(\"Querying Gaia archive\")\n",
    "# j = gaia.query(query_region_hipparcos2)\n",
    "# g10_region_hipparcos2 = j.to_pandas()\n",
    "# %store g10_region_hipparcos2"
   ]
  },
  {
   "cell_type": "code",
   "execution_count": 20,
   "metadata": {
    "collapsed": true
   },
   "outputs": [],
   "source": [
    "# g10_region_hipparcos2.count()[['source_id','hip']]"
   ]
  },
  {
   "cell_type": "code",
   "execution_count": 24,
   "metadata": {
    "collapsed": true
   },
   "outputs": [],
   "source": [
    "figsymbols = dict(\n",
    "    ra='R.A.',\n",
    "    dec='Decl.',\n",
    "    pmra=r'$\\mu_\\alpha$',\n",
    "    pmdec=r'$\\mu_\\delta$',\n",
    "    parallax=r'$\\pi$',\n",
    "    deg=r'deg',\n",
    "    masyr=r'$\\mathrm{mas}\\,\\mathrm{yr}^{-1}$')"
   ]
  },
  {
   "cell_type": "markdown",
   "metadata": {},
   "source": [
    "# External Catalogs"
   ]
  },
  {
   "cell_type": "code",
   "execution_count": 25,
   "metadata": {},
   "outputs": [
    {
     "name": "stdout",
     "output_type": "stream",
     "text": [
      "Load David & Hillenbrand 2015 table 5\n"
     ]
    }
   ],
   "source": [
    "def load_DH2015_table5():\n",
    "    fn = '../data/dh2015_table5.txt'\n",
    "    if not os.path.exists(fn):\n",
    "        from astroquery.vizier import Vizier\n",
    "        Vizier.ROW_LIMIT = False\n",
    "        Vizier.columns = ['**']    # get all columns\n",
    "        # David & Hillenbrand 2015\n",
    "        dht5 = Vizier.get_catalogs('J/ApJ/804/146/table5')[0]\n",
    "        dht5.write(fn, format='ascii')\n",
    "    else:\n",
    "        dht5 = Table.read(fn, format='ascii')\n",
    "    return table_to_pandas(dht5)\n",
    "\n",
    "print('Load David & Hillenbrand 2015 table 5 to `dht5`')\n",
    "dht5 = load_DH2015_table5()"
   ]
  },
  {
   "cell_type": "code",
   "execution_count": null,
   "metadata": {
    "collapsed": true
   },
   "outputs": [],
   "source": [
    "# from ezpadova import parsec\n",
    "\n",
    "# parsec_solar_gaia = parsec.get_t_isochrones(6, 9, 0.05, 0.0152, phot='gaia', model='parsec12s').to_pandas()\n",
    "# print(len(parsec_solar_gaia))\n",
    "\n",
    "# parsec_solar_gaia = parsec_solar_gaia.rename(columns={'log(age/yr)':'log_age'})\n",
    "# parsec_solar_gaia['bp_rp'] = parsec_solar_gaia['G_BP'] - parsec_solar_gaia['G_RP']\n",
    "\n",
    "\n",
    "\n",
    "# parsec_solar_tmass = parsec.get_t_isochrones(\n",
    "#     6, 9, 0.05, 0.0152,\n",
    "#     phot='2mass_spitzer_wise', model='parsec12s').to_pandas()\n",
    "# parsec_solar_tmass = parsec_solar_tmass.rename(columns={'log(age/yr)':'log_age'})\n",
    "\n",
    "# parsec_solar_ps = parsec.get_t_isochrones(6, 9, 0.05, 0.0152, phot='panstarrs1', model='parsec12s').to_pandas()\n",
    "# parsec_solar_ps = parsec_solar_ps.rename(columns={'log(age/yr)':'log_age'})\n",
    "\n",
    "# common_columns = list(parsec_solar_gaia.columns.intersection(parsec_solar_tmass.columns))\n",
    "# parsec_solar = parsec_solar_gaia\\\n",
    "#     .merge(parsec_solar_tmass, on=common_columns)\\\n",
    "#     .merge(parsec_solar_ps, on=common_columns)"
   ]
  },
  {
   "cell_type": "code",
   "execution_count": 42,
   "metadata": {},
   "outputs": [
    {
     "name": "stdout",
     "output_type": "stream",
     "text": [
      "Stored 'parsec_solar' (DataFrame)\n"
     ]
    }
   ],
   "source": [
    "# %store parsec_solar"
   ]
  },
  {
   "cell_type": "code",
   "execution_count": 13,
   "metadata": {},
   "outputs": [
    {
     "name": "stdout",
     "output_type": "stream",
     "text": [
      "135118 in 2RXS\n",
      "CPU times: user 8.46 s, sys: 600 ms, total: 9.06 s\n",
      "Wall time: 9.33 s\n"
     ]
    }
   ],
   "source": [
    "%%time\n",
    "class RXS:\n",
    "    fn = '../data/cat2rxs.fits'\n",
    "    t_2rxs = Table.read('../data/cat2rxs.fits')\n",
    "    print('{:d} in 2RXS'.format(len(t_2rxs)))\n",
    "    \n",
    "    coords_2rxs = coords.SkyCoord(t_2rxs['RA_DEG'].data*u.deg, t_2rxs['DEC_DEG'].data*u.deg)"
   ]
  },
  {
   "cell_type": "markdown",
   "metadata": {},
   "source": [
    "fx = ((5.30*(viz.hr1) + 8.31)*1e-12)*viz.count\n",
    "efx = sqrt( ( ros[gneed].fx / viz.count )^2*viz.e_count^2 + ( 5.3d-12 * viz.count )^2*viz.e_hr1^2 )\n",
    "lx = 1.2d38*sros.fx*(1d3/gs.PLX)^elx = 1.2d38*sqrt( ((1d3/gs.PLX)^2)^2*sros.efx^2 + (sros.fx*(1d3/gs.PLX)*2.)^2*(1d3/gs.PLX^2*gs.EPLX)^2)\n",
    "log_lx = alog10(lx)\n",
    "elog_lx = elx / lx\n"
   ]
  }
 ],
 "metadata": {
  "kernelspec": {
   "display_name": "Python 3",
   "language": "python",
   "name": "python3"
  },
  "language_info": {
   "codemirror_mode": {
    "name": "ipython",
    "version": 3
   },
   "file_extension": ".py",
   "mimetype": "text/x-python",
   "name": "python",
   "nbconvert_exporter": "python",
   "pygments_lexer": "ipython3",
   "version": "3.6.2"
  },
  "toc": {
   "colors": {
    "hover_highlight": "#DAA520",
    "running_highlight": "#FF0000",
    "selected_highlight": "#FFD700"
   },
   "moveMenuLeft": true,
   "nav_menu": {
    "height": "12px",
    "width": "252px"
   },
   "navigate_menu": true,
   "number_sections": true,
   "sideBar": true,
   "threshold": 4,
   "toc_cell": false,
   "toc_position": {
    "height": "751px",
    "left": "0px",
    "right": "1228px",
    "top": "66px",
    "width": "212px"
   },
   "toc_section_display": "block",
   "toc_window_display": true
  }
 },
 "nbformat": 4,
 "nbformat_minor": 2
}
