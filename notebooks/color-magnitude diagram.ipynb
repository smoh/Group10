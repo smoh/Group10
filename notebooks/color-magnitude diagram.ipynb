{
 "cells": [
  {
   "cell_type": "code",
   "execution_count": 1,
   "metadata": {
    "collapsed": true
   },
   "outputs": [],
   "source": [
    "%matplotlib inline\n",
    "import matplotlib.pyplot as plt\n",
    "import palettable\n",
    "import pandas as pd\n",
    "import numpy as np\n",
    "\n",
    "from astropy import units as u\n",
    "from astropy import coordinates as coords\n",
    "\n",
    "plt.style.use(\"notebook.mplstyle\")\n",
    "from astropy.table import Table"
   ]
  },
  {
   "cell_type": "code",
   "execution_count": 2,
   "metadata": {
    "collapsed": true
   },
   "outputs": [],
   "source": [
    "import gwb"
   ]
  },
  {
   "cell_type": "code",
   "execution_count": 3,
   "metadata": {
    "collapsed": true
   },
   "outputs": [],
   "source": [
    "from groupten import read_mist_models"
   ]
  },
  {
   "cell_type": "code",
   "execution_count": 4,
   "metadata": {
    "collapsed": false
   },
   "outputs": [],
   "source": [
    "df = pd.read_csv(\"../data/targets.csv\")\n",
    "print(len(df))"
   ]
  },
  {
   "cell_type": "code",
   "execution_count": 5,
   "metadata": {
    "collapsed": false
   },
   "outputs": [],
   "source": [
    "df['gj'] = df['tgas_gmag'] - df['tmass_j']\n",
    "df['gMag'] = df['tgas_gmag'] - 5*(np.log10(df['tgas_distance'])-1)"
   ]
  },
  {
   "cell_type": "code",
   "execution_count": 6,
   "metadata": {
    "collapsed": false,
    "scrolled": true
   },
   "outputs": [],
   "source": [
    "mist = read_mist_models.ISOCMD(\"../data/MIST_iso_1490194647.iso.cmd\")"
   ]
  },
  {
   "cell_type": "code",
   "execution_count": 7,
   "metadata": {
    "collapsed": true
   },
   "outputs": [],
   "source": [
    "flags = pd.read_csv(\"../data/target_flags.csv\")"
   ]
  },
  {
   "cell_type": "code",
   "execution_count": 17,
   "metadata": {
    "collapsed": false
   },
   "outputs": [],
   "source": [
    "# parsec_2MASS = Table.read(\"../data/parsec_2MASSJHKs.dat\",\n",
    "#                     format='ascii.commented_header', header_start=5)\n",
    "# parsec_Gaia = Table.read(\"../data/parsec_Gaia.dat\",\n",
    "#                     format='ascii.commented_header', header_start=5)\n",
    "\n",
    "# parsec_gj = parsec_Gaia['Gmag'] - parsec_2MASS['Jmag']\n",
    "# for i, age in enumerate(ages[::10]):\n",
    "#     cond = parsec_2MASS['Age']==age\n",
    "#     plt.plot(parsec_gj[cond], parsec_Gaia['Gmag'][cond], '-', color=plt.cm.Blues_r(i/10.),\n",
    "#              label='{:.1f}'.format(age/1e6))\n",
    "# #     plt.plot(parsec_gj[cond], parsec_2MASS['Jmag'][cond], '.', color=plt.cm.plasma(i/10.))\n",
    "#     plot_gjg(np.log10(age))\n"
   ]
  },
  {
   "cell_type": "code",
   "execution_count": 24,
   "metadata": {
    "collapsed": false
   },
   "outputs": [],
   "source": [
    "mist.abun, mist.Av_extinction"
   ]
  },
  {
   "cell_type": "code",
   "execution_count": 41,
   "metadata": {
    "collapsed": false
   },
   "outputs": [],
   "source": [
    "plt.figure(figsize=(4,5))\n",
    "colors = palettable.colorbrewer.sequential.Blues_4_r.mpl_colors\n",
    "handles = []\n",
    "for age, color in zip([1e7, 1e8, 1e9], colors):\n",
    "    iso = mist.get_age(np.log10(age))\n",
    "    l, = plt.plot(iso['Gaia_G'] - iso['2MASS_J'], iso['Gaia_G'],\n",
    "             label=\"{:.0f}\".format(np.log10(age)),\n",
    "             lw=1.5, zorder=-90, color=color);\n",
    "    handles.append(l)\n",
    "\n",
    "\n",
    "plt.scatter(df['gj'], df['gMag'],\n",
    "            c=['r' if flag else 'k' for flag in flags.ir],\n",
    "            edgecolors='w', linewidths=1., s=40)\n",
    "plt.scatter(df['gj'].loc[flags.xray], df['gMag'].loc[flags.xray],\n",
    "            edgecolors='k', linewidths=1., s=55, facecolors='None')\n",
    "\n",
    "plt.gca().invert_yaxis()\n",
    "plt.xlabel('$\\mathrm{Gaia}\\ G - \\mathrm{2MASS}\\ J$')\n",
    "plt.ylabel('$M_G$')\n",
    "plt.xlim(-0.5,2)\n",
    "plt.ylim(10,-2)\n",
    "plt.legend(handles, ['10 Myr', '100 Myr', '1 Gyr'], loc='lower left')\n",
    "plt.tight_layout()\n",
    "plt.savefig(\"../paper/figures/cmd_gjg.pdf\")"
   ]
  },
  {
   "cell_type": "code",
   "execution_count": null,
   "metadata": {
    "collapsed": true
   },
   "outputs": [],
   "source": []
  }
 ],
 "metadata": {
  "anaconda-cloud": {},
  "kernelspec": {
   "display_name": "Python [conda env:gwb]",
   "language": "python",
   "name": "conda-env-gwb-py"
  },
  "language_info": {
   "codemirror_mode": {
    "name": "ipython",
    "version": 3
   },
   "file_extension": ".py",
   "mimetype": "text/x-python",
   "name": "python",
   "nbconvert_exporter": "python",
   "pygments_lexer": "ipython3",
   "version": "3.5.2"
  }
 },
 "nbformat": 4,
 "nbformat_minor": 2
}
