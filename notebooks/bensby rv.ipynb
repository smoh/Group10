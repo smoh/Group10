{
 "cells": [
  {
   "cell_type": "code",
   "execution_count": 1,
   "metadata": {
    "collapsed": true
   },
   "outputs": [],
   "source": [
    "%matplotlib inline\n",
    "import matplotlib.pyplot as plt\n",
    "import pandas as pd\n",
    "import numpy as np\n",
    "import pyvo as vo\n",
    "\n",
    "from astropy.table import Table"
   ]
  },
  {
   "cell_type": "code",
   "execution_count": 2,
   "metadata": {
    "collapsed": false
   },
   "outputs": [
    {
     "name": "stdout",
     "output_type": "stream",
     "text": [
      "/Users/semyeong/projects/gaia-wide-binaries/notebooks/Bensby13\n"
     ]
    }
   ],
   "source": [
    "cd ../../gaia-wide-binaries/notebooks/Bensby13"
   ]
  },
  {
   "cell_type": "code",
   "execution_count": 3,
   "metadata": {
    "collapsed": false
   },
   "outputs": [
    {
     "name": "stdout",
     "output_type": "stream",
     "text": [
      "ReadMe                 tablec1.dat            targetlist_bensby.txt\r\n",
      "\u001b[34mfindingcharts\u001b[m\u001b[m/         tablec2.dat\r\n",
      "simbad.xml             tablec3.dat\r\n"
     ]
    }
   ],
   "source": [
    "ls"
   ]
  },
  {
   "cell_type": "code",
   "execution_count": 4,
   "metadata": {
    "collapsed": false
   },
   "outputs": [
    {
     "name": "stdout",
     "output_type": "stream",
     "text": [
      "J/A+A/562/A71  Chemical abundances of solar neighbourhood dwarfs (Bensby+, 2014)\r\n",
      "================================================================================\r\n",
      "Exploring the Milky Way stellar disk. A detailed elemental abundance study of\r\n",
      "714 F and G dwarf stars in the solar neighbourhood.\r\n",
      "    Bensby T., Feltzing S., Oey M.S.\r\n",
      "   <Astron. Astrophys. 562, A71 (2014)>\r\n",
      "   =2014A&A...562A..71B\r\n",
      "================================================================================\r\n",
      "ADC_Keywords: Abundances ; Spectroscopy ; Stars, ages ; Stars, dwarfs ;\r\n",
      "              Stars, nearby\r\n",
      "Keywords: Galaxy: disk - Galaxy: formation - Galaxy: evolution -\r\n",
      "          stars: abundances - stars: fundamental parameters -\r\n",
      "          stars: kinematics and dynamics\r\n",
      "\r\n",
      "Abstract:\r\n",
      "    We present a detailed elemental abundance study of 714 F and G dwarf\r\n",
      "    and subgiant stars in the Solar neighbourhood. The analysis is based\r\n",
      "    on high-resolution spectra obtained with MIKE on the Magellan\r\n",
      "    telescope, FEROS on the ESO 1.5m and 2.2m telescopes, HARPS on the\r\n",
      "    ESO 3.6m telescope, UVES on the ESO Very Large Telescope, SOFIN and\r\n",
      "    FIES on the Nordic Optical Telescope. Our data show that there is an\r\n",
      "    old and alpha-enhanced disk population, and a younger and less\r\n",
      "    alpha-enhanced disk population. While they overlap greatly in\r\n",
      "    metallicity between -0.7<[Fe/H]<+0.1, they show a bimodal\r\n",
      "    distribution in [alpha/Fe]. This bimodality becomes even clearer if\r\n",
      "    stars where stellar parameters and abundances show larger\r\n",
      "    uncertainties (Teff<5400K) are discarded, showing that it is\r\n",
      "    important to constrain the data set to a narrow range in the stellar\r\n",
      "    parameters if small differences between stellar populations are to be\r\n",
      "    revealed. In addition, we find that the alpha-enhanced population has\r\n",
      "    orbital parameters placing the stellar birthplaces in the inner\r\n",
      "    Galactic disk while the low-alpha stars mainly come from the outer\r\n",
      "    Galactic disk, fully consistent with the recent claims of a short\r\n",
      "    scale-length for the alpha-enhanced Galactic thick disk. We have also\r\n",
      "    investigated the properties of the Hercules stream and the Arcturus\r\n",
      "    moving group.\r\n",
      "\r\n",
      "Description:\r\n",
      "    In the following tables we give stellar parameters, stellar ages,\r\n",
      "    kinematical parameters, orbital parameters, and detailed elemental\r\n",
      "    abundances for O, Na, Mg, Al, Si, Ca, Ti, Cr, Fe, Ni, Zn, Y, and Ba\r\n",
      "    for 714 nearby F and G dwarf stars. We also list the atomic data used\r\n",
      "    (oscillator strengths), as well as equivalent widths and abundances\r\n",
      "    for individual lines in the Sun. Finally we list stars that were\r\n",
      "    observed but not analysed as they turned out to be either\r\n",
      "    spectroscopic binaries or rotated too fast to allow a proper abundance\r\n",
      "    analysis.\r\n",
      "\r\n",
      "File Summary:\r\n",
      "--------------------------------------------------------------------------------\r\n",
      " FileName   Lrecl  Records   Explanations\r\n",
      "--------------------------------------------------------------------------------\r\n",
      "ReadMe         80        .   This file\r",
      "\r\n",
      "tablec1.dat     8      161   Stars rejected from analysis\r\n",
      "tablec2.dat    38      496   Atomic line data, solar equivalent widths, and\r\n",
      "                             solar abundances\r\n",
      "tablec3.dat   796      714   Elemental abundances, stellar ages, kinematics\r\n",
      "--------------------------------------------------------------------------------\r\n",
      "\r\n",
      "See also:\r\n",
      "        I/239     : The Hipparcos and Tycho Catalogues (ESA 1997)\r\n",
      " J/AJ/118/895     : Milky way and stellar distributions (Tiede+ 1999)\r\n",
      " J/A+A/377/911    : Solar neighborhood age-metallicity relation (Feltzing+ 2001)\r\n",
      " J/MNRAS/325/1365 : Solar neighborhood metallicity distribution (Haywood+ 2001)\r\n",
      " J/PAZh/30/173    : Space velocities of solar neighborhood stars (Borkova+ 2004)\r\n",
      " J/ApJ/714/663    : Stellar density map of the Milky Way (de Jong+, 2010)\r\n",
      "\r\n",
      "Byte-by-byte Description of file: tablec1.dat\r\n",
      "--------------------------------------------------------------------------------\r\n",
      "   Bytes Format Units   Label     Explanations\r\n",
      "--------------------------------------------------------------------------------\r\n",
      "   1-  6  I6    ---     HIP       Hipparcos number\r\n",
      "       8  I1    ---     Rej       [1/2] Reason for rejection (1)\r\n",
      "--------------------------------------------------------------------------------\r\n",
      "Note (1): Spectrographs and observing runs have the following codes:\r\n",
      "   1 = Wide spectral lines, probably due to high vsini\r\n",
      "   2 = Double or wide spectral lines, probably due to spectroscopic binary\r\n",
      "--------------------------------------------------------------------------------\r\n",
      "\r\n",
      "Byte-by-byte Description of file: tablec2.dat\r\n",
      "--------------------------------------------------------------------------------\r\n",
      "   Bytes Format Units   Label     Explanations\r\n",
      "--------------------------------------------------------------------------------\r\n",
      "   2-  3  A2    ---     El        Element\r\n",
      "       5  I1    ---     Ion       Ion (1=neutral, 2=ionised)\r\n",
      "   7- 14  F8.3  0.1nm   lambda    Line wavelength\r\n",
      "  16- 21  F6.2  [-]     loggf     Oscillator strength (1)\r\n",
      "  23- 27  F5.2  eV      LEP       Lower excitation potential\r\n",
      "  29- 33  F5.1  pm      EW        Line equivalent width\r\n",
      "  35- 38  F4.2  [-]     Abun      Absolute abundance 12+log(N/H) (2)\r\n",
      "--------------------------------------------------------------------------------\r\n",
      "Note (1): References for the oscillator strengths can be found in\r\n",
      "     Bensby et al., 2003, Cat. J/A+A/410/527.\r\n",
      "Note (2): The reported O and Na abundances are not corrected for NLTE effects.\r\n",
      "--------------------------------------------------------------------------------\r\n",
      "\r\n",
      "Byte-by-byte Description of file: tablec3.dat\r\n",
      "--------------------------------------------------------------------------------\r\n",
      "   Bytes Format Units    Label   Explanations\r\n",
      "--------------------------------------------------------------------------------\r\n",
      "   1-  6  I6    ---      HIP     Hipparcos number\r\n",
      "   9- 10  I2    ---      Spec    [1/77] Spectrograph + date (1)\r\n",
      "  13- 16  I4    K        Teff    Effective temperature\r\n",
      "  19- 21  I3    K      e_Teff    Uncertainty in Teff\r\n",
      "  24- 27  F4.2 [cm/s2]   logg    Surface gravity\r\n",
      "  30- 33  F4.2 [cm/s2] e_logg    Uncertainty in logg\r\n",
      "  36- 39  F4.2  km/s     xi      Microturbulence velocity {xi}\r\n",
      "  42- 45  F4.2  km/s   e_xi      Uncertainty in xi\r\n",
      "  48- 51  F4.2  [-]      Fe1     Absolute FeI abundance\r\n",
      "  54- 57  F4.2  [-]      Fe2     Absolute FeII abundance\r\n",
      "  60- 63  F4.2  Sun      M       Stellar mass\r\n",
      "  66- 69  F4.2  Sun    b_M       Lower limit on M\r\n",
      "  72- 75  F4.2  Sun    B_M       Upper limit on M\r\n",
      "  78- 81  F4.1  Gyr      Age     Stellar age\r\n",
      "  84- 87  F4.1  Gyr    b_Age     Lower limit on Age\r\n",
      "  90- 93  F4.1  Gyr    B_Age     Upper limit on Age\r\n",
      "  95- 99  F5.2 [Sun]     Fe/H    Abundance ratio Fe/H normalised to Sun\r\n",
      " 102-106  F5.2 [Sun]     O/Fe    ? Abundance ratio O/Fe normalised to Sun\r\n",
      " 109-113  F5.2 [Sun]     Na/Fe   ? Abundance ratio Na/Fe normalised to Sun\r\n",
      " 116-120  F5.2 [Sun]     Mg/Fe   ? Abundance ratio Mg/Fe normalised to Sun\r\n",
      " 123-127  F5.2 [Sun]     Al/Fe   ? Abundance ratio Al/Fe normalised to Sun\r\n",
      " 130-134  F5.2 [Sun]     Si/Fe   ? Abundance ratio Si/Fe normalised to Sun\r\n",
      " 137-141  F5.2 [Sun]     Ca/Fe   ? Abundance ratio Ca/Fe normalised to Sun\r\n",
      " 144-148  F5.2 [Sun]     Ti/Fe   ? Abundance ratio Ti/Fe normalised to Sun\r\n",
      " 151-155  F5.2 [Sun]     Cr/Fe   ? Abundance ratio Cr/Fe normalised to Sun\r\n",
      " 158-162  F5.2 [Sun]     Ni/Fe   ? Abundance ratio Ni/Fe normalised to Sun\r\n",
      " 165-169  F5.2 [Sun]     Zn/Fe   ? Abundance ratio Zn/Fe normalised to Sun\r\n",
      " 172-176  F5.2 [Sun]     Y/Fe    ? Abundance ratio Y/Fe normalised to Sun\r\n",
      " 179-183  F5.2 [Sun]     Ba/Fe   ? Abundance ratio Ba/Fe normalised to Sun\r\n",
      " 185-188  F4.2 [Sun]   e_Fe/H    Uncertainty on abundance ratio Fe/H\r\n",
      " 191-194  F4.2 [Sun]   e_O/Fe    ? Uncertainty on abundance ratio O/Fe\r\n",
      " 197-200  F4.2 [Sun]   e_Na/Fe   ? Uncertainty on abundance ratio Na/Fe\r\n",
      " 203-206  F4.2 [Sun]   e_Mg/Fe   ? Uncertainty on abundance ratio Mg/Fe\r\n",
      " 209-212  F4.2 [Sun]   e_Al/Fe   ? Uncertainty on abundance ratio Al/Fe\r\n",
      " 215-218  F4.2 [Sun]   e_Si/Fe   ? Uncertainty on abundance ratio Si/Fe\r\n",
      " 221-224  F4.2 [Sun]   e_Ca/Fe   ? Uncertainty on abundance ratio Ca/Fe\r\n",
      " 227-230  F4.2 [Sun]   e_Ti/Fe   ? Uncertainty on abundance ratio Ti/Fe\r\n",
      " 233-236  F4.2 [Sun]   e_Cr/Fe   ? Uncertainty on abundance ratio Cr/Fe\r\n",
      " 239-242  F4.2 [Sun]   e_Ni/Fe   ? Uncertainty on abundance ratio Ni/Fe\r\n",
      " 245-248  F4.2 [Sun]   e_Zn/Fe   ? Uncertainty on abundance ratio Zn/Fe\r\n",
      " 251-254  F4.2 [Sun]   e_Y/Fe    ? Uncertainty on abundance ratio Y/Fe\r\n",
      " 257-260  F4.2 [Sun]   e_Ba/Fe   ? Uncertainty on abundance ratio Ba/Fe\r\n",
      " 262-266  F5.2 [Sun]     Ti/H    ? Abundance ratio Ti/H normalised to Sun\r\n",
      " 269-273  F5.2 [Sun]     O/Ti    ? Abundance ratio O/Ti normalised to Sun\r\n",
      " 276-280  F5.2 [Sun]     Na/Ti   ? Abundance ratio Na/Ti normalised to Sun\r\n",
      " 283-287  F5.2 [Sun]     Mg/Ti   ? Abundance ratio Mg/Ti normalised to Sun\r\n",
      " 290-294  F5.2 [Sun]     Al/Ti   ? Abundance ratio Al/Ti normalised to Sun\r\n",
      " 297-301  F5.2 [Sun]     Si/Ti   ? Abundance ratio Si/Ti normalised to Sun\r\n",
      " 304-308  F5.2 [Sun]     Ca/Ti   ? Abundance ratio Ca/Ti normalised to Sun\r\n",
      " 311-315  F5.2 [Sun]     Cr/Ti   ? Abundance ratio Cr/Ti normalised to Sun\r\n",
      " 318-322  F5.2 [Sun]     Ni/Ti   ? Abundance ratio Ni/Ti normalised to Sun\r\n",
      " 325-329  F5.2 [Sun]     Fe/Ti   ? Abundance ratio Fe/Ti normalised to Sun\r\n",
      " 332-336  F5.2 [Sun]     Zn/Ti   ? Abundance ratio Zn/Ti normalised to Sun\r\n",
      " 339-343  F5.2 [Sun]     Y/Ti    ? Abundance ratio Y/Ti normalised to Sun\r\n",
      " 346-350  F5.2 [Sun]     Ba/Ti   ? Abundance ratio Ba/Ti normalised to Sun\r\n",
      " 352-355  F4.2 [Sun]   e_Ti/H    ? Uncertainty on abundance ratio Ti/H\r\n",
      " 358-361  F4.2 [Sun]   e_O/Ti    ? Uncertainty on abundance ratio O/Ti\r\n",
      " 364-367  F4.2 [Sun]   e_Na/Ti   ? Uncertainty on abundance ratio Na/Ti\r\n",
      " 370-373  F4.2 [Sun]   e_Mg/Ti   ? Uncertainty on abundance ratio Mg/Ti\r\n",
      " 376-379  F4.2 [Sun]   e_Al/Ti   ? Uncertainty on abundance ratio Al/Ti\r\n",
      " 382-385  F4.2 [Sun]   e_Si/Ti   ? Uncertainty on abundance ratio Si/Ti\r\n",
      " 388-391  F4.2 [Sun]   e_Ca/Ti   ? Uncertainty on abundance ratio Ca/Ti\r\n",
      " 394-397  F4.2 [Sun]   e_Cr/Ti   ? Uncertainty on abundance ratio Cr/Ti\r\n",
      " 400-403  F4.2 [Sun]   e_Ni/Ti   ? Uncertainty on abundance ratio Ni/Ti\r\n",
      " 406-409  F4.2 [Sun]   e_Fe/Ti   ? Uncertainty on abundance ratio Fe/Ti\r\n",
      " 412-415  F4.2 [Sun]   e_Zn/Ti   ? Uncertainty on abundance ratio Zn/Ti\r\n",
      " 418-421  F4.2 [Sun]   e_Y/Ti    ? Uncertainty on abundance ratio Y/Ti\r\n",
      " 424-427  F4.2 [Sun]   e_Ba/Ti   ? Uncertainty on abundance ratio Ba/Ti\r\n",
      " 429-431  I3    ---      nFe1    Number of lines per Fe1 ion\r\n",
      " 434-436  I3    ---      nFe2    Number of lines per Fe2 ion\r\n",
      " 439-441  I3    ---      nO1     ? Number of lines per O1 ion\r\n",
      " 444-446  I3    ---      nNa1    ? Number of lines per Na1 ion\r\n",
      " 449-451  I3    ---      nMg1    ? Number of lines per Mg1 ion\r\n",
      " 454-456  I3    ---      nAl1    ? Number of lines per Al1 ion\r\n",
      " 459-461  I3    ---      nSi1    ? Number of lines per Si1 ion\r\n",
      " 464-466  I3    ---      nCa1    ? Number of lines per Ca1 ion\r\n",
      " 469-471  I3    ---      nTi1    ? Number of lines per Ti1 ion\r\n",
      " 474-476  I3    ---      nTi2    ? Number of lines per Ti2 ion\r\n",
      " 479-481  I3    ---      nCr1    ? Number of lines per Cr1 ion\r\n",
      " 484-486  I3    ---      nCr2    ? Number of lines per Cr2 ion\r\n",
      " 489-491  I3    ---      nNi1    ? Number of lines per Ni1 ion\r\n",
      " 494-496  I3    ---      nZn1    ? Number of lines per Zn1 ion\r\n",
      " 499-501  I3    ---      nY2     ? Number of lines per Y2 ion\r\n",
      " 504-506  I3    ---      nBa2    ? Number of lines per Ba2 ion\r\n",
      " 508-511  F4.2  ---      sFe1    1-{sigma} line-to-line dispersion per Fe1 ion\r\n",
      " 514-517  F4.2  ---      sFe2    1-{sigma} line-to-line dispersion per Fe2 ion\r\n",
      " 520-523  F4.2  ---      sO1     ? 1-{sigma} line-to-line dispersion per O1 ion\r\n",
      " 526-529  F4.2  ---      sNa1    ? 1-{sigma} line-to-line dispersion per Na1 ion\r\n",
      " 532-535  F4.2  ---      sMg1    ? 1-{sigma} line-to-line dispersion per Mg1 ion\r\n",
      " 538-541  F4.2  ---      sAl1    ? 1-{sigma} line-to-line dispersion per Al1 ion\r\n",
      " 544-547  F4.2  ---      sSi1    ? 1-{sigma} line-to-line dispersion per Si1 ion\r\n",
      " 550-553  F4.2  ---      sCa1    ? 1-{sigma} line-to-line dispersion per Ca1 ion\r\n",
      " 556-559  F4.2  ---      sTi1    ? 1-{sigma} line-to-line dispersion per Ti1 ion\r\n",
      " 562-565  F4.2  ---      sTi2    ? 1-{sigma} line-to-line dispersion per Ti2 ion\r\n",
      " 568-571  F4.2  ---      sCr1    ? 1-{sigma} line-to-line dispersion per Cr1 ion\r\n",
      " 574-577  F4.2  ---      sCr2    ? 1-{sigma} line-to-line dispersion per Cr2 ion\r\n",
      " 580-583  F4.2  ---      sNi1    ? 1-{sigma} line-to-line dispersion per Ni1 ion\r\n",
      " 586-589  F4.2  ---      sZn1    ? 1-{sigma} line-to-line dispersion per Zn1 ion\r\n",
      " 592-595  F4.2  ---      sY2     ? 1-{sigma} line-to-line dispersion per Y2 ion\r\n",
      " 598-601  F4.2  ---      sBa2    ? 1-{sigma} line-to-line dispersion per Ba2 ion\r\n",
      " 604-609  F6.2  mas      plx     Hipparcos parallax\r\n",
      " 614-619  F6.2  mas    e_plx     Uncertainty in plx\r\n",
      " 623-628  F6.4  kpc      Dist    Heliocentric distance\r\n",
      " 632-638  F7.3  deg      GLON    Galactic longitude\r\n",
      " 642-648  F7.3  deg      GLAT    Galactic latitude\r\n",
      " 652-656  I5    km/s     Ulsr    U velocity relative to LSR\r\n",
      " 660-664  I5    km/s     Vlsr    V velocity relative to LSR\r\n",
      " 668-672  I5    km/s     Wlsr    W velocity relative to LSR\r\n",
      " 676-680  F5.2  kpc      Rmin    Perigalactic distance of stellar orbit\r\n",
      " 683-688  F6.2  kpc      Rmax    Apogalactic distance of stellar orbit\r\n",
      " 692-696  F5.2  kpc      zmax    Maximum distance from galactic plane\r\n",
      " 699-704  F6.4  ---      e       [0/1] Eccentricity of stellar orbit\r\n",
      " 708-712  I5   kpc.km/s  Lz      Orbital angular momentum\r\n",
      " 715-720  F6.4  ---      Elsr    Orbital energy normalised to LSR\r\n",
      " 724-731  E8.3  ---      td/d    Thick disk-to-thin disk probability ratio\r\n",
      " 734-741  E8.3  ---      td/h    Thick disk-to-halo probability ratio\r\n",
      " 744-751  E8.3  ---      her/td  Hercules-to-thick disk probability ratio\r\n",
      " 754-761  E8.3  ---      her/d   Hercules-to-thin disk probability ratio\r\n",
      " 763-766  I4    K        TeffI   Uncorrected ion.bal. temperature\r\n",
      " 769-772  F4.2 [cm/s2]   loggI   Uncorrected ion.bal. gravity\r\n",
      " 775-778  I4    K        TeffH   Teff when using Hipparcos parallax for logg\r\n",
      " 781-784  F4.2 [cm/s2]   loggH   logg when using Hipparcos parallax\r\n",
      " 787-790  F4.2  [-]      Fe1H    Absolute FeI abundance when using\r\n",
      "                                 Hipparcos parallax\r\n",
      " 793-796  F4.2  [-]      Fe2H    Absolute FeII abundance when using\r\n",
      "                                 Hipparcos parallax\r\n",
      "--------------------------------------------------------------------------------\r\n",
      "Note (1): Spectrographs and observing runs have the following codes:\r\n",
      "   1 = MIKE, August 2005\r\n",
      "   2 = MIKE, January 2006\r\n",
      "   3 = MIKE, April 2006\r\n",
      "   4 = MIKE, August 2006\r\n",
      "   5 = MIKE, April 2007\r\n",
      "   6 = UVES, July 2002\r\n",
      "   7 = UVES, 2003/2004\r\n",
      "   8 = UVES POP archive\r\n",
      "   9 = SOFIN, 2002\r\n",
      "  10 = SOFIN, 2002\r\n",
      "  11 = SOFIN, 2003\r\n",
      "  12 = SOFIN, 2004\r\n",
      "  13 = SOFIN, 2006\r\n",
      "  14 = FEROS, September 2000\r\n",
      "  15 = FEROS, August 2001\r\n",
      "  16 = FEROS, 2005\r\n",
      "  17 = MIKE, May 2007\r\n",
      "  18 = MIKE, July 2007\r\n",
      "  19 = MIKE, November 2007\r\n",
      "  77 = FIES, HARPS\r\n",
      "--------------------------------------------------------------------------------\r\n",
      "\r\n",
      "Acknowledgements:\r\n",
      "    Thomas Bensby, tbensby(at)astro.lu.se\r\n",
      "\r\n",
      "================================================================================\r\n",
      "(End)  Thomas Bensby [Lund Obs., Sweden], Patricia Vannier [CDS]    03-Jan-2014\r\n"
     ]
    }
   ],
   "source": [
    "cat ReadMe"
   ]
  },
  {
   "cell_type": "code",
   "execution_count": 14,
   "metadata": {
    "collapsed": true
   },
   "outputs": [],
   "source": [
    "t3 = Table.read(\"tablec3.dat\", format='ascii.cds', readme='ReadMe')"
   ]
  },
  {
   "cell_type": "code",
   "execution_count": 6,
   "metadata": {
    "collapsed": false
   },
   "outputs": [
    {
     "data": {
      "text/html": [
       "&lt;Table masked=True length=3&gt;\n",
       "<table id=\"table4544862640\" class=\"table-striped table-bordered table-condensed\">\n",
       "<thead><tr><th>HIP</th><th>Ulsr</th><th>Vlsr</th><th>Wlsr</th></tr></thead>\n",
       "<thead><tr><th></th><th>km / s</th><th>km / s</th><th>km / s</th></tr></thead>\n",
       "<thead><tr><th>int64</th><th>int64</th><th>int64</th><th>int64</th></tr></thead>\n",
       "<tr><td>80</td><td>-102</td><td>-80</td><td>-18</td></tr>\n",
       "<tr><td>305</td><td>-10</td><td>-3</td><td>25</td></tr>\n",
       "<tr><td>407</td><td>11</td><td>-13</td><td>10</td></tr>\n",
       "</table>"
      ],
      "text/plain": [
       "<Table masked=True length=3>\n",
       " HIP   Ulsr   Vlsr   Wlsr \n",
       "      km / s km / s km / s\n",
       "int64 int64  int64  int64 \n",
       "----- ------ ------ ------\n",
       "   80   -102    -80    -18\n",
       "  305    -10     -3     25\n",
       "  407     11    -13     10"
      ]
     },
     "execution_count": 6,
     "metadata": {},
     "output_type": "execute_result"
    }
   ],
   "source": [
    "t3[['HIP', 'Ulsr', 'Vlsr', 'Wlsr']][:3]"
   ]
  },
  {
   "cell_type": "code",
   "execution_count": 3,
   "metadata": {
    "collapsed": false
   },
   "outputs": [],
   "source": [
    "tap = vo.dal.TAPService(\"http://simbad.u-strasbg.fr/simbad/sim-tap\")"
   ]
  },
  {
   "cell_type": "code",
   "execution_count": 57,
   "metadata": {
    "collapsed": false
   },
   "outputs": [],
   "source": [
    "iden = Table()\n",
    "iden['hip'] = ['HIP{:>7d}'.format(hip).encode('utf-8') for hip in t3['HIP']]\n",
    "iden.write(\"tmp.xml\", format='votable', overwrite='True')"
   ]
  },
  {
   "cell_type": "code",
   "execution_count": 60,
   "metadata": {
    "collapsed": false
   },
   "outputs": [],
   "source": [
    "query = \"\"\"\n",
    "select t1.hip, bibcode, nbmes, obsdate, qual, quality, velType, velValue, velValue_prec, remark, remarks, id1.oidref\n",
    "from TAP_UPLOAD.t1 as t1 left join ident as id1 on id1.id=t1.hip\n",
    "left join mesVelocities as v on v.oidref = id1.oidref\n",
    "\"\"\"\n",
    "\n",
    "result = tap.run_sync(query, uploads={'t1': ('inline', 'tmp.xml')})"
   ]
  },
  {
   "cell_type": "code",
   "execution_count": 62,
   "metadata": {
    "collapsed": false
   },
   "outputs": [],
   "source": [
    "dfbensbyrv = result.table.to_pandas()"
   ]
  },
  {
   "cell_type": "code",
   "execution_count": 64,
   "metadata": {
    "collapsed": true
   },
   "outputs": [],
   "source": [
    "# decode all bytestrings\n",
    "dfbensbyrv = dfbensbyrv.apply(lambda x: x.str.decode('utf-8') if x.dtype==object else x)"
   ]
  },
  {
   "cell_type": "code",
   "execution_count": 70,
   "metadata": {
    "collapsed": true
   },
   "outputs": [],
   "source": [
    "dfbensbyrv.oidref = dfbensbyrv.oidref.astype('int')"
   ]
  },
  {
   "cell_type": "code",
   "execution_count": 82,
   "metadata": {
    "collapsed": true
   },
   "outputs": [],
   "source": [
    "dfbensbyrv['hipnospace'] = [s.replace(' ', '') for s in dfbensbyrv.hip]"
   ]
  },
  {
   "cell_type": "code",
   "execution_count": 84,
   "metadata": {
    "collapsed": true
   },
   "outputs": [],
   "source": [
    "dfbensbyrv.to_csv(\"bensbyrv.csv\", index=False)"
   ]
  },
  {
   "cell_type": "code",
   "execution_count": 72,
   "metadata": {
    "collapsed": true
   },
   "outputs": [],
   "source": [
    "dfident = pd.read_csv(\"../../../GaiaPairsFollowup/data/star_identifier.csv\")"
   ]
  },
  {
   "cell_type": "code",
   "execution_count": 74,
   "metadata": {
    "collapsed": true
   },
   "outputs": [],
   "source": [
    "dfobs = pd.read_csv(\"../../../GaiaPairsFollowup/data/observed.csv\")"
   ]
  },
  {
   "cell_type": "code",
   "execution_count": 114,
   "metadata": {
    "collapsed": false
   },
   "outputs": [],
   "source": [
    "calibstar = dfobs.groupby(\"objtype\").get_group(\"calibstar\")"
   ]
  },
  {
   "cell_type": "code",
   "execution_count": 115,
   "metadata": {
    "collapsed": false
   },
   "outputs": [],
   "source": [
    "calibstar = calibstar.loc[calibstar.OBJECT.apply(lambda x:x[:3]=='HIP'), ['OBJECT']]"
   ]
  },
  {
   "cell_type": "code",
   "execution_count": 116,
   "metadata": {
    "collapsed": false
   },
   "outputs": [
    {
     "data": {
      "text/plain": [
       "95"
      ]
     },
     "execution_count": 116,
     "metadata": {},
     "output_type": "execute_result"
    }
   ],
   "source": [
    "len(calibstar)"
   ]
  },
  {
   "cell_type": "code",
   "execution_count": 117,
   "metadata": {
    "collapsed": false
   },
   "outputs": [],
   "source": [
    "calibstarrv = pd.merge(calibstar, dfbensbyrv, left_on='OBJECT', right_on='hipnospace')"
   ]
  },
  {
   "cell_type": "code",
   "execution_count": 118,
   "metadata": {
    "collapsed": false
   },
   "outputs": [
    {
     "data": {
      "text/plain": [
       "77"
      ]
     },
     "execution_count": 118,
     "metadata": {},
     "output_type": "execute_result"
    }
   ],
   "source": [
    "calibstarrv.OBJECT.unique().size"
   ]
  },
  {
   "cell_type": "code",
   "execution_count": 119,
   "metadata": {
    "collapsed": false
   },
   "outputs": [],
   "source": [
    "gobj = calibstarrv.groupby('OBJECT')"
   ]
  },
  {
   "cell_type": "code",
   "execution_count": 132,
   "metadata": {
    "collapsed": false
   },
   "outputs": [
    {
     "data": {
      "text/plain": [
       "array([  5.65803242e+00,   9.29805140e-01,   1.25069113e+00,\n",
       "         9.40817656e-01,   1.25830675e-01,   1.21975331e+00,\n",
       "         7.84750562e-01,   2.20241648e-07,   1.50536817e-01,\n",
       "         1.16057064e+00,   1.63111010e+00,   6.06257255e-01,\n",
       "         2.68760813e-01,   3.23687797e-07,   5.98914530e+00,\n",
       "         1.55884705e-01,   3.23008556e+00,   7.07109479e-02,\n",
       "         1.03473026e+00,   3.28070521e+00,   3.40060190e-01,\n",
       "                    nan,   4.88149919e+01,   2.33858737e-01,\n",
       "         2.10412988e+00,   1.10189250e+00,   3.76144301e-01,\n",
       "         3.00000127e-01,   2.08092001e+00,   2.12132034e-01,\n",
       "         1.88038105e+00,   1.09546183e-01,   2.25167134e-01,\n",
       "         2.38500206e+00,   3.24891694e+00,   2.30940053e-01,\n",
       "         1.47266315e+00,   3.14655890e-01,   2.24854935e+00,\n",
       "         1.38700115e+00,   1.96298915e-01,   2.19202563e-01,\n",
       "         1.93300489e+00,   1.75011418e+00,   1.10560322e-01,\n",
       "         3.37971892e+00,   9.24348086e-02,   2.94561821e-01,\n",
       "         4.91350059e-01,   3.59490796e+00,   8.94345081e-01,\n",
       "         4.29182938e-01,   3.18198052e+00,   4.73215493e+00,\n",
       "         3.66789578e-01,   1.11355318e+00,   3.55901465e-01,\n",
       "         4.47021624e+00,   2.82842712e-01,   2.82842711e-01,\n",
       "         4.51293549e+00,   3.48532033e+00,   7.64808288e-01,\n",
       "         3.53553121e-01,   2.59807841e-01,   2.12131495e-01,\n",
       "         3.05289060e-01,   3.57204468e+00,   2.88675135e-01,\n",
       "         1.70411266e+00,   1.92003501e+00,   1.43870006e+00,\n",
       "         2.12132088e+00,   2.62370363e+01,   1.30415696e+00,\n",
       "         4.88924975e-01,   1.07790498e+00])"
      ]
     },
     "execution_count": 132,
     "metadata": {},
     "output_type": "execute_result"
    }
   ],
   "source": [
    "gobj.std().velValue.values"
   ]
  },
  {
   "cell_type": "code",
   "execution_count": 148,
   "metadata": {
    "collapsed": false
   },
   "outputs": [
    {
     "data": {
      "text/plain": [
       "77"
      ]
     },
     "execution_count": 148,
     "metadata": {},
     "output_type": "execute_result"
    }
   ],
   "source": [
    "len(gobj)"
   ]
  },
  {
   "cell_type": "code",
   "execution_count": 154,
   "metadata": {
    "collapsed": false,
    "scrolled": false
   },
   "outputs": [
    {
     "data": {
      "image/png": "[encoded data removed]",
      "text/plain": [
       "<matplotlib.figure.Figure at 0x127876c50>"
      ]
     },
     "metadata": {},
     "output_type": "display_data"
    }
   ],
   "source": [
    "plt.figure(figsize=(20,3))\n",
    "plt.plot(gobj.velValue.agg(lambda x: x.max()-x.min()).values, '.');\n",
    "plt.xticks(np.arange(len(gobj)), list(gobj.groups.keys()), rotation=90);\n",
    "plt.ylim(0,20);\n",
    "plt.xlim(-0.5, len(gobj));\n",
    "plt.grid(axis='y');"
   ]
  },
  {
   "cell_type": "code",
   "execution_count": 159,
   "metadata": {
    "collapsed": false
   },
   "outputs": [],
   "source": [
    "g = gobj.get_group('HIP83867')"
   ]
  },
  {
   "cell_type": "code",
   "execution_count": 160,
   "metadata": {
    "collapsed": false
   },
   "outputs": [
    {
     "data": {
      "text/html": [
       "<div>\n",
       "<table border=\"1\" class=\"dataframe\">\n",
       "  <thead>\n",
       "    <tr style=\"text-align: right;\">\n",
       "      <th></th>\n",
       "      <th>bibcode</th>\n",
       "      <th>hip</th>\n",
       "      <th>hipnospace</th>\n",
       "      <th>nbmes</th>\n",
       "      <th>obsdate</th>\n",
       "      <th>oidref</th>\n",
       "      <th>qual</th>\n",
       "      <th>quality</th>\n",
       "      <th>remark</th>\n",
       "      <th>remarks</th>\n",
       "      <th>velType</th>\n",
       "      <th>velValue</th>\n",
       "      <th>velValue_prec</th>\n",
       "    </tr>\n",
       "  </thead>\n",
       "  <tbody>\n",
       "    <tr>\n",
       "      <th>235</th>\n",
       "      <td>2013A&amp;A...552A..64S</td>\n",
       "      <td>HIP  83867</td>\n",
       "      <td>HIP83867</td>\n",
       "      <td>NaN</td>\n",
       "      <td>NaN</td>\n",
       "      <td>2580459</td>\n",
       "      <td></td>\n",
       "      <td>A</td>\n",
       "      <td></td>\n",
       "      <td></td>\n",
       "      <td>z</td>\n",
       "      <td>-52.079000</td>\n",
       "      <td>3.0</td>\n",
       "    </tr>\n",
       "    <tr>\n",
       "      <th>236</th>\n",
       "      <td>2006AstL...32..759G</td>\n",
       "      <td>HIP  83867</td>\n",
       "      <td>HIP83867</td>\n",
       "      <td>NaN</td>\n",
       "      <td>NaN</td>\n",
       "      <td>2580459</td>\n",
       "      <td></td>\n",
       "      <td>A</td>\n",
       "      <td></td>\n",
       "      <td></td>\n",
       "      <td>V</td>\n",
       "      <td>-51.900000</td>\n",
       "      <td>2.0</td>\n",
       "    </tr>\n",
       "    <tr>\n",
       "      <th>237</th>\n",
       "      <td>2004A&amp;A...418..989N</td>\n",
       "      <td>HIP  83867</td>\n",
       "      <td>HIP83867</td>\n",
       "      <td>4.0</td>\n",
       "      <td>NaN</td>\n",
       "      <td>2580459</td>\n",
       "      <td></td>\n",
       "      <td>A</td>\n",
       "      <td></td>\n",
       "      <td></td>\n",
       "      <td>v</td>\n",
       "      <td>-51.900002</td>\n",
       "      <td>1.0</td>\n",
       "    </tr>\n",
       "    <tr>\n",
       "      <th>238</th>\n",
       "      <td>2013A&amp;A...552A..64S</td>\n",
       "      <td>HIP  83867</td>\n",
       "      <td>HIP83867</td>\n",
       "      <td>NaN</td>\n",
       "      <td>NaN</td>\n",
       "      <td>2580459</td>\n",
       "      <td></td>\n",
       "      <td>A</td>\n",
       "      <td></td>\n",
       "      <td></td>\n",
       "      <td>z</td>\n",
       "      <td>-52.079000</td>\n",
       "      <td>3.0</td>\n",
       "    </tr>\n",
       "    <tr>\n",
       "      <th>239</th>\n",
       "      <td>2006AstL...32..759G</td>\n",
       "      <td>HIP  83867</td>\n",
       "      <td>HIP83867</td>\n",
       "      <td>NaN</td>\n",
       "      <td>NaN</td>\n",
       "      <td>2580459</td>\n",
       "      <td></td>\n",
       "      <td>A</td>\n",
       "      <td></td>\n",
       "      <td></td>\n",
       "      <td>V</td>\n",
       "      <td>-51.900000</td>\n",
       "      <td>2.0</td>\n",
       "    </tr>\n",
       "    <tr>\n",
       "      <th>240</th>\n",
       "      <td>2004A&amp;A...418..989N</td>\n",
       "      <td>HIP  83867</td>\n",
       "      <td>HIP83867</td>\n",
       "      <td>4.0</td>\n",
       "      <td>NaN</td>\n",
       "      <td>2580459</td>\n",
       "      <td></td>\n",
       "      <td>A</td>\n",
       "      <td></td>\n",
       "      <td></td>\n",
       "      <td>v</td>\n",
       "      <td>-51.900002</td>\n",
       "      <td>1.0</td>\n",
       "    </tr>\n",
       "  </tbody>\n",
       "</table>\n",
       "</div>"
      ],
      "text/plain": [
       "                 bibcode         hip hipnospace  nbmes  obsdate   oidref qual  \\\n",
       "235  2013A&A...552A..64S  HIP  83867   HIP83867    NaN      NaN  2580459        \n",
       "236  2006AstL...32..759G  HIP  83867   HIP83867    NaN      NaN  2580459        \n",
       "237  2004A&A...418..989N  HIP  83867   HIP83867    4.0      NaN  2580459        \n",
       "238  2013A&A...552A..64S  HIP  83867   HIP83867    NaN      NaN  2580459        \n",
       "239  2006AstL...32..759G  HIP  83867   HIP83867    NaN      NaN  2580459        \n",
       "240  2004A&A...418..989N  HIP  83867   HIP83867    4.0      NaN  2580459        \n",
       "\n",
       "    quality remark remarks velType   velValue  velValue_prec  \n",
       "235       A                    z   -52.079000            3.0  \n",
       "236       A                    V   -51.900000            2.0  \n",
       "237       A                    v   -51.900002            1.0  \n",
       "238       A                    z   -52.079000            3.0  \n",
       "239       A                    V   -51.900000            2.0  \n",
       "240       A                    v   -51.900002            1.0  "
      ]
     },
     "execution_count": 160,
     "metadata": {},
     "output_type": "execute_result"
    }
   ],
   "source": [
    "g"
   ]
  },
  {
   "cell_type": "code",
   "execution_count": 172,
   "metadata": {
    "collapsed": false
   },
   "outputs": [
    {
     "data": {
      "text/plain": [
       "bibcode          2013A&A...552A..64S\n",
       "hip                       HIP  83867\n",
       "hipnospace                  HIP83867\n",
       "nbmes                            NaN\n",
       "obsdate                          NaN\n",
       "oidref                       2580459\n",
       "qual                                \n",
       "quality                            A\n",
       "remark                              \n",
       "remarks                             \n",
       "velType                          z  \n",
       "velValue                     -52.079\n",
       "velValue_prec                      3\n",
       "Name: 235, dtype: object"
      ]
     },
     "execution_count": 172,
     "metadata": {},
     "output_type": "execute_result"
    }
   ],
   "source": [
    "g.sort_values(by=['quality', 'velValue_prec'], ascending=[True, False]).iloc[0]"
   ]
  },
  {
   "cell_type": "code",
   "execution_count": null,
   "metadata": {
    "collapsed": true
   },
   "outputs": [],
   "source": []
  },
  {
   "cell_type": "code",
   "execution_count": 198,
   "metadata": {
    "collapsed": true
   },
   "outputs": [],
   "source": [
    "# select value with highest precision\n",
    "rows = []\n",
    "for iden, g in gobj:\n",
    "    gsorted = g.sort_values(by=['velValue_prec'])\n",
    "    gsorted = gsorted.loc[~gsorted.velValue_prec.isnull()]\n",
    "    if len(gsorted) == 0:\n",
    "        print(\"{:s} has nothing left\".format(iden))\n",
    "    rows.append(gsorted.iloc[-1])\n",
    "dfbensbyrv_unique = pd.DataFrame(rows)"
   ]
  },
  {
   "cell_type": "code",
   "execution_count": 199,
   "metadata": {
    "collapsed": false
   },
   "outputs": [
    {
     "data": {
      "text/plain": [
       "array(['2007A&A...475..519H', '2002ApJS..141..503N', '2002AJ....124.1144L',\n",
       "       '17AJ....153...7521K', '2006AstL...32..759G', '2010A&A...521A..12M',\n",
       "       '2013A&A...552A..64S', '2011AAS...21743412C', '2008AJ....135..209M',\n",
       "       '2011A&A...526A.112S', '2010A&A...511L..10N', '2011A&A...527A..63M',\n",
       "       '2012MNRAS.422...14H', '2004A&A...424..727P', '2015A&A...574A..50J'], dtype=object)"
      ]
     },
     "execution_count": 199,
     "metadata": {},
     "output_type": "execute_result"
    }
   ],
   "source": [
    "dfbensbyrv_unique.bibcode.unique()"
   ]
  },
  {
   "cell_type": "code",
   "execution_count": 202,
   "metadata": {
    "collapsed": false,
    "scrolled": false
   },
   "outputs": [],
   "source": [
    "dfbensbyrv_unique.to_csv(\"bensbyrv_bestunique.csv\", index=False)"
   ]
  },
  {
   "cell_type": "code",
   "execution_count": 203,
   "metadata": {
    "collapsed": false
   },
   "outputs": [
    {
     "name": "stdout",
     "output_type": "stream",
     "text": [
      "    3149 bensbyrv.csv\r\n",
      "      78 bensbyrv_bestunique.csv\r\n",
      "    3227 total\r\n"
     ]
    }
   ],
   "source": [
    "!wc -l bensbyrv*.csv"
   ]
  },
  {
   "cell_type": "code",
   "execution_count": 40,
   "metadata": {
    "collapsed": false
   },
   "outputs": [],
   "source": [
    "tap.run_sync(\"select * from TAP_SCHEMA.tables where schema_name not like 'TAP_SCHEMA'\").table[['table_name', 'description']].write(\"tables.txt\", format='ascii')"
   ]
  },
  {
   "cell_type": "code",
   "execution_count": 24,
   "metadata": {
    "collapsed": false
   },
   "outputs": [],
   "source": [
    "def pprint_columns_description(tablename):\n",
    "    \"\"\"Pretty print column description table\"\"\"\n",
    "    rows = []\n",
    "    for col in tap.run_sync(\n",
    "        \"select top 0 * from {}\".format(tablename)).table.itercols():\n",
    "        rows.append([col.name, col.dtype.str, col.description])\n",
    "    tt = Table(rows=rows, names=['colname', 'dtype','description'])\n",
    "    return tt"
   ]
  },
  {
   "cell_type": "code",
   "execution_count": null,
   "metadata": {
    "collapsed": true
   },
   "outputs": [],
   "source": []
  }
 ],
 "metadata": {
  "anaconda-cloud": {},
  "kernelspec": {
   "display_name": "Python [conda env:gwb]",
   "language": "python",
   "name": "conda-env-gwb-py"
  },
  "language_info": {
   "codemirror_mode": {
    "name": "ipython",
    "version": 3
   },
   "file_extension": ".py",
   "mimetype": "text/x-python",
   "name": "python",
   "nbconvert_exporter": "python",
   "pygments_lexer": "ipython3",
   "version": "3.5.2"
  }
 },
 "nbformat": 4,
 "nbformat_minor": 2
}
